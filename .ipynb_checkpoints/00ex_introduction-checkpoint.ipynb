{
 "cells": [
  {
   "cell_type": "markdown",
   "metadata": {},
   "source": [
    "1. The MickeyMouse problem\n",
    "\n",
    "a) Write a program that prints the numbers from 1 to 100. But for multiples of 3 print `Mickey` instead of the corresponding number and for the multiples of 5 print `Mouse`. For numbers which are multiples of both three and five print `MickeyMouse`\n",
    "\n",
    "b) Put the result in a tuple and substitute `Mickey` with `Donald` and `Mouse` with `Duck`"
   ]
  },
  {
   "cell_type": "code",
   "execution_count": 15,
   "metadata": {},
   "outputs": [
    {
     "name": "stdout",
     "output_type": "stream",
     "text": [
      "(1, 2, 'Mickey', 4, 'Mouse', 'Mickey', 7, 8, 'Mickey', 'Mouse', 11, 'Mickey', 13, 14, 'Mickey Mouse', 16, 17, 'Mickey', 19, 'Mouse', 'Mickey', 22, 23, 'Mickey', 'Mouse', 26, 'Mickey', 28, 29, 'Mickey Mouse', 31, 32, 'Mickey', 34, 'Mouse', 'Mickey', 37, 38, 'Mickey', 'Mouse', 41, 'Mickey', 43, 44, 'Mickey Mouse', 46, 47, 'Mickey', 49, 'Mouse', 'Mickey', 52, 53, 'Mickey', 'Mouse', 56, 'Mickey', 58, 59, 'Mickey Mouse', 61, 62, 'Mickey', 64, 'Mouse', 'Mickey', 67, 68, 'Mickey', 'Mouse', 71, 'Mickey', 73, 74, 'Mickey Mouse', 76, 77, 'Mickey', 79, 'Mouse', 'Mickey', 82, 83, 'Mickey', 'Mouse', 86, 'Mickey', 88, 89, 'Mickey Mouse', 91, 92, 'Mickey', 94, 'Mouse', 'Mickey', 97, 98, 'Mickey', 'Mouse')\n",
      "(1, 2, 'Mickey', 4, 'Mouse', 'Mickey', 7, 8, 'Mickey', 'Mouse', 11, 'Mickey', 13, 14, 'Mickey Mouse', 16, 17, 'Mickey', 19, 'Mouse', 'Mickey', 22, 23, 'Mickey', 'Mouse', 26, 'Mickey', 28, 29, 'Mickey Mouse', 31, 32, 'Mickey', 34, 'Mouse', 'Mickey', 37, 38, 'Mickey', 'Mouse', 41, 'Mickey', 43, 44, 'Mickey Mouse', 46, 47, 'Mickey', 49, 'Mouse', 'Mickey', 52, 53, 'Mickey', 'Mouse', 56, 'Mickey', 58, 59, 'Mickey Mouse', 61, 62, 'Mickey', 64, 'Mouse', 'Mickey', 67, 68, 'Mickey', 'Mouse', 71, 'Mickey', 73, 74, 'Mickey Mouse', 76, 77, 'Mickey', 79, 'Mouse', 'Mickey', 82, 83, 'Mickey', 'Mouse', 86, 'Mickey', 88, 89, 'Mickey Mouse', 91, 92, 'Mickey', 94, 'Mouse', 'Mickey', 97, 98, 'Mickey', 'Mouse')\n"
     ]
    }
   ],
   "source": [
    "l = []\n",
    "t = () #when putting just one element, comma after the variable\n",
    "\n",
    "for i in range(1,101):\n",
    "    if(i%3 == 0 and i%5 != 0):\n",
    "        #print(\"Mickey\")\n",
    "        #l.append(\"Mickey\")\n",
    "        t = t + (\"Mickey\",)\n",
    "    elif(i%5 == 0 and i%3 != 0):\n",
    "        #print(\"Mouse\")\n",
    "        #l.append(\"Mouse\")\n",
    "        t = t + (\"Mouse\",)\n",
    "    elif(i%3 == 0 and i%5 == 0):\n",
    "        #print(\"Mickey Mouse\")\n",
    "        #l.append(\"Mickey Mouse\")\n",
    "        t = t + (\"Mickey Mouse\",)\n",
    "    else:\n",
    "        #print(i)\n",
    "        #l.append(i)\n",
    "        t = t + (i,)\n",
    "        \n",
    "print(t)\n",
    "l = list(t)\n",
    "\n",
    "#for i in range(len(l)):\n",
    "#    if type(l[i]) == str:\n",
    "#        l[i] = l[i].replace(\"Mickey\", \"Donald\")\n",
    "#        l[i] = l[i].replace(\"Mouse\",\"Duck\")\n",
    "\n",
    "for i in l:\n",
    "    if type(i) == str:\n",
    "        i = i.replace(\"Mickey\", \"Donald\")\n",
    "        i = i.replace(\"Mouse\",\"Duck\")\n",
    "\n",
    "t = tuple(l)\n",
    "print(t)"
   ]
  },
  {
   "cell_type": "markdown",
   "metadata": {},
   "source": [
    "2\\. The swap function\n",
    "\n",
    "Write a function that swap the values of two input variables x and y (whatever the type). Try to do that also without a temporary variable"
   ]
  },
  {
   "cell_type": "code",
   "execution_count": 2,
   "metadata": {},
   "outputs": [
    {
     "name": "stdout",
     "output_type": "stream",
     "text": [
      "(2, 1)\n",
      "(4, 3)\n"
     ]
    },
    {
     "data": {
      "text/plain": [
       "(2, 3, 1)"
      ]
     },
     "execution_count": 2,
     "metadata": {},
     "output_type": "execute_result"
    }
   ],
   "source": [
    "def swapper(x,y):\n",
    "    z = x\n",
    "    x = y\n",
    "    y = z\n",
    "    return x,y\n",
    "\n",
    "def swapper1(x,y):\n",
    "    x,y = y,x\n",
    "    return x,y\n",
    "\n",
    "def permuter(x,y,z):\n",
    "    x,y,z = y,z,x\n",
    "    return x,y,z\n",
    "    \n",
    "print(swapper(1,2))\n",
    "print(swapper1(3,4))\n",
    "permuter(1,2,3)"
   ]
  },
  {
   "cell_type": "markdown",
   "metadata": {},
   "source": [
    "3\\. Computing the distance\n",
    "\n",
    "Write a function that calculates and returns the euclidean distance between two points *u* and *v*, where *u* and *v* are both 2-tuples *(x,y)*. For example, if *u=(3,0)* and *v=(0,4)*, the function should return 5"
   ]
  },
  {
   "cell_type": "code",
   "execution_count": 3,
   "metadata": {},
   "outputs": [
    {
     "data": {
      "text/plain": [
       "1.4142135623730951"
      ]
     },
     "execution_count": 3,
     "metadata": {},
     "output_type": "execute_result"
    }
   ],
   "source": [
    "import math\n",
    "\n",
    "def distance(u,v):\n",
    "    d = 0\n",
    "    if(len(u) != len(v)):\n",
    "        print(\"ERROR: coordinate points belong to two different spaces!\")\n",
    "    else:\n",
    "        for i in range(len(u)):\n",
    "            d += (u[i] - v[i])**2\n",
    "        return math.sqrt(d)\n",
    "\n",
    "u = (1,0)\n",
    "v = (0,1)\n",
    "\n",
    "distance(u,v)"
   ]
  },
  {
   "cell_type": "markdown",
   "metadata": {},
   "source": [
    "4\\. Counting letters\n",
    "\n",
    "Write a program to calculate the number of times each character occurs in a given string *s*. Ignore differneces in capitalization"
   ]
  },
  {
   "cell_type": "code",
   "execution_count": 7,
   "metadata": {},
   "outputs": [
    {
     "name": "stdout",
     "output_type": "stream",
     "text": [
      "Count occurrences of letter w\n",
      "Occurrences of letter w : 1\n"
     ]
    }
   ],
   "source": [
    "s=\"Write\"# a program that prints the numbers from 1 to 100\"#. \\\n",
    "#But for multiples of three print Mickey instead of the number and for the multiples of five print Mouse. \\\n",
    "#For numbers which are multiples of both three and five print MickeyMouse\"\n",
    "\n",
    "s1 = s.lower()\n",
    "\n",
    "c = input(\"Count occurrences of letter \")\n",
    "print(\"Occurrences of letter\", c, \":\", s1.count(c))"
   ]
  },
  {
   "cell_type": "markdown",
   "metadata": {},
   "source": [
    "5\\. Isolating the unique\n",
    "\n",
    "Write a function that determines and count the unique numbers in the list *l*"
   ]
  },
  {
   "cell_type": "code",
   "execution_count": 129,
   "metadata": {},
   "outputs": [
    {
     "name": "stdout",
     "output_type": "stream",
     "text": [
      "Length of l: 81\n",
      "Max value in the list: 99\n",
      "(Number, count): [(1, 1), (3, 2), (5, 1), (8, 1), (9, 1), (10, 1), (16, 1), (18, 1), (19, 1), (20, 3), (24, 1), (30, 1), (31, 2), (33, 1), (34, 2), (36, 4), (37, 1), (39, 1), (41, 1), (42, 2), (45, 3), (47, 1), (50, 2), (51, 3), (53, 1), (54, 1), (55, 1), (56, 2), (57, 1), (58, 1), (63, 2), (64, 1), (66, 2), (70, 3), (72, 1), (74, 1), (75, 1), (79, 1), (81, 1), (82, 1), (84, 4), (85, 3), (86, 1), (87, 1), (88, 1), (89, 2), (90, 1), (91, 3), (92, 1), (94, 1), (95, 1), (96, 1), (98, 1)]\n",
      "Length of u: 54 ; total counts: 81\n"
     ]
    }
   ],
   "source": [
    "l = [36, 45, 36, 58, 3, 74, 96, 64, 45, 31, 10, 24, 19, 33, 86, 99, 18, 63, 70, 85,\n",
    " 85, 63, 47, 56, 42, 70, 84, 88, 55, 20, 54, 8, 56, 51, 79, 81, 57, 37, 91,\n",
    " 1, 84, 84, 36, 66, 9, 89, 50, 42, 91, 50, 95, 90, 98, 39, 16, 82, 31, 92, 41,\n",
    " 45, 30, 66, 70, 34, 85, 94, 5, 3, 36, 72, 91, 84, 34, 87, 75, 53, 51, 20, 89, 51, 20]\n",
    "\n",
    "print(\"Length of l:\", len(l))\n",
    "\n",
    "def maxList(x):\n",
    "    max = x[0]\n",
    "    for i in x:\n",
    "        if i > max:\n",
    "            max = i\n",
    "    return max\n",
    "\n",
    "print(\"Max value in the list:\", maxList(l))\n",
    "\n",
    "#u = []\n",
    "\n",
    "#for i in range(1,101):\n",
    "#    c = l.count(i)\n",
    "#    if c > 0:\n",
    "#        u.append([i,c])\n",
    "\n",
    "def count(x):\n",
    "    u = [(i,x.count(i)) for i in range(1,maxList(x)) if x.count(i) > 0]\n",
    "    return u\n",
    "\n",
    "sum = 0\n",
    "for i in range(len(u)):\n",
    "    sum += u[i][1]\n",
    "\n",
    "print(\"(Number, count):\", count(l))\n",
    "print(\"Length of u:\", len(u), \"; total counts:\", sum)"
   ]
  },
  {
   "cell_type": "markdown",
   "metadata": {},
   "source": [
    "6\\. Combination of functions\n",
    "\n",
    "Write two functions - one that returns the square of a number, and one that returns the cube. Now write a third function that returns the number raised to the 6th power using the two previous functions."
   ]
  },
  {
   "cell_type": "code",
   "execution_count": 9,
   "metadata": {},
   "outputs": [
    {
     "name": "stdout",
     "output_type": "stream",
     "text": [
      "64\n",
      "64\n"
     ]
    }
   ],
   "source": [
    "def square(x):\n",
    "    return x**2\n",
    "\n",
    "def cube(x):\n",
    "    return x**3\n",
    "\n",
    "print(square(cube(2)))\n",
    "print(cube(square(2)))"
   ]
  },
  {
   "cell_type": "markdown",
   "metadata": {},
   "source": [
    "7\\. Cubes\n",
    "\n",
    "Create a list of the cubes of x for x in *[0, 10]* using:\n",
    "\n",
    "a) a for loop\n",
    "\n",
    "b) a list comprehension"
   ]
  },
  {
   "cell_type": "code",
   "execution_count": 12,
   "metadata": {},
   "outputs": [
    {
     "name": "stdout",
     "output_type": "stream",
     "text": [
      "[0, 1, 8, 27, 64, 125, 216, 343, 512, 729, 1000]\n",
      "[0, 1, 8, 27, 64, 125, 216, 343, 512, 729, 1000]\n"
     ]
    }
   ],
   "source": [
    "l = []\n",
    "\n",
    "for i in range(0,11):\n",
    "    l.append(cube(i))\n",
    "\n",
    "print(l)\n",
    "\n",
    "l1 = [cube(i) for i in range(0,11)]\n",
    "\n",
    "print(l1)"
   ]
  },
  {
   "cell_type": "markdown",
   "metadata": {},
   "source": [
    "8\\. Nested list comprehension\n",
    "\n",
    "A Pythagorean triple is an integer solution to the Pythagorean theorem $a^2+b^2=c^2$. The first Pythagorean triple is (3,4,5). Find and put in a tuple all unique Pythagorean triples for the positive integers a, b and c less than 100."
   ]
  },
  {
   "cell_type": "code",
   "execution_count": 53,
   "metadata": {},
   "outputs": [
    {
     "name": "stdout",
     "output_type": "stream",
     "text": [
      "104\n",
      "((3, 4, 5), (4, 3, 5), (5, 12, 13), (6, 8, 10), (7, 24, 25), (8, 6, 10), (8, 15, 17), (9, 12, 15), (9, 40, 41), (10, 24, 26), (11, 60, 61), (12, 5, 13), (12, 9, 15), (12, 16, 20), (12, 35, 37), (13, 84, 85), (14, 48, 50), (15, 8, 17), (15, 20, 25), (15, 36, 39), (16, 12, 20), (16, 30, 34), (16, 63, 65), (18, 24, 30), (18, 80, 82), (20, 15, 25), (20, 21, 29), (20, 48, 52), (21, 20, 29), (21, 28, 35), (21, 72, 75), (24, 7, 25), (24, 10, 26), (24, 18, 30), (24, 32, 40), (24, 45, 51), (24, 70, 74), (25, 60, 65), (27, 36, 45), (28, 21, 35), (28, 45, 53), (28, 96, 100), (30, 16, 34), (30, 40, 50), (30, 72, 78), (32, 24, 40), (32, 60, 68), (33, 44, 55), (33, 56, 65), (35, 12, 37), (35, 84, 91), (36, 15, 39), (36, 27, 45), (36, 48, 60), (36, 77, 85), (39, 52, 65), (39, 80, 89), (40, 9, 41), (40, 30, 50), (40, 42, 58), (40, 75, 85), (42, 40, 58), (42, 56, 70), (44, 33, 55), (45, 24, 51), (45, 28, 53), (45, 60, 75), (48, 14, 50), (48, 20, 52), (48, 36, 60), (48, 55, 73), (48, 64, 80), (51, 68, 85), (52, 39, 65), (54, 72, 90), (55, 48, 73), (56, 33, 65), (56, 42, 70), (57, 76, 95), (60, 11, 61), (60, 25, 65), (60, 32, 68), (60, 45, 75), (60, 63, 87), (60, 80, 100), (63, 16, 65), (63, 60, 87), (64, 48, 80), (65, 72, 97), (68, 51, 85), (70, 24, 74), (72, 21, 75), (72, 30, 78), (72, 54, 90), (72, 65, 97), (75, 40, 85), (76, 57, 95), (77, 36, 85), (80, 18, 82), (80, 39, 89), (80, 60, 100), (84, 13, 85), (84, 35, 91), (96, 28, 100))\n",
      "((3, 4, 5), (4, 3, 5), (5, 12, 13), (6, 8, 10), (7, 24, 25), (8, 6, 10), (8, 15, 17), (9, 12, 15), (9, 40, 41), (10, 24, 26), (11, 60, 61), (12, 5, 13), (12, 9, 15), (12, 16, 20), (12, 35, 37), (13, 84, 85), (14, 48, 50), (15, 8, 17), (15, 20, 25), (15, 36, 39), (16, 12, 20), (16, 30, 34), (16, 63, 65), (18, 24, 30), (18, 80, 82), (20, 15, 25), (20, 21, 29), (20, 48, 52), (21, 20, 29), (21, 28, 35), (21, 72, 75), (24, 7, 25), (24, 10, 26), (24, 18, 30), (24, 32, 40), (24, 45, 51), (24, 70, 74), (25, 60, 65), (27, 36, 45), (28, 21, 35), (28, 45, 53), (28, 96, 100), (30, 16, 34), (30, 40, 50), (30, 72, 78), (32, 24, 40), (32, 60, 68), (33, 44, 55), (33, 56, 65), (35, 12, 37), (35, 84, 91), (36, 15, 39), (36, 27, 45), (36, 48, 60), (36, 77, 85), (39, 52, 65), (39, 80, 89), (40, 9, 41), (40, 30, 50), (40, 42, 58), (40, 75, 85), (42, 40, 58), (42, 56, 70), (44, 33, 55), (45, 24, 51), (45, 28, 53), (45, 60, 75), (48, 14, 50), (48, 20, 52), (48, 36, 60), (48, 55, 73), (48, 64, 80), (51, 68, 85), (52, 39, 65), (54, 72, 90), (55, 48, 73), (56, 33, 65), (56, 42, 70), (57, 76, 95), (60, 11, 61), (60, 25, 65), (60, 32, 68), (60, 45, 75), (60, 63, 87), (60, 80, 100), (63, 16, 65), (63, 60, 87), (64, 48, 80), (65, 72, 97), (68, 51, 85), (70, 24, 74), (72, 21, 75), (72, 30, 78), (72, 54, 90), (72, 65, 97), (75, 40, 85), (76, 57, 95), (77, 36, 85), (80, 18, 82), (80, 39, 89), (80, 60, 100), (84, 13, 85), (84, 35, 91), (96, 28, 100))\n"
     ]
    }
   ],
   "source": [
    "#There is no tuple comprehension, so use a generator expression and convert generator object to tuple\n",
    "#newlist = [expression for item in iterable if condition == True]\n",
    "\n",
    "i = 0\n",
    "t = ()\n",
    "\n",
    "for a in range(1,101):\n",
    "    for b in range(1,101):\n",
    "        for c in range(0,101):\n",
    "            sum = a**2 + b**2 - c**2\n",
    "            if(sum == 0):\n",
    "                t = t + ((a,b,c),)\n",
    "                i += 1\n",
    "print(i)\n",
    "print(t)\n",
    "\n",
    "a = b = c = 0\n",
    "\n",
    "l = [(a,b,c) for a in range(1,101) for b in range(1,101) for c in range(1,101) if a**2 + b**2 - c**2 == 0] #list of tuples\n",
    "\n",
    "print(tuple(l))\n",
    "\n"
   ]
  },
  {
   "cell_type": "markdown",
   "metadata": {},
   "source": [
    "9\\. Normalization\n",
    "\n",
    "Write a function that takes a tuple of numbers and returns it with the entries normalized to one"
   ]
  },
  {
   "cell_type": "code",
   "execution_count": 147,
   "metadata": {},
   "outputs": [
    {
     "data": {
      "text/plain": [
       "(1.0, 0.0, 0.0)"
      ]
     },
     "execution_count": 147,
     "metadata": {},
     "output_type": "execute_result"
    }
   ],
   "source": [
    "def normalizer(x):\n",
    "    sum = 0\n",
    "    x = list(x)\n",
    "    for i in x:\n",
    "        sum += i**2\n",
    "    sum = math.sqrt(sum)\n",
    "    for i in range(len(x)):\n",
    "        x[i] = x[i]/sum\n",
    "    return tuple(x)\n",
    "        \n",
    "u = (1,0,0)\n",
    "\n",
    "normalizer(u)"
   ]
  }
 ],
 "metadata": {
  "kernelspec": {
   "display_name": "Python 3 (ipykernel)",
   "language": "python",
   "name": "python3"
  },
  "language_info": {
   "codemirror_mode": {
    "name": "ipython",
    "version": 3
   },
   "file_extension": ".py",
   "mimetype": "text/x-python",
   "name": "python",
   "nbconvert_exporter": "python",
   "pygments_lexer": "ipython3",
   "version": "3.9.12"
  }
 },
 "nbformat": 4,
 "nbformat_minor": 2
}
