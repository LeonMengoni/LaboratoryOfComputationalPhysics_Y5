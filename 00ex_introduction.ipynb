{
 "cells": [
  {
   "cell_type": "markdown",
   "metadata": {},
   "source": [
    "1. The MickeyMouse problem\n",
    "\n",
    "a) Write a program that prints the numbers from 1 to 100. But for multiples of 3 print `Mickey` instead of the corresponding number and for the multiples of 5 print `Mouse`. For numbers which are multiples of both three and five print `MickeyMouse`\n",
    "\n",
    "b) Put the result in a tuple and substitute `Mickey` with `Donald` and `Mouse` with `Duck`"
   ]
  },
  {
   "cell_type": "code",
   "execution_count": 1,
   "metadata": {},
   "outputs": [
    {
     "name": "stdout",
     "output_type": "stream",
     "text": [
      "(1, 2, 'Donald', 4, 'Duck', 'Donald', 7, 8, 'Donald', 'Duck', 11, 'Donald', 13, 14, 'Donald Duck', 16, 17, 'Donald', 19, 'Duck', 'Donald', 22, 23, 'Donald', 'Duck', 26, 'Donald', 28, 29, 'Donald Duck', 31, 32, 'Donald', 34, 'Duck', 'Donald', 37, 38, 'Donald', 'Duck', 41, 'Donald', 43, 44, 'Donald Duck', 46, 47, 'Donald', 49, 'Duck', 'Donald', 52, 53, 'Donald', 'Duck', 56, 'Donald', 58, 59, 'Donald Duck', 61, 62, 'Donald', 64, 'Duck', 'Donald', 67, 68, 'Donald', 'Duck', 71, 'Donald', 73, 74, 'Donald Duck', 76, 77, 'Donald', 79, 'Duck', 'Donald', 82, 83, 'Donald', 'Duck', 86, 'Donald', 88, 89, 'Donald Duck', 91, 92, 'Donald', 94, 'Duck', 'Donald', 97, 98, 'Donald', 'Duck')\n"
     ]
    }
   ],
   "source": [
    "# a)\n",
    "\n",
    "# 1) With empty tuple:\n",
    "t = () #when putting just one element, comma after the variable\n",
    "for i in range(1,101):\n",
    "    if(i%3 == 0 and i%5 != 0):\n",
    "        t = t + (\"Mickey\",)\n",
    "    elif(i%5 == 0 and i%3 != 0):\n",
    "        t = t + (\"Mouse\",)\n",
    "    elif(i%3 == 0 and i%5 == 0):\n",
    "        t = t + (\"Mickey Mouse\",)\n",
    "    else:\n",
    "        t = t + (i,)\n",
    "#print(t)\n",
    "\n",
    "# 2) With initialized list from 1 to 100:\n",
    "li = [i for i in range(1,101)]\n",
    "\n",
    "for i in range(1,len(li)+1):\n",
    "    if(i%3 == 0 and i%5 != 0):\n",
    "        li[i-1] = \"Mickey\"\n",
    "    elif(i%5 == 0 and i%3 != 0):\n",
    "        li[i-1] = \"Mouse\"\n",
    "    elif(i%3 == 0 and i%5 == 0):\n",
    "        li[i-1] = \"Mickey Mouse\"\n",
    "#print(li)\n",
    "\n",
    "# 3) With empty list:\n",
    "l = []\n",
    "for i in range(1,101):\n",
    "    if(i%3 == 0 and i%5 != 0):\n",
    "        l.append(\"Mickey\")\n",
    "    elif(i%5 == 0 and i%3 != 0):\n",
    "        l.append(\"Mouse\")\n",
    "    elif(i%3 == 0 and i%5 == 0):\n",
    "        l.append(\"Mickey Mouse\")\n",
    "    else:\n",
    "        l.append(i)\n",
    "#print(l)\n",
    "\n",
    "\n",
    "# b)\n",
    "\n",
    "for i in range(0,len(l)):\n",
    "    if type(l[i]) == str:\n",
    "        l[i] = l[i].replace(\"Mickey\", \"Donald\")\n",
    "        l[i] = l[i].replace(\"Mouse\",\"Duck\")\n",
    "\n",
    "t = tuple(l)\n",
    "print(t)"
   ]
  },
  {
   "cell_type": "markdown",
   "metadata": {},
   "source": [
    "2\\. The swap function\n",
    "\n",
    "a) Write a function that swap the values of two input variables x and y (whatever the type). Try to do that also without a temporary variable.\n",
    "\n",
    "b) Write a function that takes in input n variables and outputs a shifted list of them."
   ]
  },
  {
   "cell_type": "code",
   "execution_count": 2,
   "metadata": {},
   "outputs": [
    {
     "name": "stdout",
     "output_type": "stream",
     "text": [
      "(3, 4, 5, 1, 2)\n",
      "(4, 5, 1, 2, 3)\n"
     ]
    }
   ],
   "source": [
    "# a)\n",
    "\n",
    "def swapper(x,y):\n",
    "    z = x\n",
    "    x = y\n",
    "    y = z\n",
    "    return x,y\n",
    "\n",
    "def swapper1(x,y):\n",
    "    x,y = y,x\n",
    "    return x,y\n",
    "\n",
    "#print(swapper(1,2))\n",
    "#print(swapper1(3,4))\n",
    "\n",
    "\n",
    "# b)\n",
    "\n",
    "def rotateleft(l,n):\n",
    "    return l[n:] + l[:n]\n",
    "\n",
    "def rotateright(l,m):\n",
    "    return l[(len(l)-m):] + l[:(len(l)-m)]\n",
    "\n",
    "print(rotateleft((1,2,3,4,5),2))\n",
    "print(rotateright((1,2,3,4,5),2))"
   ]
  },
  {
   "cell_type": "markdown",
   "metadata": {},
   "source": [
    "3\\. Computing the distance\n",
    "\n",
    "Write a function that calculates and returns the euclidean distance between two points *u* and *v*, where *u* and *v* are both 2-tuples *(x,y)*. For example, if *u=(3,0)* and *v=(0,4)*, the function should return 5"
   ]
  },
  {
   "cell_type": "code",
   "execution_count": 3,
   "metadata": {},
   "outputs": [
    {
     "name": "stdout",
     "output_type": "stream",
     "text": [
      "5.0\n",
      "1.4142135623730951\n"
     ]
    }
   ],
   "source": [
    "import math as m\n",
    "\n",
    "def distance(u,v):\n",
    "    d = 0\n",
    "    if(len(u) != len(v)):\n",
    "        print(\"ERROR: coordinate points belong to two different spaces!\")\n",
    "    else:\n",
    "        for i in range(len(u)):\n",
    "            d += (u[i] - v[i])**2\n",
    "        return d**0.5\n",
    "\n",
    "def distance1(u,v):\n",
    "    d = 0\n",
    "    if(len(u) != len(v)):\n",
    "        print(\"ERROR: coordinate points belong to two different spaces!\")\n",
    "    else:\n",
    "        for i in range(len(u)):\n",
    "            d += (u[i] - v[i])**2\n",
    "        return m.sqrt(d)\n",
    "\n",
    "\n",
    "u = (1,0)\n",
    "v = (0,1)\n",
    "\n",
    "print(distance((3,0),(0,4)))\n",
    "print(distance1(u,v))"
   ]
  },
  {
   "cell_type": "markdown",
   "metadata": {},
   "source": [
    "4\\. Counting letters\n",
    "\n",
    "Write a program to calculate the number of times each character occurs in a given string *s*. Ignore differences in capitalization"
   ]
  },
  {
   "cell_type": "code",
   "execution_count": 99,
   "metadata": {},
   "outputs": [
    {
     "data": {
      "text/plain": [
       "<BarContainer object of 26 artists>"
      ]
     },
     "execution_count": 99,
     "metadata": {},
     "output_type": "execute_result"
    },
    {
     "data": {
      "image/png": "[encoded data removed]",
      "text/plain": [
       "<Figure size 432x288 with 1 Axes>"
      ]
     },
     "metadata": {
      "needs_background": "light"
     },
     "output_type": "display_data"
    }
   ],
   "source": [
    "from string import ascii_lowercase\n",
    "import matplotlib.pyplot as plt\n",
    "\n",
    "# 1) Initialize empty dictionary: two ways\n",
    "\n",
    "d = {}\n",
    "d1 = dict()\n",
    "\n",
    "\n",
    "# 2) Fill empty dictionary with only keys from a list: four ways\n",
    "\n",
    "for i in ascii_lowercase:\n",
    "    d[i] = None\n",
    "\n",
    "d1 = {key: None for key in ascii_lowercase} #dictionary comprehension\n",
    "\n",
    "d2 = dict(zip(ascii_lowercase, [None]*len(ascii_lowercase))) #zip function\n",
    "\n",
    "d3 = dict.fromkeys(ascii_lowercase) #dict.fromkeys(KeyList, value=None (default))\n",
    "\n",
    "\n",
    "# 3) Initialize dictionary with keys and values:\n",
    "\n",
    "d = dict(a=4,b=5,c=2,z=\"weather\") #passing parameters\n",
    "\n",
    "d1 = {\"a\":4,\"b\":5,\"c\":2,\"z\":\"weather\"} #with literals\n",
    "\n",
    "d2 = dict(zip(ascii_lowercase,range(26))) #two lists: keys and key values, length is length of key values\n",
    "\n",
    "l = [i for i in range(26)]\n",
    "d3 = {i:a for a in ascii_lowercase for i in l} #the key values are always the last value in l: l[-1]\n",
    "\n",
    "\n",
    "# 4) Create dictionary with letters and occurrences in a given string\n",
    "\n",
    "def classifier(s):\n",
    "    d = dict(zip(ascii_lowercase, [None]*len(ascii_lowercase)))\n",
    "    for i in ascii_lowercase:\n",
    "        d[i] = s.count(i)\n",
    "    return(d)\n",
    "\n",
    "s=\"Write a program that prints the numbers from 1 to 100. But for multiples of three print Mickey instead of the number and for the multiples of five print Mouse. For numbers which are multiples of both three and five print MickeyMouse\"\n",
    "s = s.lower()\n",
    "#print(len(s))\n",
    "#print(sum(classifier(s).values()))\n",
    "d = classifier(s)\n",
    "\n",
    "\n",
    "# 5) Plot occurrences\n",
    "plt.bar(d.keys(), d.values(), color='g')\n",
    "\n"
   ]
  },
  {
   "cell_type": "markdown",
   "metadata": {},
   "source": [
    "5\\. Isolating the unique\n",
    "\n",
    "a) Write a function that determines minimum and maximum values in a list of numbers\n",
    "\n",
    "b) Write a function that counts the unique numbers in the list *l*"
   ]
  },
  {
   "cell_type": "code",
   "execution_count": 139,
   "metadata": {},
   "outputs": [
    {
     "name": "stdout",
     "output_type": "stream",
     "text": [
      "Length of l: 81\n",
      "Min and max values in the list: (1, 99)\n",
      "[36, 45, 58, 3, 74, 96, 64, 31, 10, 24, 19, 33, 86, 99, 18, 63, 70, 85, 47, 56, 42, 84, 88, 55, 20, 54, 8, 51, 79, 81, 57, 37, 91, 1, 66, 9, 89, 50, 95, 90, 98, 39, 16, 82, 92, 41, 30, 34, 94, 5, 72, 87, 75, 53]\n",
      "54\n",
      "[1, 3, 5, 8, 9, 10, 16, 18, 19, 20, 24, 30, 31, 33, 34, 36, 37, 39, 41, 42, 45, 47, 50, 51, 53, 54, 55, 56, 57, 58, 63, 64, 66, 70, 72, 74, 75, 79, 81, 82, 84, 85, 86, 87, 88, 89, 90, 91, 92, 94, 95, 96, 98, 99]\n",
      "54\n"
     ]
    }
   ],
   "source": [
    "l = [36, 45, 36, 58, 3, 74, 96, 64, 45, 31, 10, 24, 19, 33, 86, 99, 18, 63, 70, 85,\n",
    " 85, 63, 47, 56, 42, 70, 84, 88, 55, 20, 54, 8, 56, 51, 79, 81, 57, 37, 91,\n",
    " 1, 84, 84, 36, 66, 9, 89, 50, 42, 91, 50, 95, 90, 98, 39, 16, 82, 31, 92, 41,\n",
    " 45, 30, 66, 70, 34, 85, 94, 5, 3, 36, 72, 91, 84, 34, 87, 75, 53, 51, 20, 89, 51, 20]\n",
    "\n",
    "print(\"Length of l:\", len(l))\n",
    "\n",
    "\n",
    "# a)\n",
    "\n",
    "def min_and_max(x):\n",
    "    max = x[0]\n",
    "    min = x[0]\n",
    "    for i in x:\n",
    "        if i > max:\n",
    "            max = i\n",
    "        if i < min:\n",
    "            min = i\n",
    "    return min,max\n",
    "\n",
    "print(\"Min and max values in the list:\", min_and_max(l))\n",
    "\n",
    "\n",
    "# b) \n",
    "\n",
    "def unique(x):\n",
    "    u = []\n",
    "    for i in x:\n",
    "        if i not in u:\n",
    "            u.append(i)\n",
    "    return u\n",
    "\n",
    "print(unique(l))\n",
    "print(len(unique(l)))\n",
    "\n",
    "#Use sets:\n",
    "\n",
    "def unique1(x):\n",
    "    s = set(x)\n",
    "    u = list(s)\n",
    "    return u\n",
    "\n",
    "print(unique1(l))\n",
    "print(len(unique1(l)))"
   ]
  },
  {
   "cell_type": "markdown",
   "metadata": {},
   "source": [
    "6\\. Combination of functions\n",
    "\n",
    "Write two functions - one that returns the square of a number, and one that returns the cube. Now write a third function that returns the number raised to the 6th power using the two previous functions."
   ]
  },
  {
   "cell_type": "code",
   "execution_count": 140,
   "metadata": {},
   "outputs": [
    {
     "name": "stdout",
     "output_type": "stream",
     "text": [
      "64\n",
      "64\n"
     ]
    }
   ],
   "source": [
    "def square(x):\n",
    "    return x**2\n",
    "\n",
    "def cube(x):\n",
    "    return x**3\n",
    "\n",
    "print(square(cube(2)))\n",
    "print(cube(square(2)))"
   ]
  },
  {
   "cell_type": "markdown",
   "metadata": {},
   "source": [
    "7\\. Cubes\n",
    "\n",
    "Create a list of the cubes of x for x in *[0, 10]* using:\n",
    "\n",
    "a) a for loop\n",
    "\n",
    "b) a list comprehension"
   ]
  },
  {
   "cell_type": "code",
   "execution_count": 152,
   "metadata": {},
   "outputs": [
    {
     "name": "stdout",
     "output_type": "stream",
     "text": [
      "[0, 1000, 8000, 27000, 64000, 125000, 216000, 343000, 512000, 729000, 1000000]\n",
      "[0, 1000, 8000, 27000, 64000, 125000, 216000, 343000, 512000, 729000, 1000000]\n"
     ]
    }
   ],
   "source": [
    "# a)\n",
    "\n",
    "def list_of_cubes(x):\n",
    "    for i in range(len(x)):\n",
    "        x[i] = x[i]**3\n",
    "    return x\n",
    "\n",
    "l = [i for i in range(0,101,10)]\n",
    "print(list_of_cubes(l))\n",
    "\n",
    "\n",
    "# b)\n",
    "\n",
    "l1 = [cube(i) for i in range(0,101,10)]\n",
    "print(l1)"
   ]
  },
  {
   "cell_type": "markdown",
   "metadata": {},
   "source": [
    "8\\. Nested list comprehension\n",
    "\n",
    "A Pythagorean triple is an integer solution to the Pythagorean theorem $a^2+b^2=c^2$. The first Pythagorean triple is (3,4,5). Find and put in a tuple all unique Pythagorean triples for the positive integers a, b and c less than 100."
   ]
  },
  {
   "cell_type": "code",
   "execution_count": 105,
   "metadata": {},
   "outputs": [
    {
     "name": "stdout",
     "output_type": "stream",
     "text": [
      "The number of \u001b[1mnon primitive, unique\u001b[0m Pythagorean triples for integers less than 100 is 52 and they are:  [[3, 4, 5], [6, 8, 10], [5, 12, 13], [9, 12, 15], [8, 15, 17], [12, 16, 20], [15, 20, 25], [7, 24, 25], [10, 24, 26], [20, 21, 29], [18, 24, 30], [16, 30, 34], [21, 28, 35], [12, 35, 37], [15, 36, 39], [24, 32, 40], [9, 40, 41], [27, 36, 45], [30, 40, 50], [14, 48, 50], [24, 45, 51], [20, 48, 52], [28, 45, 53], [33, 44, 55], [40, 42, 58], [36, 48, 60], [11, 60, 61], [39, 52, 65], [33, 56, 65], [25, 60, 65], [16, 63, 65], [32, 60, 68], [42, 56, 70], [48, 55, 73], [24, 70, 74], [45, 60, 75], [21, 72, 75], [30, 72, 78], [48, 64, 80], [18, 80, 82], [51, 68, 85], [40, 75, 85], [36, 77, 85], [13, 84, 85], [60, 63, 87], [39, 80, 89], [54, 72, 90], [35, 84, 91], [57, 76, 95], [65, 72, 97], [60, 80, 100], [28, 96, 100]]\n",
      "The number of \u001b[1mprimitive\u001b[0m Pythagorean triples for integers less than 100 is 16 and they are: \n",
      "[[3, 4, 5], [5, 12, 13], [8, 15, 17], [7, 24, 25], [20, 21, 29], [12, 35, 37], [9, 40, 41], [28, 45, 53], [11, 60, 61], [33, 56, 65], [16, 63, 65], [48, 55, 73], [36, 77, 85], [13, 84, 85], [39, 80, 89], [65, 72, 97]]\n"
     ]
    }
   ],
   "source": [
    "class color:\n",
    "   PURPLE = '\\033[95m'\n",
    "   CYAN = '\\033[96m'\n",
    "   DARKCYAN = '\\033[36m'\n",
    "   BLUE = '\\033[94m'\n",
    "   GREEN = '\\033[92m'\n",
    "   YELLOW = '\\033[93m'\n",
    "   RED = '\\033[91m'\n",
    "   BOLD = '\\033[1m'\n",
    "   UNDERLINE = '\\033[4m'\n",
    "   END = '\\033[0m'\n",
    "\n",
    "# 1) Function\n",
    "\n",
    "def Pythagorean_triples(n, ):\n",
    "    l = []\n",
    "    for c in range(1,n+1):\n",
    "        for b in range(1,c):\n",
    "            for a in range(1,b):\n",
    "                sum = a**2 + b**2 - c**2\n",
    "                if(sum == 0):\n",
    "                    l.append([a,b,c])\n",
    "    print(\"The number of\", color.BOLD + \"non primitive, unique\" + color.END, \"Pythagorean triples for integers less than\", n, \"is\", len(l), \"and they are: \", l)\n",
    "    for triple in l:\n",
    "        for j in range(2,n//triple[2] + 1):\n",
    "            new_triple = [i*j for i in triple]\n",
    "            l.remove(new_triple)\n",
    "    print(\"The number of\", color.BOLD + \"primitive\" + color.END, \"Pythagorean triples for integers less than\", n, \"is\", len(l), \"and they are: \")\n",
    "    return l\n",
    "\n",
    "n = 100\n",
    "l = Pythagorean_triples(n)\n",
    "print(l)\n",
    "\n",
    "\n",
    "# b)\n",
    "\n",
    "n = 40\n",
    "l = [(a,b,c) for c in range(1,n+1) for b in range(1,c) for a in range(1,b) if a**2 + b**2 - c**2 == 0]\n",
    "#print(\"The number of unique Pythagorean triples for integers less than\", n, \"is\", len(l), \"and they are: \", l)\n",
    "\n"
   ]
  },
  {
   "cell_type": "markdown",
   "metadata": {},
   "source": [
    "9\\. Normalization\n",
    "\n",
    "Write a function that takes a tuple of numbers and returns it with the entries normalized to one"
   ]
  },
  {
   "cell_type": "code",
   "execution_count": 108,
   "metadata": {},
   "outputs": [
    {
     "data": {
      "text/plain": [
       "(1.0, 0.0, 0.0)"
      ]
     },
     "execution_count": 108,
     "metadata": {},
     "output_type": "execute_result"
    }
   ],
   "source": [
    "def normalizer(x):\n",
    "    sum = 0\n",
    "    x = list(x)\n",
    "    for i in x:\n",
    "        sum += i**2\n",
    "    sum = sum**0.5\n",
    "    for i in range(len(x)):\n",
    "        x[i] = x[i]/sum\n",
    "    return tuple(x)\n",
    "        \n",
    "u = (1,0,0)\n",
    "\n",
    "normalizer(u)"
   ]
  },
  {
   "cell_type": "code",
   "execution_count": null,
   "metadata": {},
   "outputs": [],
   "source": []
  }
 ],
 "metadata": {
  "kernelspec": {
   "display_name": "Python 3.9.12 ('base')",
   "language": "python",
   "name": "python3"
  },
  "language_info": {
   "codemirror_mode": {
    "name": "ipython",
    "version": 3
   },
   "file_extension": ".py",
   "mimetype": "text/x-python",
   "name": "python",
   "nbconvert_exporter": "python",
   "pygments_lexer": "ipython3",
   "version": "3.9.12 (main, Apr  4 2022, 05:22:27) [MSC v.1916 64 bit (AMD64)]"
  },
  "vscode": {
   "interpreter": {
    "hash": "ad2bdc8ecc057115af97d19610ffacc2b4e99fae6737bb82f5d7fb13d2f2c186"
   }
  }
 },
 "nbformat": 4,
 "nbformat_minor": 2
}
