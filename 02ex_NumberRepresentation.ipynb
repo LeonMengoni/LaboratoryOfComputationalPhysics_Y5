{
 "cells": [
  {
   "cell_type": "markdown",
   "metadata": {},
   "source": [
    "1\\. Write a function that converts number representation, bin<->dec<->hex. (Clearly using the corresponding python built-in functions is not fair..)"
   ]
  },
  {
   "cell_type": "code",
   "execution_count": 129,
   "metadata": {},
   "outputs": [
    {
     "name": "stdout",
     "output_type": "stream",
     "text": [
      "41\n"
     ]
    },
    {
     "data": {
      "text/plain": [
       "'0b101001'"
      ]
     },
     "execution_count": 129,
     "metadata": {},
     "output_type": "execute_result"
    }
   ],
   "source": [
    "def convert(x, i_base, f_base): #i_base: base representation of converting value; f_base: base rep of final value\n",
    "    b = \"\"\n",
    "    if i_base == f_base:\n",
    "        b = str(x) + b\n",
    "        print(\"Same base: not converting\")\n",
    "    \n",
    "    if i_base == 10 and f_base == 2: #decimal to binary\n",
    "        s = 1\n",
    "        if x < 0:\n",
    "            s = -1\n",
    "            x = abs(x)\n",
    "        while True:\n",
    "            if x%2 == 0:\n",
    "                b = \"0\" + b\n",
    "            elif x%2 == 1:\n",
    "                b = \"1\" + b\n",
    "            x = x // 2\n",
    "            if x == 0:\n",
    "                break\n",
    "        b = \"0b\" + b\n",
    "        if s == -1:\n",
    "            b = \"-\" + b\n",
    "\n",
    "    if i_base == 10 and f_base == 16: #decimal to hexadecimal: try for each base a dictionary that assigns letter to each number\n",
    "        s = 1\n",
    "        if x < 0:\n",
    "            s = -1\n",
    "            x = abs(x)\n",
    "        while True:\n",
    "            for i in range(0,10):\n",
    "                if x%16 == i:\n",
    "                    b = str(i) + b\n",
    "            if x%16 == 10:\n",
    "                b = \"a\" + b\n",
    "            if x%16 == 11:\n",
    "                b = \"b\" + b\n",
    "            if x%16 == 12:\n",
    "                b = \"c\" + b\n",
    "            if x%16 == 13:\n",
    "                b = \"d\" + b\n",
    "            if x%16 == 14:\n",
    "                b = \"e\" + b\n",
    "            if x%16 == 15:\n",
    "                b = \"f\" + b\n",
    "            x = x // 16\n",
    "            if x == 0:\n",
    "                break\n",
    "        b = \"0x\" + b\n",
    "        if s == -1:\n",
    "            b = \"-\" + b\n",
    "    \n",
    "    if i_base == 2 and f_base == 10: #binary to decimal\n",
    "        y = 0\n",
    "        x = str(x)\n",
    "        n = 0    #index that tells me whether to exit the function\n",
    "        for i in range(len(x)):\n",
    "            if x[i] != \"0\" and x[i] != \"1\":\n",
    "                n = 1\n",
    "                print(\"Not a binary\")\n",
    "                break\n",
    "            if x[i] == \"1\":\n",
    "                y += 2**(len(x)-1-i)\n",
    "        if n == 1:\n",
    "            return\n",
    "        b = y\n",
    "                \n",
    "        \n",
    "    return b\n",
    "\n",
    "def convert(x, base):\n",
    "    \n",
    "\n",
    "\n",
    "a = convert(101001,2,10)\n",
    "print(a)\n",
    "bin(a)\n",
    "#int(a,2)\n",
    "#int(a,16)"
   ]
  },
  {
   "cell_type": "markdown",
   "metadata": {},
   "source": [
    "2\\. Write a function that converts a 32 bit word into a single precision floating point (i.e. interprets the various bits as sign, mantissa and exponent)"
   ]
  },
  {
   "cell_type": "code",
   "execution_count": 138,
   "metadata": {},
   "outputs": [
    {
     "name": "stdout",
     "output_type": "stream",
     "text": [
      "0.5\n",
      "None\n"
     ]
    }
   ],
   "source": [
    "#32 bit word is not a string, binary number\n",
    "#1 sign, 8 exponent, 23 mantissa\n",
    "\n",
    "def convert_mantissa(x):\n",
    "    b = \"\"\n",
    "    y = 0\n",
    "    x = str(x)\n",
    "    n = 0    #index that tells me whether to exit the function\n",
    "    for i in range(len(x)):\n",
    "        if x[i] != \"0\" and x[i] != \"1\":\n",
    "            n = 1\n",
    "            print(\"Not a binary\")\n",
    "            break\n",
    "        if x[i] == \"1\":\n",
    "            y += 2**(-1-i)\n",
    "    if n == 1:\n",
    "        return\n",
    "    b = y\n",
    "    return b\n",
    "\n",
    "def float_convert(x):\n",
    "    n = 0\n",
    "    x = str(x)\n",
    "    for i in range(len(x)):\n",
    "        if x[i] != \"0\" and x[i] != \"1\":\n",
    "            n = 1\n",
    "            print(\"Not a binary\")\n",
    "            break\n",
    "    if n == 1:\n",
    "        return\n",
    "    if len(x) < 32:\n",
    "        for i in range(32-len(x)):\n",
    "            x = \"0\" + x\n",
    "    if len(x) != 32:\n",
    "        print(\"Error\")\n",
    "        return\n",
    "    s = x[0]\n",
    "    e = x[1:10]\n",
    "    m = x[10:32]\n",
    "    \n",
    "    exponent = convert(e,2,10)\n",
    "    \n",
    "print(convert_mantissa(0b01))\n",
    "\n",
    "\n",
    "a = float_convert(1010101011001)\n",
    "print(a)\n",
    "#print(len(a))"
   ]
  },
  {
   "cell_type": "markdown",
   "metadata": {},
   "source": [
    "3\\. Write a program to determine the underflow and overflow limits (within a factor of 2) for python on your computer. \n",
    "\n",
    "**Tips**: define two variables inizialized to 1 and halve/double them enough time to exceed the under/over-flow limits  "
   ]
  },
  {
   "cell_type": "markdown",
   "metadata": {},
   "source": [
    "4\\. Write a program to determine the machine precision\n",
    "\n",
    "**Tips**: define a new variable by adding a smaller and smaller value (proceeding similarly to prob. 2) to an original variable and check the point where the two are the same "
   ]
  },
  {
   "cell_type": "markdown",
   "metadata": {},
   "source": [
    "5\\. Write a function that takes in input three parameters $a$, $b$ and $c$ and prints out the two solutions to the quadratic equation $ax^2+bx+c=0$ using the standard formula:\n",
    "$$\n",
    "x=\\frac{-b\\pm\\sqrt{b^2-4ac}}{2a}\n",
    "$$\n",
    "\n",
    "(a) use the program to compute the solution for $a=0.001$, $b=1000$ and $c=0.001$\n",
    "\n",
    "(b) re-express the standard solution formula by multiplying top and bottom by $-b\\mp\\sqrt{b^2-4ac}$ and again find the solution for $a=0.001$, $b=1000$ and $c=0.001$. How does it compare with what previously obtained? Why?\n",
    "\n",
    "(c) write a function that compute the roots of a quadratic equation accurately in all cases"
   ]
  },
  {
   "cell_type": "markdown",
   "metadata": {},
   "source": [
    "6\\. Write a program that implements the function $f(x)=x(x−1)$\n",
    "\n",
    "(a) Calculate the derivative of the function at the point $x = 1$ using the derivative definition:\n",
    "\n",
    "$$\n",
    "\\frac{{\\rm d}f}{{\\rm d}x} = \\lim_{\\delta\\to0} \\frac{f(x+\\delta)-f(x)}{\\delta}\n",
    "$$\n",
    "\n",
    "with $\\delta = 10^{−2}$. Calculate the true value of the same derivative analytically and compare with the answer your program gives. The two will not agree perfectly. Why not?\n",
    "\n",
    "(b) Repeat the calculation for $\\delta = 10^{−4}, 10^{−6}, 10^{−8}, 10^{−10}, 10^{−12}$ and $10^{−14}$. How does the accuracy scales with $\\delta$?"
   ]
  },
  {
   "cell_type": "markdown",
   "metadata": {},
   "source": [
    "7\\. Consider the integral of the semicircle of radius 1:\n",
    "$$\n",
    "I=\\int_{-1}^{1} \\sqrt(1-x^2) {\\rm d}x\n",
    "$$\n",
    "which it's known to be $I=\\frac{\\pi}{2}=1.57079632679...$.\n",
    "Alternatively we can use the Riemann definition of the integral:\n",
    "$$\n",
    "I=\\lim_{N\\to\\infty} \\sum_{k=1}^{N} h y_k \n",
    "$$\n",
    "\n",
    "with $h=2/N$ the width of each of the $N$ slices the domain is divided into and where\n",
    "$y_k$ is the value of the function at the $k-$th slice.\n",
    "\n",
    "(a) Write a programe to compute the integral with $N=100$. How does the result compares to the true value?\n",
    "\n",
    "(b) How much can $N$ be increased if the computation needs to be run in less than a second? What is the gain in running it for 1 minute? \n"
   ]
  },
  {
   "cell_type": "code",
   "execution_count": null,
   "metadata": {},
   "outputs": [],
   "source": []
  }
 ],
 "metadata": {
  "kernelspec": {
   "display_name": "base",
   "language": "python",
   "name": "python3"
  },
  "language_info": {
   "codemirror_mode": {
    "name": "ipython",
    "version": 3
   },
   "file_extension": ".py",
   "mimetype": "text/x-python",
   "name": "python",
   "nbconvert_exporter": "python",
   "pygments_lexer": "ipython3",
   "version": "3.9.12 (main, Apr  4 2022, 05:22:27) [MSC v.1916 64 bit (AMD64)]"
  },
  "vscode": {
   "interpreter": {
    "hash": "ad2bdc8ecc057115af97d19610ffacc2b4e99fae6737bb82f5d7fb13d2f2c186"
   }
  }
 },
 "nbformat": 4,
 "nbformat_minor": 2
}
