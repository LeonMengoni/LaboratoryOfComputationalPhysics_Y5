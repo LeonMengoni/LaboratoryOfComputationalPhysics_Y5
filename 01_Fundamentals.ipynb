{
 "cells": [
  {
   "cell_type": "markdown",
   "metadata": {},
   "source": [
    "# Modules/packages/libraries\n",
    "\n",
    "Definitions:\n",
    "\n",
    "  * Modules:\n",
    "  A module is a file which contains python functions, global variables etc. It is nothing but .py file which has python executable code / statement.\n",
    "\n",
    "  * Packages:\n",
    "  A package is a namespace which contains multiple package/modules. It is a directory which contains a special file `__init__.py`\n",
    "  \n",
    "  * Libraries:\n",
    "  A library is a collection of various packages. There is no difference between package and python library conceptually.\n",
    "  \n",
    "Modules/packages/libraries can be easily \"imported\" and made functional in your python code. A set of libriaries comes with every python installation. Others can be installed locally and then imported. Your own code sitting somewhere else in your local computer can be imported too.\n",
    "\n",
    "Further details (very important!) on packages and how to create them can be found online. We may find the need of creating our own during the course."
   ]
  },
  {
   "cell_type": "code",
   "execution_count": 1,
   "metadata": {},
   "outputs": [
    {
     "name": "stdout",
     "output_type": "stream",
     "text": [
      "3.141592653589793\n",
      "3.141592653589793\n",
      "3.141592653589793\n",
      "2.6457513110645907\n"
     ]
    }
   ],
   "source": [
    "###### all the \"stuff\" that is in the math library can be used\n",
    "import math\n",
    "print(math.pi)\n",
    "\n",
    "# you can give math a label for convenience\n",
    "import math as m\n",
    "print (m.pi)\n",
    "\n",
    "# alternatively you can import only a given \"thing\" from the library\n",
    "from math import pi    #you can add several libraries at once, just list them separated by a \", \"\n",
    "print (pi)\n",
    "\n",
    "# or just get everything (very dangerous!!!)\n",
    "#from math import *\n",
    "print (m.sqrt(7))"
   ]
  },
  {
   "cell_type": "markdown",
   "metadata": {},
   "source": [
    "To know which modules are there for you to use just type:"
   ]
  },
  {
   "cell_type": "code",
   "execution_count": 2,
   "metadata": {},
   "outputs": [
    {
     "name": "stdout",
     "output_type": "stream",
     "text": [
      "{'sys': <module 'sys' (built-in)>, 'builtins': <module 'builtins' (built-in)>, '_frozen_importlib': <module 'importlib._bootstrap' (frozen)>, '_imp': <module '_imp' (built-in)>, '_thread': <module '_thread' (built-in)>, '_warnings': <module '_warnings' (built-in)>, '_weakref': <module '_weakref' (built-in)>, '_io': <module 'io' (built-in)>, 'marshal': <module 'marshal' (built-in)>, 'nt': <module 'nt' (built-in)>, 'winreg': <module 'winreg' (built-in)>, '_frozen_importlib_external': <module 'importlib._bootstrap_external' (frozen)>, 'time': <module 'time' (built-in)>, 'zipimport': <module 'zipimport' (frozen)>, '_codecs': <module '_codecs' (built-in)>, 'codecs': <module 'codecs' from 'c:\\\\ProgramData\\\\Anaconda3\\\\lib\\\\codecs.py'>, 'encodings.aliases': <module 'encodings.aliases' from 'c:\\\\ProgramData\\\\Anaconda3\\\\lib\\\\encodings\\\\aliases.py'>, 'encodings': <module 'encodings' from 'c:\\\\ProgramData\\\\Anaconda3\\\\lib\\\\encodings\\\\__init__.py'>, 'encodings.utf_8': <module 'encodings.utf_8' from 'c:\\\\ProgramData\\\\Anaconda3\\\\lib\\\\encodings\\\\utf_8.py'>, '_signal': <module '_signal' (built-in)>, 'encodings.latin_1': <module 'encodings.latin_1' from 'c:\\\\ProgramData\\\\Anaconda3\\\\lib\\\\encodings\\\\latin_1.py'>, '_abc': <module '_abc' (built-in)>, 'abc': <module 'abc' from 'c:\\\\ProgramData\\\\Anaconda3\\\\lib\\\\abc.py'>, 'io': <module 'io' from 'c:\\\\ProgramData\\\\Anaconda3\\\\lib\\\\io.py'>, '__main__': <module '__main__'>, '_stat': <module '_stat' (built-in)>, 'stat': <module 'stat' from 'c:\\\\ProgramData\\\\Anaconda3\\\\lib\\\\stat.py'>, '_collections_abc': <module '_collections_abc' from 'c:\\\\ProgramData\\\\Anaconda3\\\\lib\\\\_collections_abc.py'>, 'genericpath': <module 'genericpath' from 'c:\\\\ProgramData\\\\Anaconda3\\\\lib\\\\genericpath.py'>, 'ntpath': <module 'ntpath' from 'c:\\\\ProgramData\\\\Anaconda3\\\\lib\\\\ntpath.py'>, 'os.path': <module 'ntpath' from 'c:\\\\ProgramData\\\\Anaconda3\\\\lib\\\\ntpath.py'>, 'os': <module 'os' from 'c:\\\\ProgramData\\\\Anaconda3\\\\lib\\\\os.py'>, '_sitebuiltins': <module '_sitebuiltins' from 'c:\\\\ProgramData\\\\Anaconda3\\\\lib\\\\_sitebuiltins.py'>, '_locale': <module '_locale' (built-in)>, '_bootlocale': <module '_bootlocale' from 'c:\\\\ProgramData\\\\Anaconda3\\\\lib\\\\_bootlocale.py'>, 'encodings.cp1252': <module 'encodings.cp1252' from 'c:\\\\ProgramData\\\\Anaconda3\\\\lib\\\\encodings\\\\cp1252.py'>, '_distutils_hack': <module '_distutils_hack' from 'c:\\\\ProgramData\\\\Anaconda3\\\\lib\\\\site-packages\\\\_distutils_hack\\\\__init__.py'>, 'types': <module 'types' from 'c:\\\\ProgramData\\\\Anaconda3\\\\lib\\\\types.py'>, 'importlib._bootstrap': <module 'importlib._bootstrap' (frozen)>, 'importlib._bootstrap_external': <module 'importlib._bootstrap_external' (frozen)>, 'warnings': <module 'warnings' from 'c:\\\\ProgramData\\\\Anaconda3\\\\lib\\\\warnings.py'>, 'importlib': <module 'importlib' from 'c:\\\\ProgramData\\\\Anaconda3\\\\lib\\\\importlib\\\\__init__.py'>, 'importlib.machinery': <module 'importlib.machinery' from 'c:\\\\ProgramData\\\\Anaconda3\\\\lib\\\\importlib\\\\machinery.py'>, '_heapq': <module '_heapq' (built-in)>, 'heapq': <module 'heapq' from 'c:\\\\ProgramData\\\\Anaconda3\\\\lib\\\\heapq.py'>, 'itertools': <module 'itertools' (built-in)>, 'keyword': <module 'keyword' from 'c:\\\\ProgramData\\\\Anaconda3\\\\lib\\\\keyword.py'>, '_operator': <module '_operator' (built-in)>, 'operator': <module 'operator' from 'c:\\\\ProgramData\\\\Anaconda3\\\\lib\\\\operator.py'>, 'reprlib': <module 'reprlib' from 'c:\\\\ProgramData\\\\Anaconda3\\\\lib\\\\reprlib.py'>, '_collections': <module '_collections' (built-in)>, 'collections': <module 'collections' from 'c:\\\\ProgramData\\\\Anaconda3\\\\lib\\\\collections\\\\__init__.py'>, 'collections.abc': <module 'collections.abc' from 'c:\\\\ProgramData\\\\Anaconda3\\\\lib\\\\collections\\\\abc.py'>, '_functools': <module '_functools' (built-in)>, 'functools': <module 'functools' from 'c:\\\\ProgramData\\\\Anaconda3\\\\lib\\\\functools.py'>, 'contextlib': <module 'contextlib' from 'c:\\\\ProgramData\\\\Anaconda3\\\\lib\\\\contextlib.py'>, 'enum': <module 'enum' from 'c:\\\\ProgramData\\\\Anaconda3\\\\lib\\\\enum.py'>, '_sre': <module '_sre' (built-in)>, 'sre_constants': <module 'sre_constants' from 'c:\\\\ProgramData\\\\Anaconda3\\\\lib\\\\sre_constants.py'>, 'sre_parse': <module 'sre_parse' from 'c:\\\\ProgramData\\\\Anaconda3\\\\lib\\\\sre_parse.py'>, 'sre_compile': <module 'sre_compile' from 'c:\\\\ProgramData\\\\Anaconda3\\\\lib\\\\sre_compile.py'>, 'copyreg': <module 'copyreg' from 'c:\\\\ProgramData\\\\Anaconda3\\\\lib\\\\copyreg.py'>, 're': <module 're' from 'c:\\\\ProgramData\\\\Anaconda3\\\\lib\\\\re.py'>, 'typing.io': <class 'typing.io'>, 'typing.re': <class 'typing.re'>, 'typing': <module 'typing' from 'c:\\\\ProgramData\\\\Anaconda3\\\\lib\\\\typing.py'>, 'importlib.abc': <module 'importlib.abc' from 'c:\\\\ProgramData\\\\Anaconda3\\\\lib\\\\importlib\\\\abc.py'>, 'importlib.util': <module 'importlib.util' from 'c:\\\\ProgramData\\\\Anaconda3\\\\lib\\\\importlib\\\\util.py'>, 'google': <module 'google' (namespace)>, 'google.cloud': <module 'google.cloud' (namespace)>, 'google.logging': <module 'google.logging' (namespace)>, 'mpl_toolkits': <module 'mpl_toolkits' (namespace)>, 'sphinxcontrib': <module 'sphinxcontrib' (namespace)>, 'zope': <module 'zope' from 'c:\\\\ProgramData\\\\Anaconda3\\\\lib\\\\site-packages\\\\zope\\\\__init__.py'>, 'site': <module 'site' from 'c:\\\\ProgramData\\\\Anaconda3\\\\lib\\\\site.py'>, '_weakrefset': <module '_weakrefset' from 'c:\\\\ProgramData\\\\Anaconda3\\\\lib\\\\_weakrefset.py'>, 'weakref': <module 'weakref' from 'c:\\\\ProgramData\\\\Anaconda3\\\\lib\\\\weakref.py'>, 'pkgutil': <module 'pkgutil' from 'c:\\\\ProgramData\\\\Anaconda3\\\\lib\\\\pkgutil.py'>, 'runpy': <module 'runpy' from 'c:\\\\ProgramData\\\\Anaconda3\\\\lib\\\\runpy.py'>, 'ipykernel._version': <module 'ipykernel._version' from 'c:\\\\ProgramData\\\\Anaconda3\\\\lib\\\\site-packages\\\\ipykernel\\\\_version.py'>, '_json': <module '_json' (built-in)>, 'json.scanner': <module 'json.scanner' from 'c:\\\\ProgramData\\\\Anaconda3\\\\lib\\\\json\\\\scanner.py'>, 'json.decoder': <module 'json.decoder' from 'c:\\\\ProgramData\\\\Anaconda3\\\\lib\\\\json\\\\decoder.py'>, 'json.encoder': <module 'json.encoder' from 'c:\\\\ProgramData\\\\Anaconda3\\\\lib\\\\json\\\\encoder.py'>, 'json': <module 'json' from 'c:\\\\ProgramData\\\\Anaconda3\\\\lib\\\\json\\\\__init__.py'>, 'errno': <module 'errno' (built-in)>, 'signal': <module 'signal' from 'c:\\\\ProgramData\\\\Anaconda3\\\\lib\\\\signal.py'>, 'threading': <module 'threading' from 'c:\\\\ProgramData\\\\Anaconda3\\\\lib\\\\threading.py'>, 'msvcrt': <module 'msvcrt' (built-in)>, '_winapi': <module '_winapi' (built-in)>, 'subprocess': <module 'subprocess' from 'c:\\\\ProgramData\\\\Anaconda3\\\\lib\\\\subprocess.py'>, 'jupyter_client._version': <module 'jupyter_client._version' from 'c:\\\\ProgramData\\\\Anaconda3\\\\lib\\\\site-packages\\\\jupyter_client\\\\_version.py'>, 'posixpath': <module 'posixpath' from 'c:\\\\ProgramData\\\\Anaconda3\\\\lib\\\\posixpath.py'>, 'fnmatch': <module 'fnmatch' from 'c:\\\\ProgramData\\\\Anaconda3\\\\lib\\\\fnmatch.py'>, 'glob': <module 'glob' from 'c:\\\\ProgramData\\\\Anaconda3\\\\lib\\\\glob.py'>, '_socket': <module '_socket' from 'c:\\\\ProgramData\\\\Anaconda3\\\\DLLs\\\\_socket.pyd'>, 'math': <module 'math' (built-in)>, 'select': <module 'select' from 'c:\\\\ProgramData\\\\Anaconda3\\\\DLLs\\\\select.pyd'>, 'selectors': <module 'selectors' from 'c:\\\\ProgramData\\\\Anaconda3\\\\lib\\\\selectors.py'>, 'socket': <module 'socket' from 'c:\\\\ProgramData\\\\Anaconda3\\\\lib\\\\socket.py'>, 'zlib': <module 'zlib' (built-in)>, '_compression': <module '_compression' from 'c:\\\\ProgramData\\\\Anaconda3\\\\lib\\\\_compression.py'>, '_bz2': <module '_bz2' from 'c:\\\\ProgramData\\\\Anaconda3\\\\DLLs\\\\_bz2.pyd'>, 'bz2': <module 'bz2' from 'c:\\\\ProgramData\\\\Anaconda3\\\\lib\\\\bz2.py'>, '_lzma': <module '_lzma' from 'c:\\\\ProgramData\\\\Anaconda3\\\\DLLs\\\\_lzma.pyd'>, 'lzma': <module 'lzma' from 'c:\\\\ProgramData\\\\Anaconda3\\\\lib\\\\lzma.py'>, 'shutil': <module 'shutil' from 'c:\\\\ProgramData\\\\Anaconda3\\\\lib\\\\shutil.py'>, '_bisect': <module '_bisect' (built-in)>, 'bisect': <module 'bisect' from 'c:\\\\ProgramData\\\\Anaconda3\\\\lib\\\\bisect.py'>, '_random': <module '_random' (built-in)>, '_sha512': <module '_sha512' (built-in)>, 'random': <module 'random' from 'c:\\\\ProgramData\\\\Anaconda3\\\\lib\\\\random.py'>, 'tempfile': <module 'tempfile' from 'c:\\\\ProgramData\\\\Anaconda3\\\\lib\\\\tempfile.py'>, 'getpass': <module 'getpass' from 'c:\\\\ProgramData\\\\Anaconda3\\\\lib\\\\getpass.py'>, 'platform': <module 'platform' from 'c:\\\\ProgramData\\\\Anaconda3\\\\lib\\\\platform.py'>, 'zmq.libzmq': <module 'zmq.libzmq' from 'c:\\\\ProgramData\\\\Anaconda3\\\\lib\\\\site-packages\\\\zmq\\\\libzmq.cp39-win_amd64.pyd'>, 'zmq.backend.select': <module 'zmq.backend.select' from 'c:\\\\ProgramData\\\\Anaconda3\\\\lib\\\\site-packages\\\\zmq\\\\backend\\\\select.py'>, 'cython_runtime': <module 'cython_runtime'>, 'zmq.backend.cython.constants': <module 'zmq.backend.cython.constants' from 'c:\\\\ProgramData\\\\Anaconda3\\\\lib\\\\site-packages\\\\zmq\\\\backend\\\\cython\\\\constants.cp39-win_amd64.pyd'>, '_cython_0_29_24': <module '_cython_0_29_24'>, 'zmq.backend.cython.error': <module 'zmq.backend.cython.error' from 'c:\\\\ProgramData\\\\Anaconda3\\\\lib\\\\site-packages\\\\zmq\\\\backend\\\\cython\\\\error.cp39-win_amd64.pyd'>, 'zmq.error': <module 'zmq.error' from 'c:\\\\ProgramData\\\\Anaconda3\\\\lib\\\\site-packages\\\\zmq\\\\error.py'>, 'zmq.backend.cython.message': <module 'zmq.backend.cython.message' from 'c:\\\\ProgramData\\\\Anaconda3\\\\lib\\\\site-packages\\\\zmq\\\\backend\\\\cython\\\\message.cp39-win_amd64.pyd'>, 'zmq.backend.cython.context': <module 'zmq.backend.cython.context' from 'c:\\\\ProgramData\\\\Anaconda3\\\\lib\\\\site-packages\\\\zmq\\\\backend\\\\cython\\\\context.cp39-win_amd64.pyd'>, 'copy': <module 'copy' from 'c:\\\\ProgramData\\\\Anaconda3\\\\lib\\\\copy.py'>, '_struct': <module '_struct' (built-in)>, 'struct': <module 'struct' from 'c:\\\\ProgramData\\\\Anaconda3\\\\lib\\\\struct.py'>, '_compat_pickle': <module '_compat_pickle' from 'c:\\\\ProgramData\\\\Anaconda3\\\\lib\\\\_compat_pickle.py'>, '_pickle': <module '_pickle' (built-in)>, 'pickle': <module 'pickle' from 'c:\\\\ProgramData\\\\Anaconda3\\\\lib\\\\pickle.py'>, 'zmq.backend.cython.socket': <module 'zmq.backend.cython.socket' from 'c:\\\\ProgramData\\\\Anaconda3\\\\lib\\\\site-packages\\\\zmq\\\\backend\\\\cython\\\\socket.cp39-win_amd64.pyd'>, 'zmq.backend.cython.utils': <module 'zmq.backend.cython.utils' from 'c:\\\\ProgramData\\\\Anaconda3\\\\lib\\\\site-packages\\\\zmq\\\\backend\\\\cython\\\\utils.cp39-win_amd64.pyd'>, 'zmq.backend.cython._poll': <module 'zmq.backend.cython._poll' from 'c:\\\\ProgramData\\\\Anaconda3\\\\lib\\\\site-packages\\\\zmq\\\\backend\\\\cython\\\\_poll.cp39-win_amd64.pyd'>, 'zmq.backend.cython._version': <module 'zmq.backend.cython._version' from 'c:\\\\ProgramData\\\\Anaconda3\\\\lib\\\\site-packages\\\\zmq\\\\backend\\\\cython\\\\_version.cp39-win_amd64.pyd'>, 'zmq.backend.cython._device': <module 'zmq.backend.cython._device' from 'c:\\\\ProgramData\\\\Anaconda3\\\\lib\\\\site-packages\\\\zmq\\\\backend\\\\cython\\\\_device.cp39-win_amd64.pyd'>, 'zmq.backend.cython._proxy_steerable': <module 'zmq.backend.cython._proxy_steerable' from 'c:\\\\ProgramData\\\\Anaconda3\\\\lib\\\\site-packages\\\\zmq\\\\backend\\\\cython\\\\_proxy_steerable.cp39-win_amd64.pyd'>, 'zmq.backend.cython': <module 'zmq.backend.cython' from 'c:\\\\ProgramData\\\\Anaconda3\\\\lib\\\\site-packages\\\\zmq\\\\backend\\\\cython\\\\__init__.py'>, 'zmq.backend': <module 'zmq.backend' from 'c:\\\\ProgramData\\\\Anaconda3\\\\lib\\\\site-packages\\\\zmq\\\\backend\\\\__init__.py'>, 'zmq.utils': <module 'zmq.utils' from 'c:\\\\ProgramData\\\\Anaconda3\\\\lib\\\\site-packages\\\\zmq\\\\utils\\\\__init__.py'>, 'zmq.utils.constant_names': <module 'zmq.utils.constant_names' from 'c:\\\\ProgramData\\\\Anaconda3\\\\lib\\\\site-packages\\\\zmq\\\\utils\\\\constant_names.py'>, 'zmq.sugar.constants': <module 'zmq.sugar.constants' from 'c:\\\\ProgramData\\\\Anaconda3\\\\lib\\\\site-packages\\\\zmq\\\\sugar\\\\constants.py'>, 'atexit': <module 'atexit' (built-in)>, 'zmq.sugar.attrsettr': <module 'zmq.sugar.attrsettr' from 'c:\\\\ProgramData\\\\Anaconda3\\\\lib\\\\site-packages\\\\zmq\\\\sugar\\\\attrsettr.py'>, 'zmq.sugar.poll': <module 'zmq.sugar.poll' from 'c:\\\\ProgramData\\\\Anaconda3\\\\lib\\\\site-packages\\\\zmq\\\\sugar\\\\poll.py'>, 'zmq.utils.jsonapi': <module 'zmq.utils.jsonapi' from 'c:\\\\ProgramData\\\\Anaconda3\\\\lib\\\\site-packages\\\\zmq\\\\utils\\\\jsonapi.py'>, 'zmq.utils.strtypes': <module 'zmq.utils.strtypes' from 'c:\\\\ProgramData\\\\Anaconda3\\\\lib\\\\site-packages\\\\zmq\\\\utils\\\\strtypes.py'>, 'zmq.sugar.socket': <module 'zmq.sugar.socket' from 'c:\\\\ProgramData\\\\Anaconda3\\\\lib\\\\site-packages\\\\zmq\\\\sugar\\\\socket.py'>, 'zmq.sugar.context': <module 'zmq.sugar.context' from 'c:\\\\ProgramData\\\\Anaconda3\\\\lib\\\\site-packages\\\\zmq\\\\sugar\\\\context.py'>, 'zmq.sugar.frame': <module 'zmq.sugar.frame' from 'c:\\\\ProgramData\\\\Anaconda3\\\\lib\\\\site-packages\\\\zmq\\\\sugar\\\\frame.py'>, 'zmq.sugar.tracker': <module 'zmq.sugar.tracker' from 'c:\\\\ProgramData\\\\Anaconda3\\\\lib\\\\site-packages\\\\zmq\\\\sugar\\\\tracker.py'>, 'zmq.sugar.version': <module 'zmq.sugar.version' from 'c:\\\\ProgramData\\\\Anaconda3\\\\lib\\\\site-packages\\\\zmq\\\\sugar\\\\version.py'>, 'zmq.sugar.stopwatch': <module 'zmq.sugar.stopwatch' from 'c:\\\\ProgramData\\\\Anaconda3\\\\lib\\\\site-packages\\\\zmq\\\\sugar\\\\stopwatch.py'>, 'zmq.sugar': <module 'zmq.sugar' from 'c:\\\\ProgramData\\\\Anaconda3\\\\lib\\\\site-packages\\\\zmq\\\\sugar\\\\__init__.py'>, 'zmq': <module 'zmq' from 'c:\\\\ProgramData\\\\Anaconda3\\\\lib\\\\site-packages\\\\zmq\\\\__init__.py'>, '_ast': <module '_ast' (built-in)>, 'ast': <module 'ast' from 'c:\\\\ProgramData\\\\Anaconda3\\\\lib\\\\ast.py'>, '_opcode': <module '_opcode' (built-in)>, 'opcode': <module 'opcode' from 'c:\\\\ProgramData\\\\Anaconda3\\\\lib\\\\opcode.py'>, 'dis': <module 'dis' from 'c:\\\\ProgramData\\\\Anaconda3\\\\lib\\\\dis.py'>, 'token': <module 'token' from 'c:\\\\ProgramData\\\\Anaconda3\\\\lib\\\\token.py'>, 'tokenize': <module 'tokenize' from 'c:\\\\ProgramData\\\\Anaconda3\\\\lib\\\\tokenize.py'>, 'linecache': <module 'linecache' from 'c:\\\\ProgramData\\\\Anaconda3\\\\lib\\\\linecache.py'>, 'inspect': <module 'inspect' from 'c:\\\\ProgramData\\\\Anaconda3\\\\lib\\\\inspect.py'>, 'traitlets.utils': <module 'traitlets.utils' from 'c:\\\\ProgramData\\\\Anaconda3\\\\lib\\\\site-packages\\\\traitlets\\\\utils\\\\__init__.py'>, 'traitlets.utils.getargspec': <module 'traitlets.utils.getargspec' from 'c:\\\\ProgramData\\\\Anaconda3\\\\lib\\\\site-packages\\\\traitlets\\\\utils\\\\getargspec.py'>, 'traitlets.utils.importstring': <module 'traitlets.utils.importstring' from 'c:\\\\ProgramData\\\\Anaconda3\\\\lib\\\\site-packages\\\\traitlets\\\\utils\\\\importstring.py'>, 'traitlets.utils.sentinel': <module 'traitlets.utils.sentinel' from 'c:\\\\ProgramData\\\\Anaconda3\\\\lib\\\\site-packages\\\\traitlets\\\\utils\\\\sentinel.py'>, 'traitlets.utils.bunch': <module 'traitlets.utils.bunch' from 'c:\\\\ProgramData\\\\Anaconda3\\\\lib\\\\site-packages\\\\traitlets\\\\utils\\\\bunch.py'>, 'traitlets.utils.descriptions': <module 'traitlets.utils.descriptions' from 'c:\\\\ProgramData\\\\Anaconda3\\\\lib\\\\site-packages\\\\traitlets\\\\utils\\\\descriptions.py'>, 'traitlets.traitlets': <module 'traitlets.traitlets' from 'c:\\\\ProgramData\\\\Anaconda3\\\\lib\\\\site-packages\\\\traitlets\\\\traitlets.py'>, 'traitlets.utils.decorators': <module 'traitlets.utils.decorators' from 'c:\\\\ProgramData\\\\Anaconda3\\\\lib\\\\site-packages\\\\traitlets\\\\utils\\\\decorators.py'>, 'traitlets._version': <module 'traitlets._version' from 'c:\\\\ProgramData\\\\Anaconda3\\\\lib\\\\site-packages\\\\traitlets\\\\_version.py'>, 'traitlets': <module 'traitlets' from 'c:\\\\ProgramData\\\\Anaconda3\\\\lib\\\\site-packages\\\\traitlets\\\\__init__.py'>, 'traceback': <module 'traceback' from 'c:\\\\ProgramData\\\\Anaconda3\\\\lib\\\\traceback.py'>, '_string': <module '_string' (built-in)>, 'string': <module 'string' from 'c:\\\\ProgramData\\\\Anaconda3\\\\lib\\\\string.py'>, 'logging': <module 'logging' from 'c:\\\\ProgramData\\\\Anaconda3\\\\lib\\\\logging\\\\__init__.py'>, 'pprint': <module 'pprint' from 'c:\\\\ProgramData\\\\Anaconda3\\\\lib\\\\pprint.py'>, 'gettext': <module 'gettext' from 'c:\\\\ProgramData\\\\Anaconda3\\\\lib\\\\gettext.py'>, 'argparse': <module 'argparse' from 'c:\\\\ProgramData\\\\Anaconda3\\\\lib\\\\argparse.py'>, 'traitlets.config.loader': <module 'traitlets.config.loader' from 'c:\\\\ProgramData\\\\Anaconda3\\\\lib\\\\site-packages\\\\traitlets\\\\config\\\\loader.py'>, 'textwrap': <module 'textwrap' from 'c:\\\\ProgramData\\\\Anaconda3\\\\lib\\\\textwrap.py'>, 'traitlets.utils.text': <module 'traitlets.utils.text' from 'c:\\\\ProgramData\\\\Anaconda3\\\\lib\\\\site-packages\\\\traitlets\\\\utils\\\\text.py'>, 'traitlets.config.configurable': <module 'traitlets.config.configurable' from 'c:\\\\ProgramData\\\\Anaconda3\\\\lib\\\\site-packages\\\\traitlets\\\\config\\\\configurable.py'>, 'traitlets.config.application': <module 'traitlets.config.application' from 'c:\\\\ProgramData\\\\Anaconda3\\\\lib\\\\site-packages\\\\traitlets\\\\config\\\\application.py'>, 'traitlets.config': <module 'traitlets.config' from 'c:\\\\ProgramData\\\\Anaconda3\\\\lib\\\\site-packages\\\\traitlets\\\\config\\\\__init__.py'>, 'jupyter_client.localinterfaces': <module 'jupyter_client.localinterfaces' from 'c:\\\\ProgramData\\\\Anaconda3\\\\lib\\\\site-packages\\\\jupyter_client\\\\localinterfaces.py'>, 'jupyter_core.version': <module 'jupyter_core.version' from 'c:\\\\ProgramData\\\\Anaconda3\\\\lib\\\\site-packages\\\\jupyter_core\\\\version.py'>, 'jupyter_core': <module 'jupyter_core' from 'c:\\\\ProgramData\\\\Anaconda3\\\\lib\\\\site-packages\\\\jupyter_core\\\\__init__.py'>, 'urllib': <module 'urllib' from 'c:\\\\ProgramData\\\\Anaconda3\\\\lib\\\\urllib\\\\__init__.py'>, 'urllib.parse': <module 'urllib.parse' from 'c:\\\\ProgramData\\\\Anaconda3\\\\lib\\\\urllib\\\\parse.py'>, 'pathlib': <module 'pathlib' from 'c:\\\\ProgramData\\\\Anaconda3\\\\lib\\\\pathlib.py'>, 'jupyter_core.paths': <module 'jupyter_core.paths' from 'c:\\\\ProgramData\\\\Anaconda3\\\\lib\\\\site-packages\\\\jupyter_core\\\\paths.py'>, 'jupyter_client.utils': <module 'jupyter_client.utils' from 'c:\\\\ProgramData\\\\Anaconda3\\\\lib\\\\site-packages\\\\jupyter_client\\\\utils.py'>, 'jupyter_client.connect': <module 'jupyter_client.connect' from 'c:\\\\ProgramData\\\\Anaconda3\\\\lib\\\\site-packages\\\\jupyter_client\\\\connect.py'>, 'traitlets.log': <module 'traitlets.log' from 'c:\\\\ProgramData\\\\Anaconda3\\\\lib\\\\site-packages\\\\traitlets\\\\log.py'>, 'jupyter_client.launcher': <module 'jupyter_client.launcher' from 'c:\\\\ProgramData\\\\Anaconda3\\\\lib\\\\site-packages\\\\jupyter_client\\\\launcher.py'>, 'concurrent': <module 'concurrent' from 'c:\\\\ProgramData\\\\Anaconda3\\\\lib\\\\concurrent\\\\__init__.py'>, 'concurrent.futures._base': <module 'concurrent.futures._base' from 'c:\\\\ProgramData\\\\Anaconda3\\\\lib\\\\concurrent\\\\futures\\\\_base.py'>, 'concurrent.futures': <module 'concurrent.futures' from 'c:\\\\ProgramData\\\\Anaconda3\\\\lib\\\\concurrent\\\\futures\\\\__init__.py'>, '_ssl': <module '_ssl' from 'c:\\\\ProgramData\\\\Anaconda3\\\\DLLs\\\\_ssl.pyd'>, 'binascii': <module 'binascii' (built-in)>, 'base64': <module 'base64' from 'c:\\\\ProgramData\\\\Anaconda3\\\\lib\\\\base64.py'>, 'ssl': <module 'ssl' from 'c:\\\\ProgramData\\\\Anaconda3\\\\lib\\\\ssl.py'>, 'asyncio.constants': <module 'asyncio.constants' from 'c:\\\\ProgramData\\\\Anaconda3\\\\lib\\\\asyncio\\\\constants.py'>, 'asyncio.format_helpers': <module 'asyncio.format_helpers' from 'c:\\\\ProgramData\\\\Anaconda3\\\\lib\\\\asyncio\\\\format_helpers.py'>, 'asyncio.base_futures': <module 'asyncio.base_futures' from 'c:\\\\ProgramData\\\\Anaconda3\\\\lib\\\\asyncio\\\\base_futures.py'>, 'asyncio.log': <module 'asyncio.log' from 'c:\\\\ProgramData\\\\Anaconda3\\\\lib\\\\asyncio\\\\log.py'>, 'asyncio.coroutines': <module 'asyncio.coroutines' from 'c:\\\\ProgramData\\\\Anaconda3\\\\lib\\\\asyncio\\\\coroutines.py'>, '_contextvars': <module '_contextvars' (built-in)>, 'contextvars': <module 'contextvars' from 'c:\\\\ProgramData\\\\Anaconda3\\\\lib\\\\contextvars.py'>, 'asyncio.exceptions': <module 'asyncio.exceptions' from 'c:\\\\ProgramData\\\\Anaconda3\\\\lib\\\\asyncio\\\\exceptions.py'>, 'asyncio.base_tasks': <module 'asyncio.base_tasks' from 'c:\\\\ProgramData\\\\Anaconda3\\\\lib\\\\asyncio\\\\base_tasks.py'>, '_asyncio': <module '_asyncio' from 'c:\\\\ProgramData\\\\Anaconda3\\\\DLLs\\\\_asyncio.pyd'>, 'asyncio.events': <module 'asyncio.events' from 'c:\\\\ProgramData\\\\Anaconda3\\\\lib\\\\asyncio\\\\events.py'>, 'asyncio.futures': <module 'asyncio.futures' from 'c:\\\\ProgramData\\\\Anaconda3\\\\lib\\\\asyncio\\\\futures.py'>, 'asyncio.protocols': <module 'asyncio.protocols' from 'c:\\\\ProgramData\\\\Anaconda3\\\\lib\\\\asyncio\\\\protocols.py'>, 'asyncio.transports': <module 'asyncio.transports' from 'c:\\\\ProgramData\\\\Anaconda3\\\\lib\\\\asyncio\\\\transports.py'>, 'asyncio.sslproto': <module 'asyncio.sslproto' from 'c:\\\\ProgramData\\\\Anaconda3\\\\lib\\\\asyncio\\\\sslproto.py'>, 'asyncio.locks': <module 'asyncio.locks' from 'c:\\\\ProgramData\\\\Anaconda3\\\\lib\\\\asyncio\\\\locks.py'>, 'asyncio.tasks': <module 'asyncio.tasks' from 'c:\\\\ProgramData\\\\Anaconda3\\\\lib\\\\asyncio\\\\tasks.py'>, 'asyncio.staggered': <module 'asyncio.staggered' from 'c:\\\\ProgramData\\\\Anaconda3\\\\lib\\\\asyncio\\\\staggered.py'>, 'asyncio.trsock': <module 'asyncio.trsock' from 'c:\\\\ProgramData\\\\Anaconda3\\\\lib\\\\asyncio\\\\trsock.py'>, 'asyncio.base_events': <module 'asyncio.base_events' from 'c:\\\\ProgramData\\\\Anaconda3\\\\lib\\\\asyncio\\\\base_events.py'>, 'asyncio.runners': <module 'asyncio.runners' from 'c:\\\\ProgramData\\\\Anaconda3\\\\lib\\\\asyncio\\\\runners.py'>, 'asyncio.queues': <module 'asyncio.queues' from 'c:\\\\ProgramData\\\\Anaconda3\\\\lib\\\\asyncio\\\\queues.py'>, 'asyncio.streams': <module 'asyncio.streams' from 'c:\\\\ProgramData\\\\Anaconda3\\\\lib\\\\asyncio\\\\streams.py'>, 'asyncio.subprocess': <module 'asyncio.subprocess' from 'c:\\\\ProgramData\\\\Anaconda3\\\\lib\\\\asyncio\\\\subprocess.py'>, 'asyncio.threads': <module 'asyncio.threads' from 'c:\\\\ProgramData\\\\Anaconda3\\\\lib\\\\asyncio\\\\threads.py'>, '_overlapped': <module '_overlapped' from 'c:\\\\ProgramData\\\\Anaconda3\\\\DLLs\\\\_overlapped.pyd'>, 'asyncio.base_subprocess': <module 'asyncio.base_subprocess' from 'c:\\\\ProgramData\\\\Anaconda3\\\\lib\\\\asyncio\\\\base_subprocess.py'>, 'asyncio.proactor_events': <module 'asyncio.proactor_events' from 'c:\\\\ProgramData\\\\Anaconda3\\\\lib\\\\asyncio\\\\proactor_events.py'>, 'asyncio.selector_events': <module 'asyncio.selector_events' from 'c:\\\\ProgramData\\\\Anaconda3\\\\lib\\\\asyncio\\\\selector_events.py'>, 'asyncio.windows_utils': <module 'asyncio.windows_utils' from 'c:\\\\ProgramData\\\\Anaconda3\\\\lib\\\\asyncio\\\\windows_utils.py'>, 'asyncio.windows_events': <module 'asyncio.windows_events' from 'c:\\\\ProgramData\\\\Anaconda3\\\\lib\\\\asyncio\\\\windows_events.py'>, 'asyncio': <module 'asyncio' from 'c:\\\\ProgramData\\\\Anaconda3\\\\lib\\\\asyncio\\\\__init__.py'>, 'jupyter_client.channelsabc': <module 'jupyter_client.channelsabc' from 'c:\\\\ProgramData\\\\Anaconda3\\\\lib\\\\site-packages\\\\jupyter_client\\\\channelsabc.py'>, 'jupyter_client.channels': <module 'jupyter_client.channels' from 'c:\\\\ProgramData\\\\Anaconda3\\\\lib\\\\site-packages\\\\jupyter_client\\\\channels.py'>, 'jupyter_client.clientabc': <module 'jupyter_client.clientabc' from 'c:\\\\ProgramData\\\\Anaconda3\\\\lib\\\\site-packages\\\\jupyter_client\\\\clientabc.py'>, 'jupyter_client.client': <module 'jupyter_client.client' from 'c:\\\\ProgramData\\\\Anaconda3\\\\lib\\\\site-packages\\\\jupyter_client\\\\client.py'>, 'jupyter_client.kernelspec': <module 'jupyter_client.kernelspec' from 'c:\\\\ProgramData\\\\Anaconda3\\\\lib\\\\site-packages\\\\jupyter_client\\\\kernelspec.py'>, 'jupyter_client.managerabc': <module 'jupyter_client.managerabc' from 'c:\\\\ProgramData\\\\Anaconda3\\\\lib\\\\site-packages\\\\jupyter_client\\\\managerabc.py'>, 'jupyter_client.manager': <module 'jupyter_client.manager' from 'c:\\\\ProgramData\\\\Anaconda3\\\\lib\\\\site-packages\\\\jupyter_client\\\\manager.py'>, '_queue': <module '_queue' from 'c:\\\\ProgramData\\\\Anaconda3\\\\DLLs\\\\_queue.pyd'>, 'queue': <module 'queue' from 'c:\\\\ProgramData\\\\Anaconda3\\\\lib\\\\queue.py'>, 'jupyter_client.blocking.channels': <module 'jupyter_client.blocking.channels' from 'c:\\\\ProgramData\\\\Anaconda3\\\\lib\\\\site-packages\\\\jupyter_client\\\\blocking\\\\channels.py'>, 'jupyter_client.blocking.client': <module 'jupyter_client.blocking.client' from 'c:\\\\ProgramData\\\\Anaconda3\\\\lib\\\\site-packages\\\\jupyter_client\\\\blocking\\\\client.py'>, 'jupyter_client.blocking': <module 'jupyter_client.blocking' from 'c:\\\\ProgramData\\\\Anaconda3\\\\lib\\\\site-packages\\\\jupyter_client\\\\blocking\\\\__init__.py'>, 'zmq._future': <module 'zmq._future' from 'c:\\\\ProgramData\\\\Anaconda3\\\\lib\\\\site-packages\\\\zmq\\\\_future.py'>, 'zmq.asyncio': <module 'zmq.asyncio' from 'c:\\\\ProgramData\\\\Anaconda3\\\\lib\\\\site-packages\\\\zmq\\\\asyncio.py'>, 'jupyter_client.asynchronous.channels': <module 'jupyter_client.asynchronous.channels' from 'c:\\\\ProgramData\\\\Anaconda3\\\\lib\\\\site-packages\\\\jupyter_client\\\\asynchronous\\\\channels.py'>, 'jupyter_client.asynchronous.client': <module 'jupyter_client.asynchronous.client' from 'c:\\\\ProgramData\\\\Anaconda3\\\\lib\\\\site-packages\\\\jupyter_client\\\\asynchronous\\\\client.py'>, 'jupyter_client.asynchronous': <module 'jupyter_client.asynchronous' from 'c:\\\\ProgramData\\\\Anaconda3\\\\lib\\\\site-packages\\\\jupyter_client\\\\asynchronous\\\\__init__.py'>, '_uuid': <module '_uuid' from 'c:\\\\ProgramData\\\\Anaconda3\\\\DLLs\\\\_uuid.pyd'>, 'uuid': <module 'uuid' from 'c:\\\\ProgramData\\\\Anaconda3\\\\lib\\\\uuid.py'>, 'jupyter_client.multikernelmanager': <module 'jupyter_client.multikernelmanager' from 'c:\\\\ProgramData\\\\Anaconda3\\\\lib\\\\site-packages\\\\jupyter_client\\\\multikernelmanager.py'>, 'jupyter_client': <module 'jupyter_client' from 'c:\\\\ProgramData\\\\Anaconda3\\\\lib\\\\site-packages\\\\jupyter_client\\\\__init__.py'>, 'ipykernel.connect': <module 'ipykernel.connect' from 'c:\\\\ProgramData\\\\Anaconda3\\\\lib\\\\site-packages\\\\ipykernel\\\\connect.py'>, 'ipykernel': <module 'ipykernel' from 'c:\\\\ProgramData\\\\Anaconda3\\\\lib\\\\site-packages\\\\ipykernel\\\\__init__.py'>, 'tornado': <module 'tornado' from 'c:\\\\ProgramData\\\\Anaconda3\\\\lib\\\\site-packages\\\\tornado\\\\__init__.py'>, '_datetime': <module '_datetime' (built-in)>, 'datetime': <module 'datetime' from 'c:\\\\ProgramData\\\\Anaconda3\\\\lib\\\\datetime.py'>, 'numbers': <module 'numbers' from 'c:\\\\ProgramData\\\\Anaconda3\\\\lib\\\\numbers.py'>, 'logging.handlers': <module 'logging.handlers' from 'c:\\\\ProgramData\\\\Anaconda3\\\\lib\\\\logging\\\\handlers.py'>, 'html.entities': <module 'html.entities' from 'c:\\\\ProgramData\\\\Anaconda3\\\\lib\\\\html\\\\entities.py'>, 'html': <module 'html' from 'c:\\\\ProgramData\\\\Anaconda3\\\\lib\\\\html\\\\__init__.py'>, 'array': <module 'array' (built-in)>, 'tornado.speedups': <module 'tornado.speedups' from 'c:\\\\ProgramData\\\\Anaconda3\\\\lib\\\\site-packages\\\\tornado\\\\speedups.cp39-win_amd64.pyd'>, 'tornado.util': <module 'tornado.util' from 'c:\\\\ProgramData\\\\Anaconda3\\\\lib\\\\site-packages\\\\tornado\\\\util.py'>, 'tornado.escape': <module 'tornado.escape' from 'c:\\\\ProgramData\\\\Anaconda3\\\\lib\\\\site-packages\\\\tornado\\\\escape.py'>, 'colorama.ansi': <module 'colorama.ansi' from 'c:\\\\ProgramData\\\\Anaconda3\\\\lib\\\\site-packages\\\\colorama\\\\ansi.py'>, '_ctypes': <module '_ctypes' from 'c:\\\\ProgramData\\\\Anaconda3\\\\DLLs\\\\_ctypes.pyd'>, 'ctypes._endian': <module 'ctypes._endian' from 'c:\\\\ProgramData\\\\Anaconda3\\\\lib\\\\ctypes\\\\_endian.py'>, 'ctypes': <module 'ctypes' from 'c:\\\\ProgramData\\\\Anaconda3\\\\lib\\\\ctypes\\\\__init__.py'>, 'ctypes.wintypes': <module 'ctypes.wintypes' from 'c:\\\\ProgramData\\\\Anaconda3\\\\lib\\\\ctypes\\\\wintypes.py'>, 'colorama.win32': <module 'colorama.win32' from 'c:\\\\ProgramData\\\\Anaconda3\\\\lib\\\\site-packages\\\\colorama\\\\win32.py'>, 'colorama.winterm': <module 'colorama.winterm' from 'c:\\\\ProgramData\\\\Anaconda3\\\\lib\\\\site-packages\\\\colorama\\\\winterm.py'>, 'colorama.ansitowin32': <module 'colorama.ansitowin32' from 'c:\\\\ProgramData\\\\Anaconda3\\\\lib\\\\site-packages\\\\colorama\\\\ansitowin32.py'>, 'colorama.initialise': <module 'colorama.initialise' from 'c:\\\\ProgramData\\\\Anaconda3\\\\lib\\\\site-packages\\\\colorama\\\\initialise.py'>, 'colorama': <module 'colorama' from 'c:\\\\ProgramData\\\\Anaconda3\\\\lib\\\\site-packages\\\\colorama\\\\__init__.py'>, 'tornado.log': <module 'tornado.log' from 'c:\\\\ProgramData\\\\Anaconda3\\\\lib\\\\site-packages\\\\tornado\\\\log.py'>, 'tornado.concurrent': <module 'tornado.concurrent' from 'c:\\\\ProgramData\\\\Anaconda3\\\\lib\\\\site-packages\\\\tornado\\\\concurrent.py'>, 'tornado.ioloop': <module 'tornado.ioloop' from 'c:\\\\ProgramData\\\\Anaconda3\\\\lib\\\\site-packages\\\\tornado\\\\ioloop.py'>, '__future__': <module '__future__' from 'c:\\\\ProgramData\\\\Anaconda3\\\\lib\\\\__future__.py'>, 'tornado.platform': <module 'tornado.platform' from 'c:\\\\ProgramData\\\\Anaconda3\\\\lib\\\\site-packages\\\\tornado\\\\platform\\\\__init__.py'>, 'tornado.gen': <module 'tornado.gen' from 'c:\\\\ProgramData\\\\Anaconda3\\\\lib\\\\site-packages\\\\tornado\\\\gen.py'>, 'tornado.platform.asyncio': <module 'tornado.platform.asyncio' from 'c:\\\\ProgramData\\\\Anaconda3\\\\lib\\\\site-packages\\\\tornado\\\\platform\\\\asyncio.py'>, 'zmq.eventloop.ioloop': <module 'zmq.eventloop.ioloop' from 'c:\\\\ProgramData\\\\Anaconda3\\\\lib\\\\site-packages\\\\zmq\\\\eventloop\\\\ioloop.py'>, 'zmq.eventloop': <module 'zmq.eventloop' from 'c:\\\\ProgramData\\\\Anaconda3\\\\lib\\\\site-packages\\\\zmq\\\\eventloop\\\\__init__.py'>, 'zmq.eventloop.zmqstream': <module 'zmq.eventloop.zmqstream' from 'c:\\\\ProgramData\\\\Anaconda3\\\\lib\\\\site-packages\\\\zmq\\\\eventloop\\\\zmqstream.py'>, 'IPython.core': <module 'IPython.core' from 'c:\\\\ProgramData\\\\Anaconda3\\\\lib\\\\site-packages\\\\IPython\\\\core\\\\__init__.py'>, 'IPython.core.getipython': <module 'IPython.core.getipython' from 'c:\\\\ProgramData\\\\Anaconda3\\\\lib\\\\site-packages\\\\IPython\\\\core\\\\getipython.py'>, 'IPython.core.release': <module 'IPython.core.release' from 'c:\\\\ProgramData\\\\Anaconda3\\\\lib\\\\site-packages\\\\IPython\\\\core\\\\release.py'>, 'sysconfig': <module 'sysconfig' from 'c:\\\\ProgramData\\\\Anaconda3\\\\lib\\\\sysconfig.py'>, 'pydoc': <module 'pydoc' from 'c:\\\\ProgramData\\\\Anaconda3\\\\lib\\\\pydoc.py'>, 'executing.executing': <module 'executing.executing' from 'c:\\\\ProgramData\\\\Anaconda3\\\\lib\\\\site-packages\\\\executing\\\\executing.py'>, 'executing.version': <module 'executing.version' from 'c:\\\\ProgramData\\\\Anaconda3\\\\lib\\\\site-packages\\\\executing\\\\version.py'>, 'executing': <module 'executing' from 'c:\\\\ProgramData\\\\Anaconda3\\\\lib\\\\site-packages\\\\executing\\\\__init__.py'>, 'asttokens.line_numbers': <module 'asttokens.line_numbers' from 'c:\\\\ProgramData\\\\Anaconda3\\\\lib\\\\site-packages\\\\asttokens\\\\line_numbers.py'>, 'six': <module 'six' from 'c:\\\\ProgramData\\\\Anaconda3\\\\lib\\\\site-packages\\\\six.py'>, 'six.moves': <module 'six.moves' (<six._SixMetaPathImporter object at 0x000002010D2A5D90>)>, 'asttokens.util': <module 'asttokens.util' from 'c:\\\\ProgramData\\\\Anaconda3\\\\lib\\\\site-packages\\\\asttokens\\\\util.py'>, 'asttokens.mark_tokens': <module 'asttokens.mark_tokens' from 'c:\\\\ProgramData\\\\Anaconda3\\\\lib\\\\site-packages\\\\asttokens\\\\mark_tokens.py'>, 'asttokens.asttokens': <module 'asttokens.asttokens' from 'c:\\\\ProgramData\\\\Anaconda3\\\\lib\\\\site-packages\\\\asttokens\\\\asttokens.py'>, 'asttokens': <module 'asttokens' from 'c:\\\\ProgramData\\\\Anaconda3\\\\lib\\\\site-packages\\\\asttokens\\\\__init__.py'>, '_decimal': <module '_decimal' from 'c:\\\\ProgramData\\\\Anaconda3\\\\DLLs\\\\_decimal.pyd'>, 'decimal': <module 'decimal' from 'c:\\\\ProgramData\\\\Anaconda3\\\\lib\\\\decimal.py'>, 'fractions': <module 'fractions' from 'c:\\\\ProgramData\\\\Anaconda3\\\\lib\\\\fractions.py'>, 'pure_eval.utils': <module 'pure_eval.utils' from 'c:\\\\ProgramData\\\\Anaconda3\\\\lib\\\\site-packages\\\\pure_eval\\\\utils.py'>, 'pure_eval.my_getattr_static': <module 'pure_eval.my_getattr_static' from 'c:\\\\ProgramData\\\\Anaconda3\\\\lib\\\\site-packages\\\\pure_eval\\\\my_getattr_static.py'>, 'pure_eval.core': <module 'pure_eval.core' from 'c:\\\\ProgramData\\\\Anaconda3\\\\lib\\\\site-packages\\\\pure_eval\\\\core.py'>, 'pure_eval.version': <module 'pure_eval.version' from 'c:\\\\ProgramData\\\\Anaconda3\\\\lib\\\\site-packages\\\\pure_eval\\\\version.py'>, 'pure_eval': <module 'pure_eval' from 'c:\\\\ProgramData\\\\Anaconda3\\\\lib\\\\site-packages\\\\pure_eval\\\\__init__.py'>, 'stack_data.utils': <module 'stack_data.utils' from 'c:\\\\ProgramData\\\\Anaconda3\\\\lib\\\\site-packages\\\\stack_data\\\\utils.py'>, 'stack_data.core': <module 'stack_data.core' from 'c:\\\\ProgramData\\\\Anaconda3\\\\lib\\\\site-packages\\\\stack_data\\\\core.py'>, 'stack_data.formatting': <module 'stack_data.formatting' from 'c:\\\\ProgramData\\\\Anaconda3\\\\lib\\\\site-packages\\\\stack_data\\\\formatting.py'>, 'stack_data.version': <module 'stack_data.version' from 'c:\\\\ProgramData\\\\Anaconda3\\\\lib\\\\site-packages\\\\stack_data\\\\version.py'>, 'stack_data': <module 'stack_data' from 'c:\\\\ProgramData\\\\Anaconda3\\\\lib\\\\site-packages\\\\stack_data\\\\__init__.py'>, 'pygments': <module 'pygments' from 'c:\\\\ProgramData\\\\Anaconda3\\\\lib\\\\site-packages\\\\pygments\\\\__init__.py'>, 'pygments.formatters._mapping': <module 'pygments.formatters._mapping' from 'c:\\\\ProgramData\\\\Anaconda3\\\\lib\\\\site-packages\\\\pygments\\\\formatters\\\\_mapping.py'>, 'pygments.plugin': <module 'pygments.plugin' from 'c:\\\\ProgramData\\\\Anaconda3\\\\lib\\\\site-packages\\\\pygments\\\\plugin.py'>, 'pygments.util': <module 'pygments.util' from 'c:\\\\ProgramData\\\\Anaconda3\\\\lib\\\\site-packages\\\\pygments\\\\util.py'>, 'pygments.formatters': <module 'pygments.formatters' from 'c:\\\\ProgramData\\\\Anaconda3\\\\lib\\\\site-packages\\\\pygments\\\\formatters\\\\__init__.py'>, 'pygments.styles': <module 'pygments.styles' from 'c:\\\\ProgramData\\\\Anaconda3\\\\lib\\\\site-packages\\\\pygments\\\\styles\\\\__init__.py'>, 'pygments.formatter': <module 'pygments.formatter' from 'c:\\\\ProgramData\\\\Anaconda3\\\\lib\\\\site-packages\\\\pygments\\\\formatter.py'>, 'pygments.console': <module 'pygments.console' from 'c:\\\\ProgramData\\\\Anaconda3\\\\lib\\\\site-packages\\\\pygments\\\\console.py'>, 'pygments.token': <module 'pygments.token' from 'c:\\\\ProgramData\\\\Anaconda3\\\\lib\\\\site-packages\\\\pygments\\\\token.py'>, 'pygments.style': <module 'pygments.style' from 'c:\\\\ProgramData\\\\Anaconda3\\\\lib\\\\site-packages\\\\pygments\\\\style.py'>, 'pygments.formatters.terminal256': <module 'pygments.formatters.terminal256' from 'c:\\\\ProgramData\\\\Anaconda3\\\\lib\\\\site-packages\\\\pygments\\\\formatters\\\\terminal256.py'>, 'bdb': <module 'bdb' from 'c:\\\\ProgramData\\\\Anaconda3\\\\lib\\\\bdb.py'>, 'IPython.utils': <module 'IPython.utils' from 'c:\\\\ProgramData\\\\Anaconda3\\\\lib\\\\site-packages\\\\IPython\\\\utils\\\\__init__.py'>, 'IPython.utils.ipstruct': <module 'IPython.utils.ipstruct' from 'c:\\\\ProgramData\\\\Anaconda3\\\\lib\\\\site-packages\\\\IPython\\\\utils\\\\ipstruct.py'>, 'IPython.utils.coloransi': <module 'IPython.utils.coloransi' from 'c:\\\\ProgramData\\\\Anaconda3\\\\lib\\\\site-packages\\\\IPython\\\\utils\\\\coloransi.py'>, 'IPython.utils.colorable': <module 'IPython.utils.colorable' from 'c:\\\\ProgramData\\\\Anaconda3\\\\lib\\\\site-packages\\\\IPython\\\\utils\\\\colorable.py'>, 'IPython.utils.PyColorize': <module 'IPython.utils.PyColorize' from 'c:\\\\ProgramData\\\\Anaconda3\\\\lib\\\\site-packages\\\\IPython\\\\utils\\\\PyColorize.py'>, 'locale': <module 'locale' from 'c:\\\\ProgramData\\\\Anaconda3\\\\lib\\\\locale.py'>, 'IPython.utils.encoding': <module 'IPython.utils.encoding' from 'c:\\\\ProgramData\\\\Anaconda3\\\\lib\\\\site-packages\\\\IPython\\\\utils\\\\encoding.py'>, 'IPython.utils.py3compat': <module 'IPython.utils.py3compat' from 'c:\\\\ProgramData\\\\Anaconda3\\\\lib\\\\site-packages\\\\IPython\\\\utils\\\\py3compat.py'>, 'IPython.core.excolors': <module 'IPython.core.excolors' from 'c:\\\\ProgramData\\\\Anaconda3\\\\lib\\\\site-packages\\\\IPython\\\\core\\\\excolors.py'>, 'cmd': <module 'cmd' from 'c:\\\\ProgramData\\\\Anaconda3\\\\lib\\\\cmd.py'>, 'codeop': <module 'codeop' from 'c:\\\\ProgramData\\\\Anaconda3\\\\lib\\\\codeop.py'>, 'code': <module 'code' from 'c:\\\\ProgramData\\\\Anaconda3\\\\lib\\\\code.py'>, 'pdb': <module 'pdb' from 'c:\\\\ProgramData\\\\Anaconda3\\\\lib\\\\pdb.py'>, 'IPython.core.debugger': <module 'IPython.core.debugger' from 'c:\\\\ProgramData\\\\Anaconda3\\\\lib\\\\site-packages\\\\IPython\\\\core\\\\debugger.py'>, 'IPython.core.display_trap': <module 'IPython.core.display_trap' from 'c:\\\\ProgramData\\\\Anaconda3\\\\lib\\\\site-packages\\\\IPython\\\\core\\\\display_trap.py'>, 'shlex': <module 'shlex' from 'c:\\\\ProgramData\\\\Anaconda3\\\\lib\\\\shlex.py'>, 'IPython.utils._process_common': <module 'IPython.utils._process_common' from 'c:\\\\ProgramData\\\\Anaconda3\\\\lib\\\\site-packages\\\\IPython\\\\utils\\\\_process_common.py'>, 'IPython.utils._process_win32': <module 'IPython.utils._process_win32' from 'c:\\\\ProgramData\\\\Anaconda3\\\\lib\\\\site-packages\\\\IPython\\\\utils\\\\_process_win32.py'>, 'IPython.utils.process': <module 'IPython.utils.process' from 'c:\\\\ProgramData\\\\Anaconda3\\\\lib\\\\site-packages\\\\IPython\\\\utils\\\\process.py'>, 'IPython.utils.decorators': <module 'IPython.utils.decorators' from 'c:\\\\ProgramData\\\\Anaconda3\\\\lib\\\\site-packages\\\\IPython\\\\utils\\\\decorators.py'>, 'IPython.utils.path': <module 'IPython.utils.path' from 'c:\\\\ProgramData\\\\Anaconda3\\\\lib\\\\site-packages\\\\IPython\\\\utils\\\\path.py'>, 'IPython.utils.terminal': <module 'IPython.utils.terminal' from 'c:\\\\ProgramData\\\\Anaconda3\\\\lib\\\\site-packages\\\\IPython\\\\utils\\\\terminal.py'>, 'IPython.core.ultratb': <module 'IPython.core.ultratb' from 'c:\\\\ProgramData\\\\Anaconda3\\\\lib\\\\site-packages\\\\IPython\\\\core\\\\ultratb.py'>, 'IPython.utils._sysinfo': <module 'IPython.utils._sysinfo' from 'c:\\\\ProgramData\\\\Anaconda3\\\\lib\\\\site-packages\\\\IPython\\\\utils\\\\_sysinfo.py'>, 'IPython.utils.sysinfo': <module 'IPython.utils.sysinfo' from 'c:\\\\ProgramData\\\\Anaconda3\\\\lib\\\\site-packages\\\\IPython\\\\utils\\\\sysinfo.py'>, 'IPython.core.crashhandler': <module 'IPython.core.crashhandler' from 'c:\\\\ProgramData\\\\Anaconda3\\\\lib\\\\site-packages\\\\IPython\\\\core\\\\crashhandler.py'>, 'IPython.utils.importstring': <module 'IPython.utils.importstring' from 'c:\\\\ProgramData\\\\Anaconda3\\\\lib\\\\site-packages\\\\IPython\\\\utils\\\\importstring.py'>, 'IPython.paths': <module 'IPython.paths' from 'c:\\\\ProgramData\\\\Anaconda3\\\\lib\\\\site-packages\\\\IPython\\\\paths.py'>, 'IPython.core.profiledir': <module 'IPython.core.profiledir' from 'c:\\\\ProgramData\\\\Anaconda3\\\\lib\\\\site-packages\\\\IPython\\\\core\\\\profiledir.py'>, 'IPython.core.application': <module 'IPython.core.application' from 'c:\\\\ProgramData\\\\Anaconda3\\\\lib\\\\site-packages\\\\IPython\\\\core\\\\application.py'>, 'IPython.terminal': <module 'IPython.terminal' from 'c:\\\\ProgramData\\\\Anaconda3\\\\lib\\\\site-packages\\\\IPython\\\\terminal\\\\__init__.py'>, '_hashlib': <module '_hashlib' from 'c:\\\\ProgramData\\\\Anaconda3\\\\DLLs\\\\_hashlib.pyd'>, '_blake2': <module '_blake2' (built-in)>, 'hashlib': <module 'hashlib' from 'c:\\\\ProgramData\\\\Anaconda3\\\\lib\\\\hashlib.py'>, 'IPython.core.compilerop': <module 'IPython.core.compilerop' from 'c:\\\\ProgramData\\\\Anaconda3\\\\lib\\\\site-packages\\\\IPython\\\\core\\\\compilerop.py'>, 'IPython.core.error': <module 'IPython.core.error' from 'c:\\\\ProgramData\\\\Anaconda3\\\\lib\\\\site-packages\\\\IPython\\\\core\\\\error.py'>, 'IPython.utils.text': <module 'IPython.utils.text' from 'c:\\\\ProgramData\\\\Anaconda3\\\\lib\\\\site-packages\\\\IPython\\\\utils\\\\text.py'>, 'IPython.core.magic_arguments': <module 'IPython.core.magic_arguments' from 'c:\\\\ProgramData\\\\Anaconda3\\\\lib\\\\site-packages\\\\IPython\\\\core\\\\magic_arguments.py'>, 'getopt': <module 'getopt' from 'c:\\\\ProgramData\\\\Anaconda3\\\\lib\\\\getopt.py'>, 'IPython.core.display_functions': <module 'IPython.core.display_functions' from 'c:\\\\ProgramData\\\\Anaconda3\\\\lib\\\\site-packages\\\\IPython\\\\core\\\\display_functions.py'>, 'mimetypes': <module 'mimetypes' from 'c:\\\\ProgramData\\\\Anaconda3\\\\lib\\\\mimetypes.py'>, 'IPython.testing': <module 'IPython.testing' from 'c:\\\\ProgramData\\\\Anaconda3\\\\lib\\\\site-packages\\\\IPython\\\\testing\\\\__init__.py'>, 'IPython.testing.skipdoctest': <module 'IPython.testing.skipdoctest' from 'c:\\\\ProgramData\\\\Anaconda3\\\\lib\\\\site-packages\\\\IPython\\\\testing\\\\skipdoctest.py'>, 'IPython.core.display': <module 'IPython.core.display' from 'c:\\\\ProgramData\\\\Anaconda3\\\\lib\\\\site-packages\\\\IPython\\\\core\\\\display.py'>, 'IPython.lib': <module 'IPython.lib' from 'c:\\\\ProgramData\\\\Anaconda3\\\\lib\\\\site-packages\\\\IPython\\\\lib\\\\__init__.py'>, 'IPython.lib.display': <module 'IPython.lib.display' from 'c:\\\\ProgramData\\\\Anaconda3\\\\lib\\\\site-packages\\\\IPython\\\\lib\\\\display.py'>, 'IPython.display': <module 'IPython.display' from 'c:\\\\ProgramData\\\\Anaconda3\\\\lib\\\\site-packages\\\\IPython\\\\display.py'>, 'IPython.utils.data': <module 'IPython.utils.data' from 'c:\\\\ProgramData\\\\Anaconda3\\\\lib\\\\site-packages\\\\IPython\\\\utils\\\\data.py'>, 'IPython.core.page': <module 'IPython.core.page' from 'c:\\\\ProgramData\\\\Anaconda3\\\\lib\\\\site-packages\\\\IPython\\\\core\\\\page.py'>, 'IPython.lib.pretty': <module 'IPython.lib.pretty' from 'c:\\\\ProgramData\\\\Anaconda3\\\\lib\\\\site-packages\\\\IPython\\\\lib\\\\pretty.py'>, 'IPython.utils.openpy': <module 'IPython.utils.openpy' from 'c:\\\\ProgramData\\\\Anaconda3\\\\lib\\\\site-packages\\\\IPython\\\\utils\\\\openpy.py'>, 'IPython.utils.dir2': <module 'IPython.utils.dir2' from 'c:\\\\ProgramData\\\\Anaconda3\\\\lib\\\\site-packages\\\\IPython\\\\utils\\\\dir2.py'>, 'IPython.utils.wildcard': <module 'IPython.utils.wildcard' from 'c:\\\\ProgramData\\\\Anaconda3\\\\lib\\\\site-packages\\\\IPython\\\\utils\\\\wildcard.py'>, 'pygments.lexers._mapping': <module 'pygments.lexers._mapping' from 'c:\\\\ProgramData\\\\Anaconda3\\\\lib\\\\site-packages\\\\pygments\\\\lexers\\\\_mapping.py'>, 'pygments.modeline': <module 'pygments.modeline' from 'c:\\\\ProgramData\\\\Anaconda3\\\\lib\\\\site-packages\\\\pygments\\\\modeline.py'>, 'pygments.lexers': <module 'pygments.lexers' from 'c:\\\\ProgramData\\\\Anaconda3\\\\lib\\\\site-packages\\\\pygments\\\\lexers\\\\__init__.py'>, 'pygments.filter': <module 'pygments.filter' from 'c:\\\\ProgramData\\\\Anaconda3\\\\lib\\\\site-packages\\\\pygments\\\\filter.py'>, 'pygments.filters': <module 'pygments.filters' from 'c:\\\\ProgramData\\\\Anaconda3\\\\lib\\\\site-packages\\\\pygments\\\\filters\\\\__init__.py'>, 'pygments.regexopt': <module 'pygments.regexopt' from 'c:\\\\ProgramData\\\\Anaconda3\\\\lib\\\\site-packages\\\\pygments\\\\regexopt.py'>, 'pygments.lexer': <module 'pygments.lexer' from 'c:\\\\ProgramData\\\\Anaconda3\\\\lib\\\\site-packages\\\\pygments\\\\lexer.py'>, 'pygments.unistring': <module 'pygments.unistring' from 'c:\\\\ProgramData\\\\Anaconda3\\\\lib\\\\site-packages\\\\pygments\\\\unistring.py'>, 'pygments.lexers.python': <module 'pygments.lexers.python' from 'c:\\\\ProgramData\\\\Anaconda3\\\\lib\\\\site-packages\\\\pygments\\\\lexers\\\\python.py'>, 'pygments.formatters.html': <module 'pygments.formatters.html' from 'c:\\\\ProgramData\\\\Anaconda3\\\\lib\\\\site-packages\\\\pygments\\\\formatters\\\\html.py'>, 'IPython.core.oinspect': <module 'IPython.core.oinspect' from 'c:\\\\ProgramData\\\\Anaconda3\\\\lib\\\\site-packages\\\\IPython\\\\core\\\\oinspect.py'>, 'IPython.core.inputtransformer2': <module 'IPython.core.inputtransformer2' from 'c:\\\\ProgramData\\\\Anaconda3\\\\lib\\\\site-packages\\\\IPython\\\\core\\\\inputtransformer2.py'>, 'IPython.core.magic': <module 'IPython.core.magic' from 'c:\\\\ProgramData\\\\Anaconda3\\\\lib\\\\site-packages\\\\IPython\\\\core\\\\magic.py'>, 'pickleshare': <module 'pickleshare' from 'c:\\\\ProgramData\\\\Anaconda3\\\\lib\\\\site-packages\\\\pickleshare.py'>, 'IPython.core.hooks': <module 'IPython.core.hooks' from 'c:\\\\ProgramData\\\\Anaconda3\\\\lib\\\\site-packages\\\\IPython\\\\core\\\\hooks.py'>, 'IPython.core.autocall': <module 'IPython.core.autocall' from 'c:\\\\ProgramData\\\\Anaconda3\\\\lib\\\\site-packages\\\\IPython\\\\core\\\\autocall.py'>, 'IPython.core.macro': <module 'IPython.core.macro' from 'c:\\\\ProgramData\\\\Anaconda3\\\\lib\\\\site-packages\\\\IPython\\\\core\\\\macro.py'>, 'IPython.core.splitinput': <module 'IPython.core.splitinput' from 'c:\\\\ProgramData\\\\Anaconda3\\\\lib\\\\site-packages\\\\IPython\\\\core\\\\splitinput.py'>, 'IPython.core.prefilter': <module 'IPython.core.prefilter' from 'c:\\\\ProgramData\\\\Anaconda3\\\\lib\\\\site-packages\\\\IPython\\\\core\\\\prefilter.py'>, 'IPython.core.alias': <module 'IPython.core.alias' from 'c:\\\\ProgramData\\\\Anaconda3\\\\lib\\\\site-packages\\\\IPython\\\\core\\\\alias.py'>, 'IPython.core.builtin_trap': <module 'IPython.core.builtin_trap' from 'c:\\\\ProgramData\\\\Anaconda3\\\\lib\\\\site-packages\\\\IPython\\\\core\\\\builtin_trap.py'>, 'IPython.core.displayhook': <module 'IPython.core.displayhook' from 'c:\\\\ProgramData\\\\Anaconda3\\\\lib\\\\site-packages\\\\IPython\\\\core\\\\displayhook.py'>, 'IPython.core.displaypub': <module 'IPython.core.displaypub' from 'c:\\\\ProgramData\\\\Anaconda3\\\\lib\\\\site-packages\\\\IPython\\\\core\\\\displaypub.py'>, 'backcall.backcall': <module 'backcall.backcall' from 'c:\\\\ProgramData\\\\Anaconda3\\\\lib\\\\site-packages\\\\backcall\\\\backcall.py'>, 'backcall': <module 'backcall' from 'c:\\\\ProgramData\\\\Anaconda3\\\\lib\\\\site-packages\\\\backcall\\\\__init__.py'>, 'IPython.core.events': <module 'IPython.core.events' from 'c:\\\\ProgramData\\\\Anaconda3\\\\lib\\\\site-packages\\\\IPython\\\\core\\\\events.py'>, 'IPython.core.extensions': <module 'IPython.core.extensions' from 'c:\\\\ProgramData\\\\Anaconda3\\\\lib\\\\site-packages\\\\IPython\\\\core\\\\extensions.py'>, 'decorator': <module 'decorator' from 'c:\\\\ProgramData\\\\Anaconda3\\\\lib\\\\site-packages\\\\decorator.py'>, 'IPython.utils.sentinel': <module 'IPython.utils.sentinel' from 'c:\\\\ProgramData\\\\Anaconda3\\\\lib\\\\site-packages\\\\IPython\\\\utils\\\\sentinel.py'>, 'IPython.core.formatters': <module 'IPython.core.formatters' from 'c:\\\\ProgramData\\\\Anaconda3\\\\lib\\\\site-packages\\\\IPython\\\\core\\\\formatters.py'>, '_sqlite3': <module '_sqlite3' from 'c:\\\\ProgramData\\\\Anaconda3\\\\DLLs\\\\_sqlite3.pyd'>, 'sqlite3.dbapi2': <module 'sqlite3.dbapi2' from 'c:\\\\ProgramData\\\\Anaconda3\\\\lib\\\\sqlite3\\\\dbapi2.py'>, 'sqlite3': <module 'sqlite3' from 'c:\\\\ProgramData\\\\Anaconda3\\\\lib\\\\sqlite3\\\\__init__.py'>, 'IPython.core.history': <module 'IPython.core.history' from 'c:\\\\ProgramData\\\\Anaconda3\\\\lib\\\\site-packages\\\\IPython\\\\core\\\\history.py'>, 'IPython.core.logger': <module 'IPython.core.logger' from 'c:\\\\ProgramData\\\\Anaconda3\\\\lib\\\\site-packages\\\\IPython\\\\core\\\\logger.py'>, 'IPython.core.payload': <module 'IPython.core.payload' from 'c:\\\\ProgramData\\\\Anaconda3\\\\lib\\\\site-packages\\\\IPython\\\\core\\\\payload.py'>, 'IPython.core.usage': <module 'IPython.core.usage' from 'c:\\\\ProgramData\\\\Anaconda3\\\\lib\\\\site-packages\\\\IPython\\\\core\\\\usage.py'>, 'IPython.utils.capture': <module 'IPython.utils.capture' from 'c:\\\\ProgramData\\\\Anaconda3\\\\lib\\\\site-packages\\\\IPython\\\\utils\\\\capture.py'>, 'IPython.utils.io': <module 'IPython.utils.io' from 'c:\\\\ProgramData\\\\Anaconda3\\\\lib\\\\site-packages\\\\IPython\\\\utils\\\\io.py'>, 'IPython.utils.strdispatch': <module 'IPython.utils.strdispatch' from 'c:\\\\ProgramData\\\\Anaconda3\\\\lib\\\\site-packages\\\\IPython\\\\utils\\\\strdispatch.py'>, 'IPython.utils.syspathcontext': <module 'IPython.utils.syspathcontext' from 'c:\\\\ProgramData\\\\Anaconda3\\\\lib\\\\site-packages\\\\IPython\\\\utils\\\\syspathcontext.py'>, 'IPython.core.async_helpers': <module 'IPython.core.async_helpers' from 'c:\\\\ProgramData\\\\Anaconda3\\\\lib\\\\site-packages\\\\IPython\\\\core\\\\async_helpers.py'>, 'IPython.core.interactiveshell': <module 'IPython.core.interactiveshell' from 'c:\\\\ProgramData\\\\Anaconda3\\\\lib\\\\site-packages\\\\IPython\\\\core\\\\interactiveshell.py'>, 'prompt_toolkit.application.current': <module 'prompt_toolkit.application.current' from 'c:\\\\ProgramData\\\\Anaconda3\\\\lib\\\\site-packages\\\\prompt_toolkit\\\\application\\\\current.py'>, 'prompt_toolkit.eventloop.utils': <module 'prompt_toolkit.eventloop.utils' from 'c:\\\\ProgramData\\\\Anaconda3\\\\lib\\\\site-packages\\\\prompt_toolkit\\\\eventloop\\\\utils.py'>, 'prompt_toolkit.eventloop.async_generator': <module 'prompt_toolkit.eventloop.async_generator' from 'c:\\\\ProgramData\\\\Anaconda3\\\\lib\\\\site-packages\\\\prompt_toolkit\\\\eventloop\\\\async_generator.py'>, 'wcwidth.table_wide': <module 'wcwidth.table_wide' from 'c:\\\\ProgramData\\\\Anaconda3\\\\lib\\\\site-packages\\\\wcwidth\\\\table_wide.py'>, 'wcwidth.table_zero': <module 'wcwidth.table_zero' from 'c:\\\\ProgramData\\\\Anaconda3\\\\lib\\\\site-packages\\\\wcwidth\\\\table_zero.py'>, 'wcwidth.unicode_versions': <module 'wcwidth.unicode_versions' from 'c:\\\\ProgramData\\\\Anaconda3\\\\lib\\\\site-packages\\\\wcwidth\\\\unicode_versions.py'>, 'wcwidth.wcwidth': <module 'wcwidth.wcwidth' from 'c:\\\\ProgramData\\\\Anaconda3\\\\lib\\\\site-packages\\\\wcwidth\\\\wcwidth.py'>, 'wcwidth': <module 'wcwidth' from 'c:\\\\ProgramData\\\\Anaconda3\\\\lib\\\\site-packages\\\\wcwidth\\\\__init__.py'>, 'prompt_toolkit.utils': <module 'prompt_toolkit.utils' from 'c:\\\\ProgramData\\\\Anaconda3\\\\lib\\\\site-packages\\\\prompt_toolkit\\\\utils.py'>, 'prompt_toolkit.eventloop.inputhook': <module 'prompt_toolkit.eventloop.inputhook' from 'c:\\\\ProgramData\\\\Anaconda3\\\\lib\\\\site-packages\\\\prompt_toolkit\\\\eventloop\\\\inputhook.py'>, 'prompt_toolkit.eventloop': <module 'prompt_toolkit.eventloop' from 'c:\\\\ProgramData\\\\Anaconda3\\\\lib\\\\site-packages\\\\prompt_toolkit\\\\eventloop\\\\__init__.py'>, 'prompt_toolkit.application.run_in_terminal': <module 'prompt_toolkit.application.run_in_terminal' from 'c:\\\\ProgramData\\\\Anaconda3\\\\lib\\\\site-packages\\\\prompt_toolkit\\\\application\\\\run_in_terminal.py'>, 'prompt_toolkit.selection': <module 'prompt_toolkit.selection' from 'c:\\\\ProgramData\\\\Anaconda3\\\\lib\\\\site-packages\\\\prompt_toolkit\\\\selection.py'>, 'prompt_toolkit.clipboard.base': <module 'prompt_toolkit.clipboard.base' from 'c:\\\\ProgramData\\\\Anaconda3\\\\lib\\\\site-packages\\\\prompt_toolkit\\\\clipboard\\\\base.py'>, 'prompt_toolkit.clipboard.in_memory': <module 'prompt_toolkit.clipboard.in_memory' from 'c:\\\\ProgramData\\\\Anaconda3\\\\lib\\\\site-packages\\\\prompt_toolkit\\\\clipboard\\\\in_memory.py'>, 'prompt_toolkit.clipboard': <module 'prompt_toolkit.clipboard' from 'c:\\\\ProgramData\\\\Anaconda3\\\\lib\\\\site-packages\\\\prompt_toolkit\\\\clipboard\\\\__init__.py'>, 'prompt_toolkit.cache': <module 'prompt_toolkit.cache' from 'c:\\\\ProgramData\\\\Anaconda3\\\\lib\\\\site-packages\\\\prompt_toolkit\\\\cache.py'>, 'prompt_toolkit.enums': <module 'prompt_toolkit.enums' from 'c:\\\\ProgramData\\\\Anaconda3\\\\lib\\\\site-packages\\\\prompt_toolkit\\\\enums.py'>, 'prompt_toolkit.filters.base': <module 'prompt_toolkit.filters.base' from 'c:\\\\ProgramData\\\\Anaconda3\\\\lib\\\\site-packages\\\\prompt_toolkit\\\\filters\\\\base.py'>, 'prompt_toolkit.filters.app': <module 'prompt_toolkit.filters.app' from 'c:\\\\ProgramData\\\\Anaconda3\\\\lib\\\\site-packages\\\\prompt_toolkit\\\\filters\\\\app.py'>, 'prompt_toolkit.filters.cli': <module 'prompt_toolkit.filters.cli' from 'c:\\\\ProgramData\\\\Anaconda3\\\\lib\\\\site-packages\\\\prompt_toolkit\\\\filters\\\\cli.py'>, 'prompt_toolkit.filters.utils': <module 'prompt_toolkit.filters.utils' from 'c:\\\\ProgramData\\\\Anaconda3\\\\lib\\\\site-packages\\\\prompt_toolkit\\\\filters\\\\utils.py'>, 'prompt_toolkit.filters': <module 'prompt_toolkit.filters' from 'c:\\\\ProgramData\\\\Anaconda3\\\\lib\\\\site-packages\\\\prompt_toolkit\\\\filters\\\\__init__.py'>, 'prompt_toolkit.document': <module 'prompt_toolkit.document' from 'c:\\\\ProgramData\\\\Anaconda3\\\\lib\\\\site-packages\\\\prompt_toolkit\\\\document.py'>, 'prompt_toolkit.auto_suggest': <module 'prompt_toolkit.auto_suggest' from 'c:\\\\ProgramData\\\\Anaconda3\\\\lib\\\\site-packages\\\\prompt_toolkit\\\\auto_suggest.py'>, 'prompt_toolkit.data_structures': <module 'prompt_toolkit.data_structures' from 'c:\\\\ProgramData\\\\Anaconda3\\\\lib\\\\site-packages\\\\prompt_toolkit\\\\data_structures.py'>, 'prompt_toolkit.styles.base': <module 'prompt_toolkit.styles.base' from 'c:\\\\ProgramData\\\\Anaconda3\\\\lib\\\\site-packages\\\\prompt_toolkit\\\\styles\\\\base.py'>, 'prompt_toolkit.styles.named_colors': <module 'prompt_toolkit.styles.named_colors' from 'c:\\\\ProgramData\\\\Anaconda3\\\\lib\\\\site-packages\\\\prompt_toolkit\\\\styles\\\\named_colors.py'>, 'prompt_toolkit.styles.style': <module 'prompt_toolkit.styles.style' from 'c:\\\\ProgramData\\\\Anaconda3\\\\lib\\\\site-packages\\\\prompt_toolkit\\\\styles\\\\style.py'>, 'prompt_toolkit.styles.defaults': <module 'prompt_toolkit.styles.defaults' from 'c:\\\\ProgramData\\\\Anaconda3\\\\lib\\\\site-packages\\\\prompt_toolkit\\\\styles\\\\defaults.py'>, 'prompt_toolkit.styles.pygments': <module 'prompt_toolkit.styles.pygments' from 'c:\\\\ProgramData\\\\Anaconda3\\\\lib\\\\site-packages\\\\prompt_toolkit\\\\styles\\\\pygments.py'>, 'colorsys': <module 'colorsys' from 'c:\\\\ProgramData\\\\Anaconda3\\\\lib\\\\colorsys.py'>, 'prompt_toolkit.styles.style_transformation': <module 'prompt_toolkit.styles.style_transformation' from 'c:\\\\ProgramData\\\\Anaconda3\\\\lib\\\\site-packages\\\\prompt_toolkit\\\\styles\\\\style_transformation.py'>, 'prompt_toolkit.styles': <module 'prompt_toolkit.styles' from 'c:\\\\ProgramData\\\\Anaconda3\\\\lib\\\\site-packages\\\\prompt_toolkit\\\\styles\\\\__init__.py'>, 'prompt_toolkit.output.color_depth': <module 'prompt_toolkit.output.color_depth' from 'c:\\\\ProgramData\\\\Anaconda3\\\\lib\\\\site-packages\\\\prompt_toolkit\\\\output\\\\color_depth.py'>, 'prompt_toolkit.output.base': <module 'prompt_toolkit.output.base' from 'c:\\\\ProgramData\\\\Anaconda3\\\\lib\\\\site-packages\\\\prompt_toolkit\\\\output\\\\base.py'>, 'prompt_toolkit.output.defaults': <module 'prompt_toolkit.output.defaults' from 'c:\\\\ProgramData\\\\Anaconda3\\\\lib\\\\site-packages\\\\prompt_toolkit\\\\output\\\\defaults.py'>, 'prompt_toolkit.output': <module 'prompt_toolkit.output' from 'c:\\\\ProgramData\\\\Anaconda3\\\\lib\\\\site-packages\\\\prompt_toolkit\\\\output\\\\__init__.py'>, 'prompt_toolkit.output.vt100': <module 'prompt_toolkit.output.vt100' from 'c:\\\\ProgramData\\\\Anaconda3\\\\lib\\\\site-packages\\\\prompt_toolkit\\\\output\\\\vt100.py'>, 'prompt_toolkit.mouse_events': <module 'prompt_toolkit.mouse_events' from 'c:\\\\ProgramData\\\\Anaconda3\\\\lib\\\\site-packages\\\\prompt_toolkit\\\\mouse_events.py'>, 'prompt_toolkit.formatted_text.base': <module 'prompt_toolkit.formatted_text.base' from 'c:\\\\ProgramData\\\\Anaconda3\\\\lib\\\\site-packages\\\\prompt_toolkit\\\\formatted_text\\\\base.py'>, 'prompt_toolkit.formatted_text.ansi': <module 'prompt_toolkit.formatted_text.ansi' from 'c:\\\\ProgramData\\\\Anaconda3\\\\lib\\\\site-packages\\\\prompt_toolkit\\\\formatted_text\\\\ansi.py'>, 'xml': <module 'xml' from 'c:\\\\ProgramData\\\\Anaconda3\\\\lib\\\\xml\\\\__init__.py'>, 'xml.dom.domreg': <module 'xml.dom.domreg' from 'c:\\\\ProgramData\\\\Anaconda3\\\\lib\\\\xml\\\\dom\\\\domreg.py'>, 'xml.dom': <module 'xml.dom' from 'c:\\\\ProgramData\\\\Anaconda3\\\\lib\\\\xml\\\\dom\\\\__init__.py'>, 'xml.dom.minicompat': <module 'xml.dom.minicompat' from 'c:\\\\ProgramData\\\\Anaconda3\\\\lib\\\\xml\\\\dom\\\\minicompat.py'>, 'xml.dom.NodeFilter': <module 'xml.dom.NodeFilter' from 'c:\\\\ProgramData\\\\Anaconda3\\\\lib\\\\xml\\\\dom\\\\NodeFilter.py'>, 'xml.dom.xmlbuilder': <module 'xml.dom.xmlbuilder' from 'c:\\\\ProgramData\\\\Anaconda3\\\\lib\\\\xml\\\\dom\\\\xmlbuilder.py'>, 'xml.dom.minidom': <module 'xml.dom.minidom' from 'c:\\\\ProgramData\\\\Anaconda3\\\\lib\\\\xml\\\\dom\\\\minidom.py'>, 'prompt_toolkit.formatted_text.html': <module 'prompt_toolkit.formatted_text.html' from 'c:\\\\ProgramData\\\\Anaconda3\\\\lib\\\\site-packages\\\\prompt_toolkit\\\\formatted_text\\\\html.py'>, 'prompt_toolkit.formatted_text.pygments': <module 'prompt_toolkit.formatted_text.pygments' from 'c:\\\\ProgramData\\\\Anaconda3\\\\lib\\\\site-packages\\\\prompt_toolkit\\\\formatted_text\\\\pygments.py'>, 'prompt_toolkit.formatted_text.utils': <module 'prompt_toolkit.formatted_text.utils' from 'c:\\\\ProgramData\\\\Anaconda3\\\\lib\\\\site-packages\\\\prompt_toolkit\\\\formatted_text\\\\utils.py'>, 'prompt_toolkit.formatted_text': <module 'prompt_toolkit.formatted_text' from 'c:\\\\ProgramData\\\\Anaconda3\\\\lib\\\\site-packages\\\\prompt_toolkit\\\\formatted_text\\\\__init__.py'>, 'prompt_toolkit.completion.base': <module 'prompt_toolkit.completion.base' from 'c:\\\\ProgramData\\\\Anaconda3\\\\lib\\\\site-packages\\\\prompt_toolkit\\\\completion\\\\base.py'>, 'prompt_toolkit.completion.deduplicate': <module 'prompt_toolkit.completion.deduplicate' from 'c:\\\\ProgramData\\\\Anaconda3\\\\lib\\\\site-packages\\\\prompt_toolkit\\\\completion\\\\deduplicate.py'>, 'prompt_toolkit.completion.filesystem': <module 'prompt_toolkit.completion.filesystem' from 'c:\\\\ProgramData\\\\Anaconda3\\\\lib\\\\site-packages\\\\prompt_toolkit\\\\completion\\\\filesystem.py'>, 'prompt_toolkit.completion.word_completer': <module 'prompt_toolkit.completion.word_completer' from 'c:\\\\ProgramData\\\\Anaconda3\\\\lib\\\\site-packages\\\\prompt_toolkit\\\\completion\\\\word_completer.py'>, 'prompt_toolkit.completion.fuzzy_completer': <module 'prompt_toolkit.completion.fuzzy_completer' from 'c:\\\\ProgramData\\\\Anaconda3\\\\lib\\\\site-packages\\\\prompt_toolkit\\\\completion\\\\fuzzy_completer.py'>, 'prompt_toolkit.completion.nested': <module 'prompt_toolkit.completion.nested' from 'c:\\\\ProgramData\\\\Anaconda3\\\\lib\\\\site-packages\\\\prompt_toolkit\\\\completion\\\\nested.py'>, 'prompt_toolkit.completion': <module 'prompt_toolkit.completion' from 'c:\\\\ProgramData\\\\Anaconda3\\\\lib\\\\site-packages\\\\prompt_toolkit\\\\completion\\\\__init__.py'>, 'prompt_toolkit.history': <module 'prompt_toolkit.history' from 'c:\\\\ProgramData\\\\Anaconda3\\\\lib\\\\site-packages\\\\prompt_toolkit\\\\history.py'>, 'prompt_toolkit.keys': <module 'prompt_toolkit.keys' from 'c:\\\\ProgramData\\\\Anaconda3\\\\lib\\\\site-packages\\\\prompt_toolkit\\\\keys.py'>, 'prompt_toolkit.key_binding.key_bindings': <module 'prompt_toolkit.key_binding.key_bindings' from 'c:\\\\ProgramData\\\\Anaconda3\\\\lib\\\\site-packages\\\\prompt_toolkit\\\\key_binding\\\\key_bindings.py'>, 'prompt_toolkit.key_binding.key_processor': <module 'prompt_toolkit.key_binding.key_processor' from 'c:\\\\ProgramData\\\\Anaconda3\\\\lib\\\\site-packages\\\\prompt_toolkit\\\\key_binding\\\\key_processor.py'>, 'prompt_toolkit.key_binding': <module 'prompt_toolkit.key_binding' from 'c:\\\\ProgramData\\\\Anaconda3\\\\lib\\\\site-packages\\\\prompt_toolkit\\\\key_binding\\\\__init__.py'>, 'prompt_toolkit.key_binding.vi_state': <module 'prompt_toolkit.key_binding.vi_state' from 'c:\\\\ProgramData\\\\Anaconda3\\\\lib\\\\site-packages\\\\prompt_toolkit\\\\key_binding\\\\vi_state.py'>, 'prompt_toolkit.search': <module 'prompt_toolkit.search' from 'c:\\\\ProgramData\\\\Anaconda3\\\\lib\\\\site-packages\\\\prompt_toolkit\\\\search.py'>, 'prompt_toolkit.validation': <module 'prompt_toolkit.validation' from 'c:\\\\ProgramData\\\\Anaconda3\\\\lib\\\\site-packages\\\\prompt_toolkit\\\\validation.py'>, 'prompt_toolkit.buffer': <module 'prompt_toolkit.buffer' from 'c:\\\\ProgramData\\\\Anaconda3\\\\lib\\\\site-packages\\\\prompt_toolkit\\\\buffer.py'>, 'prompt_toolkit.input.base': <module 'prompt_toolkit.input.base' from 'c:\\\\ProgramData\\\\Anaconda3\\\\lib\\\\site-packages\\\\prompt_toolkit\\\\input\\\\base.py'>, 'prompt_toolkit.input.defaults': <module 'prompt_toolkit.input.defaults' from 'c:\\\\ProgramData\\\\Anaconda3\\\\lib\\\\site-packages\\\\prompt_toolkit\\\\input\\\\defaults.py'>, 'prompt_toolkit.input': <module 'prompt_toolkit.input' from 'c:\\\\ProgramData\\\\Anaconda3\\\\lib\\\\site-packages\\\\prompt_toolkit\\\\input\\\\__init__.py'>, 'prompt_toolkit.input.typeahead': <module 'prompt_toolkit.input.typeahead' from 'c:\\\\ProgramData\\\\Anaconda3\\\\lib\\\\site-packages\\\\prompt_toolkit\\\\input\\\\typeahead.py'>, 'prompt_toolkit.key_binding.bindings': <module 'prompt_toolkit.key_binding.bindings' from 'c:\\\\ProgramData\\\\Anaconda3\\\\lib\\\\site-packages\\\\prompt_toolkit\\\\key_binding\\\\bindings\\\\__init__.py'>, 'prompt_toolkit.key_binding.bindings.scroll': <module 'prompt_toolkit.key_binding.bindings.scroll' from 'c:\\\\ProgramData\\\\Anaconda3\\\\lib\\\\site-packages\\\\prompt_toolkit\\\\key_binding\\\\bindings\\\\scroll.py'>, 'prompt_toolkit.key_binding.bindings.page_navigation': <module 'prompt_toolkit.key_binding.bindings.page_navigation' from 'c:\\\\ProgramData\\\\Anaconda3\\\\lib\\\\site-packages\\\\prompt_toolkit\\\\key_binding\\\\bindings\\\\page_navigation.py'>, 'prompt_toolkit.lexers.base': <module 'prompt_toolkit.lexers.base' from 'c:\\\\ProgramData\\\\Anaconda3\\\\lib\\\\site-packages\\\\prompt_toolkit\\\\lexers\\\\base.py'>, 'prompt_toolkit.lexers.pygments': <module 'prompt_toolkit.lexers.pygments' from 'c:\\\\ProgramData\\\\Anaconda3\\\\lib\\\\site-packages\\\\prompt_toolkit\\\\lexers\\\\pygments.py'>, 'prompt_toolkit.lexers': <module 'prompt_toolkit.lexers' from 'c:\\\\ProgramData\\\\Anaconda3\\\\lib\\\\site-packages\\\\prompt_toolkit\\\\lexers\\\\__init__.py'>, 'prompt_toolkit.layout.utils': <module 'prompt_toolkit.layout.utils' from 'c:\\\\ProgramData\\\\Anaconda3\\\\lib\\\\site-packages\\\\prompt_toolkit\\\\layout\\\\utils.py'>, 'prompt_toolkit.layout.processors': <module 'prompt_toolkit.layout.processors' from 'c:\\\\ProgramData\\\\Anaconda3\\\\lib\\\\site-packages\\\\prompt_toolkit\\\\layout\\\\processors.py'>, 'prompt_toolkit.layout.controls': <module 'prompt_toolkit.layout.controls' from 'c:\\\\ProgramData\\\\Anaconda3\\\\lib\\\\site-packages\\\\prompt_toolkit\\\\layout\\\\controls.py'>, 'prompt_toolkit.layout.dimension': <module 'prompt_toolkit.layout.dimension' from 'c:\\\\ProgramData\\\\Anaconda3\\\\lib\\\\site-packages\\\\prompt_toolkit\\\\layout\\\\dimension.py'>, 'prompt_toolkit.layout.margins': <module 'prompt_toolkit.layout.margins' from 'c:\\\\ProgramData\\\\Anaconda3\\\\lib\\\\site-packages\\\\prompt_toolkit\\\\layout\\\\margins.py'>, 'prompt_toolkit.layout.mouse_handlers': <module 'prompt_toolkit.layout.mouse_handlers' from 'c:\\\\ProgramData\\\\Anaconda3\\\\lib\\\\site-packages\\\\prompt_toolkit\\\\layout\\\\mouse_handlers.py'>, 'prompt_toolkit.layout.screen': <module 'prompt_toolkit.layout.screen' from 'c:\\\\ProgramData\\\\Anaconda3\\\\lib\\\\site-packages\\\\prompt_toolkit\\\\layout\\\\screen.py'>, 'prompt_toolkit.layout.containers': <module 'prompt_toolkit.layout.containers' from 'c:\\\\ProgramData\\\\Anaconda3\\\\lib\\\\site-packages\\\\prompt_toolkit\\\\layout\\\\containers.py'>, 'prompt_toolkit.layout.layout': <module 'prompt_toolkit.layout.layout' from 'c:\\\\ProgramData\\\\Anaconda3\\\\lib\\\\site-packages\\\\prompt_toolkit\\\\layout\\\\layout.py'>, 'prompt_toolkit.layout.menus': <module 'prompt_toolkit.layout.menus' from 'c:\\\\ProgramData\\\\Anaconda3\\\\lib\\\\site-packages\\\\prompt_toolkit\\\\layout\\\\menus.py'>, 'prompt_toolkit.layout.scrollable_pane': <module 'prompt_toolkit.layout.scrollable_pane' from 'c:\\\\ProgramData\\\\Anaconda3\\\\lib\\\\site-packages\\\\prompt_toolkit\\\\layout\\\\scrollable_pane.py'>, 'prompt_toolkit.layout': <module 'prompt_toolkit.layout' from 'c:\\\\ProgramData\\\\Anaconda3\\\\lib\\\\site-packages\\\\prompt_toolkit\\\\layout\\\\__init__.py'>, 'prompt_toolkit.key_binding.bindings.completion': <module 'prompt_toolkit.key_binding.bindings.completion' from 'c:\\\\ProgramData\\\\Anaconda3\\\\lib\\\\site-packages\\\\prompt_toolkit\\\\key_binding\\\\bindings\\\\completion.py'>, 'prompt_toolkit.key_binding.bindings.named_commands': <module 'prompt_toolkit.key_binding.bindings.named_commands' from 'c:\\\\ProgramData\\\\Anaconda3\\\\lib\\\\site-packages\\\\prompt_toolkit\\\\key_binding\\\\bindings\\\\named_commands.py'>, 'prompt_toolkit.key_binding.bindings.basic': <module 'prompt_toolkit.key_binding.bindings.basic' from 'c:\\\\ProgramData\\\\Anaconda3\\\\lib\\\\site-packages\\\\prompt_toolkit\\\\key_binding\\\\bindings\\\\basic.py'>, 'prompt_toolkit.key_binding.bindings.cpr': <module 'prompt_toolkit.key_binding.bindings.cpr' from 'c:\\\\ProgramData\\\\Anaconda3\\\\lib\\\\site-packages\\\\prompt_toolkit\\\\key_binding\\\\bindings\\\\cpr.py'>, 'prompt_toolkit.key_binding.bindings.emacs': <module 'prompt_toolkit.key_binding.bindings.emacs' from 'c:\\\\ProgramData\\\\Anaconda3\\\\lib\\\\site-packages\\\\prompt_toolkit\\\\key_binding\\\\bindings\\\\emacs.py'>, 'prompt_toolkit.key_binding.bindings.mouse': <module 'prompt_toolkit.key_binding.bindings.mouse' from 'c:\\\\ProgramData\\\\Anaconda3\\\\lib\\\\site-packages\\\\prompt_toolkit\\\\key_binding\\\\bindings\\\\mouse.py'>, 'prompt_toolkit.input.ansi_escape_sequences': <module 'prompt_toolkit.input.ansi_escape_sequences' from 'c:\\\\ProgramData\\\\Anaconda3\\\\lib\\\\site-packages\\\\prompt_toolkit\\\\input\\\\ansi_escape_sequences.py'>, 'prompt_toolkit.input.vt100_parser': <module 'prompt_toolkit.input.vt100_parser' from 'c:\\\\ProgramData\\\\Anaconda3\\\\lib\\\\site-packages\\\\prompt_toolkit\\\\input\\\\vt100_parser.py'>, 'prompt_toolkit.key_binding.digraphs': <module 'prompt_toolkit.key_binding.digraphs' from 'c:\\\\ProgramData\\\\Anaconda3\\\\lib\\\\site-packages\\\\prompt_toolkit\\\\key_binding\\\\digraphs.py'>, 'prompt_toolkit.key_binding.bindings.vi': <module 'prompt_toolkit.key_binding.bindings.vi' from 'c:\\\\ProgramData\\\\Anaconda3\\\\lib\\\\site-packages\\\\prompt_toolkit\\\\key_binding\\\\bindings\\\\vi.py'>, 'prompt_toolkit.key_binding.defaults': <module 'prompt_toolkit.key_binding.defaults' from 'c:\\\\ProgramData\\\\Anaconda3\\\\lib\\\\site-packages\\\\prompt_toolkit\\\\key_binding\\\\defaults.py'>, 'prompt_toolkit.key_binding.emacs_state': <module 'prompt_toolkit.key_binding.emacs_state' from 'c:\\\\ProgramData\\\\Anaconda3\\\\lib\\\\site-packages\\\\prompt_toolkit\\\\key_binding\\\\emacs_state.py'>, 'prompt_toolkit.layout.dummy': <module 'prompt_toolkit.layout.dummy' from 'c:\\\\ProgramData\\\\Anaconda3\\\\lib\\\\site-packages\\\\prompt_toolkit\\\\layout\\\\dummy.py'>, 'prompt_toolkit.renderer': <module 'prompt_toolkit.renderer' from 'c:\\\\ProgramData\\\\Anaconda3\\\\lib\\\\site-packages\\\\prompt_toolkit\\\\renderer.py'>, 'prompt_toolkit.application.application': <module 'prompt_toolkit.application.application' from 'c:\\\\ProgramData\\\\Anaconda3\\\\lib\\\\site-packages\\\\prompt_toolkit\\\\application\\\\application.py'>, 'prompt_toolkit.application.dummy': <module 'prompt_toolkit.application.dummy' from 'c:\\\\ProgramData\\\\Anaconda3\\\\lib\\\\site-packages\\\\prompt_toolkit\\\\application\\\\dummy.py'>, 'prompt_toolkit.application': <module 'prompt_toolkit.application' from 'c:\\\\ProgramData\\\\Anaconda3\\\\lib\\\\site-packages\\\\prompt_toolkit\\\\application\\\\__init__.py'>, 'prompt_toolkit.key_binding.bindings.focus': <module 'prompt_toolkit.key_binding.bindings.focus' from 'c:\\\\ProgramData\\\\Anaconda3\\\\lib\\\\site-packages\\\\prompt_toolkit\\\\key_binding\\\\bindings\\\\focus.py'>, 'prompt_toolkit.widgets.toolbars': <module 'prompt_toolkit.widgets.toolbars' from 'c:\\\\ProgramData\\\\Anaconda3\\\\lib\\\\site-packages\\\\prompt_toolkit\\\\widgets\\\\toolbars.py'>, 'prompt_toolkit.widgets.base': <module 'prompt_toolkit.widgets.base' from 'c:\\\\ProgramData\\\\Anaconda3\\\\lib\\\\site-packages\\\\prompt_toolkit\\\\widgets\\\\base.py'>, 'prompt_toolkit.widgets.dialogs': <module 'prompt_toolkit.widgets.dialogs' from 'c:\\\\ProgramData\\\\Anaconda3\\\\lib\\\\site-packages\\\\prompt_toolkit\\\\widgets\\\\dialogs.py'>, 'prompt_toolkit.widgets.menus': <module 'prompt_toolkit.widgets.menus' from 'c:\\\\ProgramData\\\\Anaconda3\\\\lib\\\\site-packages\\\\prompt_toolkit\\\\widgets\\\\menus.py'>, 'prompt_toolkit.widgets': <module 'prompt_toolkit.widgets' from 'c:\\\\ProgramData\\\\Anaconda3\\\\lib\\\\site-packages\\\\prompt_toolkit\\\\widgets\\\\__init__.py'>, 'prompt_toolkit.shortcuts.dialogs': <module 'prompt_toolkit.shortcuts.dialogs' from 'c:\\\\ProgramData\\\\Anaconda3\\\\lib\\\\site-packages\\\\prompt_toolkit\\\\shortcuts\\\\dialogs.py'>, 'prompt_toolkit.shortcuts.progress_bar.formatters': <module 'prompt_toolkit.shortcuts.progress_bar.formatters' from 'c:\\\\ProgramData\\\\Anaconda3\\\\lib\\\\site-packages\\\\prompt_toolkit\\\\shortcuts\\\\progress_bar\\\\formatters.py'>, 'prompt_toolkit.shortcuts.progress_bar.base': <module 'prompt_toolkit.shortcuts.progress_bar.base' from 'c:\\\\ProgramData\\\\Anaconda3\\\\lib\\\\site-packages\\\\prompt_toolkit\\\\shortcuts\\\\progress_bar\\\\base.py'>, 'prompt_toolkit.shortcuts.progress_bar': <module 'prompt_toolkit.shortcuts.progress_bar' from 'c:\\\\ProgramData\\\\Anaconda3\\\\lib\\\\site-packages\\\\prompt_toolkit\\\\shortcuts\\\\progress_bar\\\\__init__.py'>, 'prompt_toolkit.key_binding.bindings.auto_suggest': <module 'prompt_toolkit.key_binding.bindings.auto_suggest' from 'c:\\\\ProgramData\\\\Anaconda3\\\\lib\\\\site-packages\\\\prompt_toolkit\\\\key_binding\\\\bindings\\\\auto_suggest.py'>, 'prompt_toolkit.key_binding.bindings.open_in_editor': <module 'prompt_toolkit.key_binding.bindings.open_in_editor' from 'c:\\\\ProgramData\\\\Anaconda3\\\\lib\\\\site-packages\\\\prompt_toolkit\\\\key_binding\\\\bindings\\\\open_in_editor.py'>, 'prompt_toolkit.shortcuts.prompt': <module 'prompt_toolkit.shortcuts.prompt' from 'c:\\\\ProgramData\\\\Anaconda3\\\\lib\\\\site-packages\\\\prompt_toolkit\\\\shortcuts\\\\prompt.py'>, 'prompt_toolkit.shortcuts.utils': <module 'prompt_toolkit.shortcuts.utils' from 'c:\\\\ProgramData\\\\Anaconda3\\\\lib\\\\site-packages\\\\prompt_toolkit\\\\shortcuts\\\\utils.py'>, 'prompt_toolkit.shortcuts': <module 'prompt_toolkit.shortcuts' from 'c:\\\\ProgramData\\\\Anaconda3\\\\lib\\\\site-packages\\\\prompt_toolkit\\\\shortcuts\\\\__init__.py'>, 'prompt_toolkit': <module 'prompt_toolkit' from 'c:\\\\ProgramData\\\\Anaconda3\\\\lib\\\\site-packages\\\\prompt_toolkit\\\\__init__.py'>, 'prompt_toolkit.patch_stdout': <module 'prompt_toolkit.patch_stdout' from 'c:\\\\ProgramData\\\\Anaconda3\\\\lib\\\\site-packages\\\\prompt_toolkit\\\\patch_stdout.py'>, 'unicodedata': <module 'unicodedata' from 'c:\\\\ProgramData\\\\Anaconda3\\\\DLLs\\\\unicodedata.pyd'>, 'IPython.core.latex_symbols': <module 'IPython.core.latex_symbols' from 'c:\\\\ProgramData\\\\Anaconda3\\\\lib\\\\site-packages\\\\IPython\\\\core\\\\latex_symbols.py'>, 'IPython.utils.generics': <module 'IPython.utils.generics' from 'c:\\\\ProgramData\\\\Anaconda3\\\\lib\\\\site-packages\\\\IPython\\\\utils\\\\generics.py'>, 'parso.utils': <module 'parso.utils' from 'c:\\\\ProgramData\\\\Anaconda3\\\\lib\\\\site-packages\\\\parso\\\\utils.py'>, 'parso.tree': <module 'parso.tree' from 'c:\\\\ProgramData\\\\Anaconda3\\\\lib\\\\site-packages\\\\parso\\\\tree.py'>, 'parso.python': <module 'parso.python' from 'c:\\\\ProgramData\\\\Anaconda3\\\\lib\\\\site-packages\\\\parso\\\\python\\\\__init__.py'>, 'parso.python.token': <module 'parso.python.token' from 'c:\\\\ProgramData\\\\Anaconda3\\\\lib\\\\site-packages\\\\parso\\\\python\\\\token.py'>, 'parso.python.tokenize': <module 'parso.python.tokenize' from 'c:\\\\ProgramData\\\\Anaconda3\\\\lib\\\\site-packages\\\\parso\\\\python\\\\tokenize.py'>, 'parso.pgen2.grammar_parser': <module 'parso.pgen2.grammar_parser' from 'c:\\\\ProgramData\\\\Anaconda3\\\\lib\\\\site-packages\\\\parso\\\\pgen2\\\\grammar_parser.py'>, 'parso.pgen2.generator': <module 'parso.pgen2.generator' from 'c:\\\\ProgramData\\\\Anaconda3\\\\lib\\\\site-packages\\\\parso\\\\pgen2\\\\generator.py'>, 'parso.pgen2': <module 'parso.pgen2' from 'c:\\\\ProgramData\\\\Anaconda3\\\\lib\\\\site-packages\\\\parso\\\\pgen2\\\\__init__.py'>, 'parso.parser': <module 'parso.parser' from 'c:\\\\ProgramData\\\\Anaconda3\\\\lib\\\\site-packages\\\\parso\\\\parser.py'>, 'parso._compatibility': <module 'parso._compatibility' from 'c:\\\\ProgramData\\\\Anaconda3\\\\lib\\\\site-packages\\\\parso\\\\_compatibility.py'>, 'difflib': <module 'difflib' from 'c:\\\\ProgramData\\\\Anaconda3\\\\lib\\\\difflib.py'>, 'parso.python.prefix': <module 'parso.python.prefix' from 'c:\\\\ProgramData\\\\Anaconda3\\\\lib\\\\site-packages\\\\parso\\\\python\\\\prefix.py'>, 'parso.python.tree': <module 'parso.python.tree' from 'c:\\\\ProgramData\\\\Anaconda3\\\\lib\\\\site-packages\\\\parso\\\\python\\\\tree.py'>, 'parso.python.parser': <module 'parso.python.parser' from 'c:\\\\ProgramData\\\\Anaconda3\\\\lib\\\\site-packages\\\\parso\\\\python\\\\parser.py'>, 'parso.python.diff': <module 'parso.python.diff' from 'c:\\\\ProgramData\\\\Anaconda3\\\\lib\\\\site-packages\\\\parso\\\\python\\\\diff.py'>, 'gc': <module 'gc' (built-in)>, 'parso.cache': <module 'parso.cache' from 'c:\\\\ProgramData\\\\Anaconda3\\\\lib\\\\site-packages\\\\parso\\\\cache.py'>, 'parso.normalizer': <module 'parso.normalizer' from 'c:\\\\ProgramData\\\\Anaconda3\\\\lib\\\\site-packages\\\\parso\\\\normalizer.py'>, 'parso.python.errors': <module 'parso.python.errors' from 'c:\\\\ProgramData\\\\Anaconda3\\\\lib\\\\site-packages\\\\parso\\\\python\\\\errors.py'>, 'parso.python.pep8': <module 'parso.python.pep8' from 'c:\\\\ProgramData\\\\Anaconda3\\\\lib\\\\site-packages\\\\parso\\\\python\\\\pep8.py'>, 'parso.file_io': <module 'parso.file_io' from 'c:\\\\ProgramData\\\\Anaconda3\\\\lib\\\\site-packages\\\\parso\\\\file_io.py'>, 'parso.grammar': <module 'parso.grammar' from 'c:\\\\ProgramData\\\\Anaconda3\\\\lib\\\\site-packages\\\\parso\\\\grammar.py'>, 'parso': <module 'parso' from 'c:\\\\ProgramData\\\\Anaconda3\\\\lib\\\\site-packages\\\\parso\\\\__init__.py'>, 'jedi.parser_utils': <module 'jedi.parser_utils' from 'c:\\\\ProgramData\\\\Anaconda3\\\\lib\\\\site-packages\\\\jedi\\\\parser_utils.py'>, 'jedi.debug': <module 'jedi.debug' from 'c:\\\\ProgramData\\\\Anaconda3\\\\lib\\\\site-packages\\\\jedi\\\\debug.py'>, 'jedi.settings': <module 'jedi.settings' from 'c:\\\\ProgramData\\\\Anaconda3\\\\lib\\\\site-packages\\\\jedi\\\\settings.py'>, 'jedi.cache': <module 'jedi.cache' from 'c:\\\\ProgramData\\\\Anaconda3\\\\lib\\\\site-packages\\\\jedi\\\\cache.py'>, 'jedi.file_io': <module 'jedi.file_io' from 'c:\\\\ProgramData\\\\Anaconda3\\\\lib\\\\site-packages\\\\jedi\\\\file_io.py'>, 'jedi.inference.cache': <module 'jedi.inference.cache' from 'c:\\\\ProgramData\\\\Anaconda3\\\\lib\\\\site-packages\\\\jedi\\\\inference\\\\cache.py'>, 'jedi.inference.helpers': <module 'jedi.inference.helpers' from 'c:\\\\ProgramData\\\\Anaconda3\\\\lib\\\\site-packages\\\\jedi\\\\inference\\\\helpers.py'>, 'jedi.inference.utils': <module 'jedi.inference.utils' from 'c:\\\\ProgramData\\\\Anaconda3\\\\lib\\\\site-packages\\\\jedi\\\\inference\\\\utils.py'>, 'jedi.inference.base_value': <module 'jedi.inference.base_value' from 'c:\\\\ProgramData\\\\Anaconda3\\\\lib\\\\site-packages\\\\jedi\\\\inference\\\\base_value.py'>, 'jedi.inference.sys_path': <module 'jedi.inference.sys_path' from 'c:\\\\ProgramData\\\\Anaconda3\\\\lib\\\\site-packages\\\\jedi\\\\inference\\\\sys_path.py'>, 'jedi.inference.recursion': <module 'jedi.inference.recursion' from 'c:\\\\ProgramData\\\\Anaconda3\\\\lib\\\\site-packages\\\\jedi\\\\inference\\\\recursion.py'>, 'jedi.inference.flow_analysis': <module 'jedi.inference.flow_analysis' from 'c:\\\\ProgramData\\\\Anaconda3\\\\lib\\\\site-packages\\\\jedi\\\\inference\\\\flow_analysis.py'>, 'jedi.common': <module 'jedi.common' from 'c:\\\\ProgramData\\\\Anaconda3\\\\lib\\\\site-packages\\\\jedi\\\\common.py'>, 'jedi.inference.lazy_value': <module 'jedi.inference.lazy_value' from 'c:\\\\ProgramData\\\\Anaconda3\\\\lib\\\\site-packages\\\\jedi\\\\inference\\\\lazy_value.py'>, 'jedi.inference.docstrings': <module 'jedi.inference.docstrings' from 'c:\\\\ProgramData\\\\Anaconda3\\\\lib\\\\site-packages\\\\jedi\\\\inference\\\\docstrings.py'>, 'jedi.plugins': <module 'jedi.plugins' from 'c:\\\\ProgramData\\\\Anaconda3\\\\lib\\\\site-packages\\\\jedi\\\\plugins\\\\__init__.py'>, 'jedi.inference.names': <module 'jedi.inference.names' from 'c:\\\\ProgramData\\\\Anaconda3\\\\lib\\\\site-packages\\\\jedi\\\\inference\\\\names.py'>, 'jedi.inference.filters': <module 'jedi.inference.filters' from 'c:\\\\ProgramData\\\\Anaconda3\\\\lib\\\\site-packages\\\\jedi\\\\inference\\\\filters.py'>, 'jedi.inference.compiled.getattr_static': <module 'jedi.inference.compiled.getattr_static' from 'c:\\\\ProgramData\\\\Anaconda3\\\\lib\\\\site-packages\\\\jedi\\\\inference\\\\compiled\\\\getattr_static.py'>, 'jedi.inference.compiled.access': <module 'jedi.inference.compiled.access' from 'c:\\\\ProgramData\\\\Anaconda3\\\\lib\\\\site-packages\\\\jedi\\\\inference\\\\compiled\\\\access.py'>, 'jedi.inference.signature': <module 'jedi.inference.signature' from 'c:\\\\ProgramData\\\\Anaconda3\\\\lib\\\\site-packages\\\\jedi\\\\inference\\\\signature.py'>, 'jedi.inference.context': <module 'jedi.inference.context' from 'c:\\\\ProgramData\\\\Anaconda3\\\\lib\\\\site-packages\\\\jedi\\\\inference\\\\context.py'>, 'jedi.inference.compiled.value': <module 'jedi.inference.compiled.value' from 'c:\\\\ProgramData\\\\Anaconda3\\\\lib\\\\site-packages\\\\jedi\\\\inference\\\\compiled\\\\value.py'>, 'jedi.inference.compiled': <module 'jedi.inference.compiled' from 'c:\\\\ProgramData\\\\Anaconda3\\\\lib\\\\site-packages\\\\jedi\\\\inference\\\\compiled\\\\__init__.py'>, 'jedi.inference.analysis': <module 'jedi.inference.analysis' from 'c:\\\\ProgramData\\\\Anaconda3\\\\lib\\\\site-packages\\\\jedi\\\\inference\\\\analysis.py'>, 'jedi.inference.gradual': <module 'jedi.inference.gradual' from 'c:\\\\ProgramData\\\\Anaconda3\\\\lib\\\\site-packages\\\\jedi\\\\inference\\\\gradual\\\\__init__.py'>, 'jedi.inference.value.module': <module 'jedi.inference.value.module' from 'c:\\\\ProgramData\\\\Anaconda3\\\\lib\\\\site-packages\\\\jedi\\\\inference\\\\value\\\\module.py'>, 'jedi.inference.value.dynamic_arrays': <module 'jedi.inference.value.dynamic_arrays' from 'c:\\\\ProgramData\\\\Anaconda3\\\\lib\\\\site-packages\\\\jedi\\\\inference\\\\value\\\\dynamic_arrays.py'>, 'jedi.inference.value.iterable': <module 'jedi.inference.value.iterable' from 'c:\\\\ProgramData\\\\Anaconda3\\\\lib\\\\site-packages\\\\jedi\\\\inference\\\\value\\\\iterable.py'>, 'jedi.inference.arguments': <module 'jedi.inference.arguments' from 'c:\\\\ProgramData\\\\Anaconda3\\\\lib\\\\site-packages\\\\jedi\\\\inference\\\\arguments.py'>, 'jedi.inference.parser_cache': <module 'jedi.inference.parser_cache' from 'c:\\\\ProgramData\\\\Anaconda3\\\\lib\\\\site-packages\\\\jedi\\\\inference\\\\parser_cache.py'>, 'jedi.inference.gradual.generics': <module 'jedi.inference.gradual.generics' from 'c:\\\\ProgramData\\\\Anaconda3\\\\lib\\\\site-packages\\\\jedi\\\\inference\\\\gradual\\\\generics.py'>, 'jedi.inference.value.function': <module 'jedi.inference.value.function' from 'c:\\\\ProgramData\\\\Anaconda3\\\\lib\\\\site-packages\\\\jedi\\\\inference\\\\value\\\\function.py'>, 'jedi.inference.value.klass': <module 'jedi.inference.value.klass' from 'c:\\\\ProgramData\\\\Anaconda3\\\\lib\\\\site-packages\\\\jedi\\\\inference\\\\value\\\\klass.py'>, 'jedi.inference.value.instance': <module 'jedi.inference.value.instance' from 'c:\\\\ProgramData\\\\Anaconda3\\\\lib\\\\site-packages\\\\jedi\\\\inference\\\\value\\\\instance.py'>, 'jedi.inference.value': <module 'jedi.inference.value' from 'c:\\\\ProgramData\\\\Anaconda3\\\\lib\\\\site-packages\\\\jedi\\\\inference\\\\value\\\\__init__.py'>, 'jedi.inference.gradual.base': <module 'jedi.inference.gradual.base' from 'c:\\\\ProgramData\\\\Anaconda3\\\\lib\\\\site-packages\\\\jedi\\\\inference\\\\gradual\\\\base.py'>, 'jedi.inference.gradual.type_var': <module 'jedi.inference.gradual.type_var' from 'c:\\\\ProgramData\\\\Anaconda3\\\\lib\\\\site-packages\\\\jedi\\\\inference\\\\gradual\\\\type_var.py'>, 'jedi.inference.gradual.typing': <module 'jedi.inference.gradual.typing' from 'c:\\\\ProgramData\\\\Anaconda3\\\\lib\\\\site-packages\\\\jedi\\\\inference\\\\gradual\\\\typing.py'>, 'jedi.inference.gradual.stub_value': <module 'jedi.inference.gradual.stub_value' from 'c:\\\\ProgramData\\\\Anaconda3\\\\lib\\\\site-packages\\\\jedi\\\\inference\\\\gradual\\\\stub_value.py'>, 'jedi.inference.gradual.typeshed': <module 'jedi.inference.gradual.typeshed' from 'c:\\\\ProgramData\\\\Anaconda3\\\\lib\\\\site-packages\\\\jedi\\\\inference\\\\gradual\\\\typeshed.py'>, 'jedi._compatibility': <module 'jedi._compatibility' from 'c:\\\\ProgramData\\\\Anaconda3\\\\lib\\\\site-packages\\\\jedi\\\\_compatibility.py'>, 'zipfile': <module 'zipfile' from 'c:\\\\ProgramData\\\\Anaconda3\\\\lib\\\\zipfile.py'>, 'jedi.inference.compiled.subprocess.functions': <module 'jedi.inference.compiled.subprocess.functions' from 'c:\\\\ProgramData\\\\Anaconda3\\\\lib\\\\site-packages\\\\jedi\\\\inference\\\\compiled\\\\subprocess\\\\functions.py'>, 'jedi.api.exceptions': <module 'jedi.api.exceptions' from 'c:\\\\ProgramData\\\\Anaconda3\\\\lib\\\\site-packages\\\\jedi\\\\api\\\\exceptions.py'>, 'jedi.inference.compiled.subprocess': <module 'jedi.inference.compiled.subprocess' from 'c:\\\\ProgramData\\\\Anaconda3\\\\lib\\\\site-packages\\\\jedi\\\\inference\\\\compiled\\\\subprocess\\\\__init__.py'>, 'jedi.inference.imports': <module 'jedi.inference.imports' from 'c:\\\\ProgramData\\\\Anaconda3\\\\lib\\\\site-packages\\\\jedi\\\\inference\\\\imports.py'>, 'jedi.inference.param': <module 'jedi.inference.param' from 'c:\\\\ProgramData\\\\Anaconda3\\\\lib\\\\site-packages\\\\jedi\\\\inference\\\\param.py'>, 'jedi.inference.gradual.annotation': <module 'jedi.inference.gradual.annotation' from 'c:\\\\ProgramData\\\\Anaconda3\\\\lib\\\\site-packages\\\\jedi\\\\inference\\\\gradual\\\\annotation.py'>, 'jedi.inference.value.decorator': <module 'jedi.inference.value.decorator' from 'c:\\\\ProgramData\\\\Anaconda3\\\\lib\\\\site-packages\\\\jedi\\\\inference\\\\value\\\\decorator.py'>, 'jedi.inference.syntax_tree': <module 'jedi.inference.syntax_tree' from 'c:\\\\ProgramData\\\\Anaconda3\\\\lib\\\\site-packages\\\\jedi\\\\inference\\\\syntax_tree.py'>, 'jedi.inference': <module 'jedi.inference' from 'c:\\\\ProgramData\\\\Anaconda3\\\\lib\\\\site-packages\\\\jedi\\\\inference\\\\__init__.py'>, 'jedi.inference.gradual.conversion': <module 'jedi.inference.gradual.conversion' from 'c:\\\\ProgramData\\\\Anaconda3\\\\lib\\\\site-packages\\\\jedi\\\\inference\\\\gradual\\\\conversion.py'>, 'jedi.inference.compiled.mixed': <module 'jedi.inference.compiled.mixed' from 'c:\\\\ProgramData\\\\Anaconda3\\\\lib\\\\site-packages\\\\jedi\\\\inference\\\\compiled\\\\mixed.py'>, 'pydoc_data': <module 'pydoc_data' from 'c:\\\\ProgramData\\\\Anaconda3\\\\lib\\\\pydoc_data\\\\__init__.py'>, 'pydoc_data.topics': <module 'pydoc_data.topics' from 'c:\\\\ProgramData\\\\Anaconda3\\\\lib\\\\pydoc_data\\\\topics.py'>, 'jedi.api.keywords': <module 'jedi.api.keywords' from 'c:\\\\ProgramData\\\\Anaconda3\\\\lib\\\\site-packages\\\\jedi\\\\api\\\\keywords.py'>, 'jedi.api.completion_cache': <module 'jedi.api.completion_cache' from 'c:\\\\ProgramData\\\\Anaconda3\\\\lib\\\\site-packages\\\\jedi\\\\api\\\\completion_cache.py'>, 'jedi.api.helpers': <module 'jedi.api.helpers' from 'c:\\\\ProgramData\\\\Anaconda3\\\\lib\\\\site-packages\\\\jedi\\\\api\\\\helpers.py'>, 'jedi.api.classes': <module 'jedi.api.classes' from 'c:\\\\ProgramData\\\\Anaconda3\\\\lib\\\\site-packages\\\\jedi\\\\api\\\\classes.py'>, 'jedi.api.interpreter': <module 'jedi.api.interpreter' from 'c:\\\\ProgramData\\\\Anaconda3\\\\lib\\\\site-packages\\\\jedi\\\\api\\\\interpreter.py'>, 'jedi.api.strings': <module 'jedi.api.strings' from 'c:\\\\ProgramData\\\\Anaconda3\\\\lib\\\\site-packages\\\\jedi\\\\api\\\\strings.py'>, 'jedi.api.file_name': <module 'jedi.api.file_name' from 'c:\\\\ProgramData\\\\Anaconda3\\\\lib\\\\site-packages\\\\jedi\\\\api\\\\file_name.py'>, 'jedi.inference.docstring_utils': <module 'jedi.inference.docstring_utils' from 'c:\\\\ProgramData\\\\Anaconda3\\\\lib\\\\site-packages\\\\jedi\\\\inference\\\\docstring_utils.py'>, 'jedi.api.completion': <module 'jedi.api.completion' from 'c:\\\\ProgramData\\\\Anaconda3\\\\lib\\\\site-packages\\\\jedi\\\\api\\\\completion.py'>, 'filecmp': <module 'filecmp' from 'c:\\\\ProgramData\\\\Anaconda3\\\\lib\\\\filecmp.py'>, 'jedi.api.environment': <module 'jedi.api.environment' from 'c:\\\\ProgramData\\\\Anaconda3\\\\lib\\\\site-packages\\\\jedi\\\\api\\\\environment.py'>, 'jedi.inference.references': <module 'jedi.inference.references' from 'c:\\\\ProgramData\\\\Anaconda3\\\\lib\\\\site-packages\\\\jedi\\\\inference\\\\references.py'>, 'jedi.api.project': <module 'jedi.api.project' from 'c:\\\\ProgramData\\\\Anaconda3\\\\lib\\\\site-packages\\\\jedi\\\\api\\\\project.py'>, 'jedi.api.errors': <module 'jedi.api.errors' from 'c:\\\\ProgramData\\\\Anaconda3\\\\lib\\\\site-packages\\\\jedi\\\\api\\\\errors.py'>, 'jedi.api.refactoring': <module 'jedi.api.refactoring' from 'c:\\\\ProgramData\\\\Anaconda3\\\\lib\\\\site-packages\\\\jedi\\\\api\\\\refactoring\\\\__init__.py'>, 'jedi.api.refactoring.extract': <module 'jedi.api.refactoring.extract' from 'c:\\\\ProgramData\\\\Anaconda3\\\\lib\\\\site-packages\\\\jedi\\\\api\\\\refactoring\\\\extract.py'>, 'jedi.inference.gradual.utils': <module 'jedi.inference.gradual.utils' from 'c:\\\\ProgramData\\\\Anaconda3\\\\lib\\\\site-packages\\\\jedi\\\\inference\\\\gradual\\\\utils.py'>, 'jedi.api': <module 'jedi.api' from 'c:\\\\ProgramData\\\\Anaconda3\\\\lib\\\\site-packages\\\\jedi\\\\api\\\\__init__.py'>, 'jedi.plugins.stdlib': <module 'jedi.plugins.stdlib' from 'c:\\\\ProgramData\\\\Anaconda3\\\\lib\\\\site-packages\\\\jedi\\\\plugins\\\\stdlib.py'>, 'jedi.plugins.flask': <module 'jedi.plugins.flask' from 'c:\\\\ProgramData\\\\Anaconda3\\\\lib\\\\site-packages\\\\jedi\\\\plugins\\\\flask.py'>, 'jedi.plugins.pytest': <module 'jedi.plugins.pytest' from 'c:\\\\ProgramData\\\\Anaconda3\\\\lib\\\\site-packages\\\\jedi\\\\plugins\\\\pytest.py'>, 'jedi.plugins.django': <module 'jedi.plugins.django' from 'c:\\\\ProgramData\\\\Anaconda3\\\\lib\\\\site-packages\\\\jedi\\\\plugins\\\\django.py'>, 'jedi.plugins.registry': <module 'jedi.plugins.registry' from 'c:\\\\ProgramData\\\\Anaconda3\\\\lib\\\\site-packages\\\\jedi\\\\plugins\\\\registry.py'>, 'jedi': <module 'jedi' from 'c:\\\\ProgramData\\\\Anaconda3\\\\lib\\\\site-packages\\\\jedi\\\\__init__.py'>, 'IPython.core.completer': <module 'IPython.core.completer' from 'c:\\\\ProgramData\\\\Anaconda3\\\\lib\\\\site-packages\\\\IPython\\\\core\\\\completer.py'>, 'IPython.terminal.ptutils': <module 'IPython.terminal.ptutils' from 'c:\\\\ProgramData\\\\Anaconda3\\\\lib\\\\site-packages\\\\IPython\\\\terminal\\\\ptutils.py'>, 'IPython.lib.clipboard': <module 'IPython.lib.clipboard' from 'c:\\\\ProgramData\\\\Anaconda3\\\\lib\\\\site-packages\\\\IPython\\\\lib\\\\clipboard.py'>, 'IPython.terminal.shortcuts': <module 'IPython.terminal.shortcuts' from 'c:\\\\ProgramData\\\\Anaconda3\\\\lib\\\\site-packages\\\\IPython\\\\terminal\\\\shortcuts.py'>, 'concurrent.futures.thread': <module 'concurrent.futures.thread' from 'c:\\\\ProgramData\\\\Anaconda3\\\\lib\\\\concurrent\\\\futures\\\\thread.py'>, 'IPython.terminal.debugger': <module 'IPython.terminal.debugger' from 'c:\\\\ProgramData\\\\Anaconda3\\\\lib\\\\site-packages\\\\IPython\\\\terminal\\\\debugger.py'>, 'IPython.terminal.magics': <module 'IPython.terminal.magics' from 'c:\\\\ProgramData\\\\Anaconda3\\\\lib\\\\site-packages\\\\IPython\\\\terminal\\\\magics.py'>, 'IPython.terminal.pt_inputhooks': <module 'IPython.terminal.pt_inputhooks' from 'c:\\\\ProgramData\\\\Anaconda3\\\\lib\\\\site-packages\\\\IPython\\\\terminal\\\\pt_inputhooks\\\\__init__.py'>, 'IPython.terminal.prompts': <module 'IPython.terminal.prompts' from 'c:\\\\ProgramData\\\\Anaconda3\\\\lib\\\\site-packages\\\\IPython\\\\terminal\\\\prompts.py'>, 'IPython.terminal.interactiveshell': <module 'IPython.terminal.interactiveshell' from 'c:\\\\ProgramData\\\\Anaconda3\\\\lib\\\\site-packages\\\\IPython\\\\terminal\\\\interactiveshell.py'>, 'IPython.core.magics.auto': <module 'IPython.core.magics.auto' from 'c:\\\\ProgramData\\\\Anaconda3\\\\lib\\\\site-packages\\\\IPython\\\\core\\\\magics\\\\auto.py'>, 'IPython.core.magics.basic': <module 'IPython.core.magics.basic' from 'c:\\\\ProgramData\\\\Anaconda3\\\\lib\\\\site-packages\\\\IPython\\\\core\\\\magics\\\\basic.py'>, 'email': <module 'email' from 'c:\\\\ProgramData\\\\Anaconda3\\\\lib\\\\email\\\\__init__.py'>, 'http': <module 'http' from 'c:\\\\ProgramData\\\\Anaconda3\\\\lib\\\\http\\\\__init__.py'>, 'email.errors': <module 'email.errors' from 'c:\\\\ProgramData\\\\Anaconda3\\\\lib\\\\email\\\\errors.py'>, 'email.quoprimime': <module 'email.quoprimime' from 'c:\\\\ProgramData\\\\Anaconda3\\\\lib\\\\email\\\\quoprimime.py'>, 'email.base64mime': <module 'email.base64mime' from 'c:\\\\ProgramData\\\\Anaconda3\\\\lib\\\\email\\\\base64mime.py'>, 'quopri': <module 'quopri' from 'c:\\\\ProgramData\\\\Anaconda3\\\\lib\\\\quopri.py'>, 'email.encoders': <module 'email.encoders' from 'c:\\\\ProgramData\\\\Anaconda3\\\\lib\\\\email\\\\encoders.py'>, 'email.charset': <module 'email.charset' from 'c:\\\\ProgramData\\\\Anaconda3\\\\lib\\\\email\\\\charset.py'>, 'email.header': <module 'email.header' from 'c:\\\\ProgramData\\\\Anaconda3\\\\lib\\\\email\\\\header.py'>, 'calendar': <module 'calendar' from 'c:\\\\ProgramData\\\\Anaconda3\\\\lib\\\\calendar.py'>, 'email._parseaddr': <module 'email._parseaddr' from 'c:\\\\ProgramData\\\\Anaconda3\\\\lib\\\\email\\\\_parseaddr.py'>, 'email.utils': <module 'email.utils' from 'c:\\\\ProgramData\\\\Anaconda3\\\\lib\\\\email\\\\utils.py'>, 'email._policybase': <module 'email._policybase' from 'c:\\\\ProgramData\\\\Anaconda3\\\\lib\\\\email\\\\_policybase.py'>, 'email.feedparser': <module 'email.feedparser' from 'c:\\\\ProgramData\\\\Anaconda3\\\\lib\\\\email\\\\feedparser.py'>, 'email.parser': <module 'email.parser' from 'c:\\\\ProgramData\\\\Anaconda3\\\\lib\\\\email\\\\parser.py'>, 'uu': <module 'uu' from 'c:\\\\ProgramData\\\\Anaconda3\\\\lib\\\\uu.py'>, 'email._encoded_words': <module 'email._encoded_words' from 'c:\\\\ProgramData\\\\Anaconda3\\\\lib\\\\email\\\\_encoded_words.py'>, 'email.iterators': <module 'email.iterators' from 'c:\\\\ProgramData\\\\Anaconda3\\\\lib\\\\email\\\\iterators.py'>, 'email.message': <module 'email.message' from 'c:\\\\ProgramData\\\\Anaconda3\\\\lib\\\\email\\\\message.py'>, 'http.client': <module 'http.client' from 'c:\\\\ProgramData\\\\Anaconda3\\\\lib\\\\http\\\\client.py'>, 'urllib.response': <module 'urllib.response' from 'c:\\\\ProgramData\\\\Anaconda3\\\\lib\\\\urllib\\\\response.py'>, 'urllib.error': <module 'urllib.error' from 'c:\\\\ProgramData\\\\Anaconda3\\\\lib\\\\urllib\\\\error.py'>, 'nturl2path': <module 'nturl2path' from 'c:\\\\ProgramData\\\\Anaconda3\\\\lib\\\\nturl2path.py'>, 'urllib.request': <module 'urllib.request' from 'c:\\\\ProgramData\\\\Anaconda3\\\\lib\\\\urllib\\\\request.py'>, 'IPython.utils.contexts': <module 'IPython.utils.contexts' from 'c:\\\\ProgramData\\\\Anaconda3\\\\lib\\\\site-packages\\\\IPython\\\\utils\\\\contexts.py'>, 'IPython.core.magics.code': <module 'IPython.core.magics.code' from 'c:\\\\ProgramData\\\\Anaconda3\\\\lib\\\\site-packages\\\\IPython\\\\core\\\\magics\\\\code.py'>, 'IPython.core.magics.config': <module 'IPython.core.magics.config' from 'c:\\\\ProgramData\\\\Anaconda3\\\\lib\\\\site-packages\\\\IPython\\\\core\\\\magics\\\\config.py'>, 'IPython.core.magics.display': <module 'IPython.core.magics.display' from 'c:\\\\ProgramData\\\\Anaconda3\\\\lib\\\\site-packages\\\\IPython\\\\core\\\\magics\\\\display.py'>, '_lsprof': <module '_lsprof' (built-in)>, 'profile': <module 'profile' from 'c:\\\\ProgramData\\\\Anaconda3\\\\lib\\\\profile.py'>, 'cProfile': <module 'cProfile' from 'c:\\\\ProgramData\\\\Anaconda3\\\\lib\\\\cProfile.py'>, 'dataclasses': <module 'dataclasses' from 'c:\\\\ProgramData\\\\Anaconda3\\\\lib\\\\dataclasses.py'>, 'pstats': <module 'pstats' from 'c:\\\\ProgramData\\\\Anaconda3\\\\lib\\\\pstats.py'>, 'timeit': <module 'timeit' from 'c:\\\\ProgramData\\\\Anaconda3\\\\lib\\\\timeit.py'>, 'IPython.utils.module_paths': <module 'IPython.utils.module_paths' from 'c:\\\\ProgramData\\\\Anaconda3\\\\lib\\\\site-packages\\\\IPython\\\\utils\\\\module_paths.py'>, 'IPython.utils.timing': <module 'IPython.utils.timing' from 'c:\\\\ProgramData\\\\Anaconda3\\\\lib\\\\site-packages\\\\IPython\\\\utils\\\\timing.py'>, 'IPython.core.magics.execution': <module 'IPython.core.magics.execution' from 'c:\\\\ProgramData\\\\Anaconda3\\\\lib\\\\site-packages\\\\IPython\\\\core\\\\magics\\\\execution.py'>, 'IPython.core.magics.extension': <module 'IPython.core.magics.extension' from 'c:\\\\ProgramData\\\\Anaconda3\\\\lib\\\\site-packages\\\\IPython\\\\core\\\\magics\\\\extension.py'>, 'IPython.core.magics.history': <module 'IPython.core.magics.history' from 'c:\\\\ProgramData\\\\Anaconda3\\\\lib\\\\site-packages\\\\IPython\\\\core\\\\magics\\\\history.py'>, 'IPython.core.magics.logging': <module 'IPython.core.magics.logging' from 'c:\\\\ProgramData\\\\Anaconda3\\\\lib\\\\site-packages\\\\IPython\\\\core\\\\magics\\\\logging.py'>, 'IPython.core.magics.namespace': <module 'IPython.core.magics.namespace' from 'c:\\\\ProgramData\\\\Anaconda3\\\\lib\\\\site-packages\\\\IPython\\\\core\\\\magics\\\\namespace.py'>, 'IPython.core.magics.osm': <module 'IPython.core.magics.osm' from 'c:\\\\ProgramData\\\\Anaconda3\\\\lib\\\\site-packages\\\\IPython\\\\core\\\\magics\\\\osm.py'>, 'IPython.core.magics.packaging': <module 'IPython.core.magics.packaging' from 'c:\\\\ProgramData\\\\Anaconda3\\\\lib\\\\site-packages\\\\IPython\\\\core\\\\magics\\\\packaging.py'>, 'IPython.core.pylabtools': <module 'IPython.core.pylabtools' from 'c:\\\\ProgramData\\\\Anaconda3\\\\lib\\\\site-packages\\\\IPython\\\\core\\\\pylabtools.py'>, 'IPython.core.magics.pylab': <module 'IPython.core.magics.pylab' from 'c:\\\\ProgramData\\\\Anaconda3\\\\lib\\\\site-packages\\\\IPython\\\\core\\\\magics\\\\pylab.py'>, 'IPython.core.magics.script': <module 'IPython.core.magics.script' from 'c:\\\\ProgramData\\\\Anaconda3\\\\lib\\\\site-packages\\\\IPython\\\\core\\\\magics\\\\script.py'>, 'IPython.core.magics': <module 'IPython.core.magics' from 'c:\\\\ProgramData\\\\Anaconda3\\\\lib\\\\site-packages\\\\IPython\\\\core\\\\magics\\\\__init__.py'>, 'IPython.core.shellapp': <module 'IPython.core.shellapp' from 'c:\\\\ProgramData\\\\Anaconda3\\\\lib\\\\site-packages\\\\IPython\\\\core\\\\shellapp.py'>, 'IPython.extensions': <module 'IPython.extensions' from 'c:\\\\ProgramData\\\\Anaconda3\\\\lib\\\\site-packages\\\\IPython\\\\extensions\\\\__init__.py'>, 'IPython.extensions.storemagic': <module 'IPython.extensions.storemagic' from 'c:\\\\ProgramData\\\\Anaconda3\\\\lib\\\\site-packages\\\\IPython\\\\extensions\\\\storemagic.py'>, 'IPython.terminal.ipapp': <module 'IPython.terminal.ipapp' from 'c:\\\\ProgramData\\\\Anaconda3\\\\lib\\\\site-packages\\\\IPython\\\\terminal\\\\ipapp.py'>, 'IPython.terminal.embed': <module 'IPython.terminal.embed' from 'c:\\\\ProgramData\\\\Anaconda3\\\\lib\\\\site-packages\\\\IPython\\\\terminal\\\\embed.py'>, 'IPython.utils.frame': <module 'IPython.utils.frame' from 'c:\\\\ProgramData\\\\Anaconda3\\\\lib\\\\site-packages\\\\IPython\\\\utils\\\\frame.py'>, 'IPython': <module 'IPython' from 'c:\\\\ProgramData\\\\Anaconda3\\\\lib\\\\site-packages\\\\IPython\\\\__init__.py'>, 'imp': <module 'imp' from 'c:\\\\ProgramData\\\\Anaconda3\\\\lib\\\\imp.py'>, 'hmac': <module 'hmac' from 'c:\\\\ProgramData\\\\Anaconda3\\\\lib\\\\hmac.py'>, 'dateutil._version': <module 'dateutil._version' from 'c:\\\\ProgramData\\\\Anaconda3\\\\lib\\\\site-packages\\\\dateutil\\\\_version.py'>, 'dateutil': <module 'dateutil' from 'c:\\\\ProgramData\\\\Anaconda3\\\\lib\\\\site-packages\\\\dateutil\\\\__init__.py'>, 'dateutil._common': <module 'dateutil._common' from 'c:\\\\ProgramData\\\\Anaconda3\\\\lib\\\\site-packages\\\\dateutil\\\\_common.py'>, 'dateutil.relativedelta': <module 'dateutil.relativedelta' from 'c:\\\\ProgramData\\\\Anaconda3\\\\lib\\\\site-packages\\\\dateutil\\\\relativedelta.py'>, 'dateutil.tz._common': <module 'dateutil.tz._common' from 'c:\\\\ProgramData\\\\Anaconda3\\\\lib\\\\site-packages\\\\dateutil\\\\tz\\\\_common.py'>, 'dateutil.tz._factories': <module 'dateutil.tz._factories' from 'c:\\\\ProgramData\\\\Anaconda3\\\\lib\\\\site-packages\\\\dateutil\\\\tz\\\\_factories.py'>, 'dateutil.tz.win': <module 'dateutil.tz.win' from 'c:\\\\ProgramData\\\\Anaconda3\\\\lib\\\\site-packages\\\\dateutil\\\\tz\\\\win.py'>, 'dateutil.tz.tz': <module 'dateutil.tz.tz' from 'c:\\\\ProgramData\\\\Anaconda3\\\\lib\\\\site-packages\\\\dateutil\\\\tz\\\\tz.py'>, 'dateutil.tz': <module 'dateutil.tz' from 'c:\\\\ProgramData\\\\Anaconda3\\\\lib\\\\site-packages\\\\dateutil\\\\tz\\\\__init__.py'>, 'dateutil.parser._parser': <module 'dateutil.parser._parser' from 'c:\\\\ProgramData\\\\Anaconda3\\\\lib\\\\site-packages\\\\dateutil\\\\parser\\\\_parser.py'>, 'dateutil.parser.isoparser': <module 'dateutil.parser.isoparser' from 'c:\\\\ProgramData\\\\Anaconda3\\\\lib\\\\site-packages\\\\dateutil\\\\parser\\\\isoparser.py'>, 'dateutil.parser': <module 'dateutil.parser' from 'c:\\\\ProgramData\\\\Anaconda3\\\\lib\\\\site-packages\\\\dateutil\\\\parser\\\\__init__.py'>, '_strptime': <module '_strptime' from 'c:\\\\ProgramData\\\\Anaconda3\\\\lib\\\\_strptime.py'>, 'jupyter_client.jsonutil': <module 'jupyter_client.jsonutil' from 'c:\\\\ProgramData\\\\Anaconda3\\\\lib\\\\site-packages\\\\jupyter_client\\\\jsonutil.py'>, 'jupyter_client.adapter': <module 'jupyter_client.adapter' from 'c:\\\\ProgramData\\\\Anaconda3\\\\lib\\\\site-packages\\\\jupyter_client\\\\adapter.py'>, 'jupyter_client.session': <module 'jupyter_client.session' from 'c:\\\\ProgramData\\\\Anaconda3\\\\lib\\\\site-packages\\\\jupyter_client\\\\session.py'>, 'ipykernel.iostream': <module 'ipykernel.iostream' from 'c:\\\\ProgramData\\\\Anaconda3\\\\lib\\\\site-packages\\\\ipykernel\\\\iostream.py'>, 'ipykernel.control': <module 'ipykernel.control' from 'c:\\\\ProgramData\\\\Anaconda3\\\\lib\\\\site-packages\\\\ipykernel\\\\control.py'>, 'ipykernel.heartbeat': <module 'ipykernel.heartbeat' from 'c:\\\\ProgramData\\\\Anaconda3\\\\lib\\\\site-packages\\\\ipykernel\\\\heartbeat.py'>, 'IPython.utils.tokenutil': <module 'IPython.utils.tokenutil' from 'c:\\\\ProgramData\\\\Anaconda3\\\\lib\\\\site-packages\\\\IPython\\\\utils\\\\tokenutil.py'>, 'psutil._common': <module 'psutil._common' from 'c:\\\\ProgramData\\\\Anaconda3\\\\lib\\\\site-packages\\\\psutil\\\\_common.py'>, 'psutil._compat': <module 'psutil._compat' from 'c:\\\\ProgramData\\\\Anaconda3\\\\lib\\\\site-packages\\\\psutil\\\\_compat.py'>, 'psutil._psutil_windows': <module 'psutil._psutil_windows' from 'c:\\\\ProgramData\\\\Anaconda3\\\\lib\\\\site-packages\\\\psutil\\\\_psutil_windows.cp39-win_amd64.pyd'>, 'psutil._pswindows': <module 'psutil._pswindows' from 'c:\\\\ProgramData\\\\Anaconda3\\\\lib\\\\site-packages\\\\psutil\\\\_pswindows.py'>, 'psutil': <module 'psutil' from 'c:\\\\ProgramData\\\\Anaconda3\\\\lib\\\\site-packages\\\\psutil\\\\__init__.py'>, 'tornado.locks': <module 'tornado.locks' from 'c:\\\\ProgramData\\\\Anaconda3\\\\lib\\\\site-packages\\\\tornado\\\\locks.py'>, 'tornado.queues': <module 'tornado.queues' from 'c:\\\\ProgramData\\\\Anaconda3\\\\lib\\\\site-packages\\\\tornado\\\\queues.py'>, 'ipykernel.jsonutil': <module 'ipykernel.jsonutil' from 'c:\\\\ProgramData\\\\Anaconda3\\\\lib\\\\site-packages\\\\ipykernel\\\\jsonutil.py'>, 'ipykernel.kernelbase': <module 'ipykernel.kernelbase' from 'c:\\\\ProgramData\\\\Anaconda3\\\\lib\\\\site-packages\\\\ipykernel\\\\kernelbase.py'>, 'ipykernel.comm.comm': <module 'ipykernel.comm.comm' from 'c:\\\\ProgramData\\\\Anaconda3\\\\lib\\\\site-packages\\\\ipykernel\\\\comm\\\\comm.py'>, 'ipykernel.comm.manager': <module 'ipykernel.comm.manager' from 'c:\\\\ProgramData\\\\Anaconda3\\\\lib\\\\site-packages\\\\ipykernel\\\\comm\\\\manager.py'>, 'ipykernel.comm': <module 'ipykernel.comm' from 'c:\\\\ProgramData\\\\Anaconda3\\\\lib\\\\site-packages\\\\ipykernel\\\\comm\\\\__init__.py'>, 'IPython.core.payloadpage': <module 'IPython.core.payloadpage' from 'c:\\\\ProgramData\\\\Anaconda3\\\\lib\\\\site-packages\\\\IPython\\\\core\\\\payloadpage.py'>, 'ipykernel.displayhook': <module 'ipykernel.displayhook' from 'c:\\\\ProgramData\\\\Anaconda3\\\\lib\\\\site-packages\\\\ipykernel\\\\displayhook.py'>, 'ipykernel.zmqshell': <module 'ipykernel.zmqshell' from 'c:\\\\ProgramData\\\\Anaconda3\\\\lib\\\\site-packages\\\\ipykernel\\\\zmqshell.py'>, 'setuptools._distutils': <module 'distutils' (c:\\ProgramData\\Anaconda3\\lib\\site-packages\\setuptools\\_distutils\\__init__.py)>, 'distutils.debug': <module 'distutils.debug' from 'c:\\\\ProgramData\\\\Anaconda3\\\\lib\\\\site-packages\\\\setuptools\\\\_distutils\\\\debug.py'>, 'distutils.errors': <module 'distutils.errors' from 'c:\\\\ProgramData\\\\Anaconda3\\\\lib\\\\site-packages\\\\setuptools\\\\_distutils\\\\errors.py'>, 'distutils.fancy_getopt': <module 'distutils.fancy_getopt' from 'c:\\\\ProgramData\\\\Anaconda3\\\\lib\\\\site-packages\\\\setuptools\\\\_distutils\\\\fancy_getopt.py'>, 'distutils.dep_util': <module 'distutils.dep_util' from 'c:\\\\ProgramData\\\\Anaconda3\\\\lib\\\\site-packages\\\\setuptools\\\\_distutils\\\\dep_util.py'>, 'distutils.log': <module 'distutils.log' from 'c:\\\\ProgramData\\\\Anaconda3\\\\lib\\\\site-packages\\\\setuptools\\\\_distutils\\\\log.py'>, 'distutils.spawn': <module 'distutils.spawn' from 'c:\\\\ProgramData\\\\Anaconda3\\\\lib\\\\site-packages\\\\setuptools\\\\_distutils\\\\spawn.py'>, 'distutils.py35compat': <module 'distutils.py35compat' from 'c:\\\\ProgramData\\\\Anaconda3\\\\lib\\\\site-packages\\\\setuptools\\\\_distutils\\\\py35compat.py'>, 'distutils.util': <module 'distutils.util' from 'c:\\\\ProgramData\\\\Anaconda3\\\\lib\\\\site-packages\\\\setuptools\\\\_distutils\\\\util.py'>, 'distutils.dist': <module 'distutils.dist' from 'c:\\\\ProgramData\\\\Anaconda3\\\\lib\\\\site-packages\\\\setuptools\\\\_distutils\\\\dist.py'>, 'distutils.dir_util': <module 'distutils.dir_util' from 'c:\\\\ProgramData\\\\Anaconda3\\\\lib\\\\site-packages\\\\setuptools\\\\_distutils\\\\dir_util.py'>, 'distutils.file_util': <module 'distutils.file_util' from 'c:\\\\ProgramData\\\\Anaconda3\\\\lib\\\\site-packages\\\\setuptools\\\\_distutils\\\\file_util.py'>, 'distutils.archive_util': <module 'distutils.archive_util' from 'c:\\\\ProgramData\\\\Anaconda3\\\\lib\\\\site-packages\\\\setuptools\\\\_distutils\\\\archive_util.py'>, 'distutils.cmd': <module 'distutils.cmd' from 'c:\\\\ProgramData\\\\Anaconda3\\\\lib\\\\site-packages\\\\setuptools\\\\_distutils\\\\cmd.py'>, 'configparser': <module 'configparser' from 'c:\\\\ProgramData\\\\Anaconda3\\\\lib\\\\configparser.py'>, 'distutils.config': <module 'distutils.config' from 'c:\\\\ProgramData\\\\Anaconda3\\\\lib\\\\site-packages\\\\setuptools\\\\_distutils\\\\config.py'>, 'distutils.extension': <module 'distutils.extension' from 'c:\\\\ProgramData\\\\Anaconda3\\\\lib\\\\site-packages\\\\setuptools\\\\_distutils\\\\extension.py'>, 'distutils.core': <module 'distutils.core' from 'c:\\\\ProgramData\\\\Anaconda3\\\\lib\\\\site-packages\\\\setuptools\\\\_distutils\\\\core.py'>, '_distutils_hack.override': <module '_distutils_hack.override' from 'c:\\\\ProgramData\\\\Anaconda3\\\\lib\\\\site-packages\\\\_distutils_hack\\\\override.py'>, 'setuptools._deprecation_warning': <module 'setuptools._deprecation_warning' from 'c:\\\\ProgramData\\\\Anaconda3\\\\lib\\\\site-packages\\\\setuptools\\\\_deprecation_warning.py'>, 'xml.parsers': <module 'xml.parsers' from 'c:\\\\ProgramData\\\\Anaconda3\\\\lib\\\\xml\\\\parsers\\\\__init__.py'>, 'pyexpat.errors': <module 'pyexpat.errors'>, 'pyexpat.model': <module 'pyexpat.model'>, 'pyexpat': <module 'pyexpat' from 'c:\\\\ProgramData\\\\Anaconda3\\\\DLLs\\\\pyexpat.pyd'>, 'xml.parsers.expat.model': <module 'pyexpat.model'>, 'xml.parsers.expat.errors': <module 'pyexpat.errors'>, 'xml.parsers.expat': <module 'xml.parsers.expat' from 'c:\\\\ProgramData\\\\Anaconda3\\\\lib\\\\xml\\\\parsers\\\\expat.py'>, 'plistlib': <module 'plistlib' from 'c:\\\\ProgramData\\\\Anaconda3\\\\lib\\\\plistlib.py'>, 'pkg_resources.extern': <module 'pkg_resources.extern' from 'c:\\\\ProgramData\\\\Anaconda3\\\\lib\\\\site-packages\\\\pkg_resources\\\\extern\\\\__init__.py'>, 'pkg_resources._vendor': <module 'pkg_resources._vendor' from 'c:\\\\ProgramData\\\\Anaconda3\\\\lib\\\\site-packages\\\\pkg_resources\\\\_vendor\\\\__init__.py'>, 'pkg_resources._vendor.jaraco': <module 'pkg_resources.extern.jaraco' (<pkg_resources.extern.VendorImporter object at 0x000002010EA46700>)>, 'pkg_resources.extern.jaraco': <module 'pkg_resources.extern.jaraco' (<pkg_resources.extern.VendorImporter object at 0x000002010EA46700>)>, 'importlib._common': <module 'importlib._common' from 'c:\\\\ProgramData\\\\Anaconda3\\\\lib\\\\importlib\\\\_common.py'>, 'importlib.resources': <module 'importlib.resources' from 'c:\\\\ProgramData\\\\Anaconda3\\\\lib\\\\importlib\\\\resources.py'>, 'pkg_resources._vendor.more_itertools.recipes': <module 'pkg_resources._vendor.more_itertools.recipes' from 'c:\\\\ProgramData\\\\Anaconda3\\\\lib\\\\site-packages\\\\pkg_resources\\\\_vendor\\\\more_itertools\\\\recipes.py'>, 'pkg_resources._vendor.more_itertools.more': <module 'pkg_resources._vendor.more_itertools.more' from 'c:\\\\ProgramData\\\\Anaconda3\\\\lib\\\\site-packages\\\\pkg_resources\\\\_vendor\\\\more_itertools\\\\more.py'>, 'pkg_resources._vendor.more_itertools': <module 'pkg_resources.extern.more_itertools' (<pkg_resources.extern.VendorImporter object at 0x000002010EA46700>)>, 'pkg_resources.extern.more_itertools': <module 'pkg_resources.extern.more_itertools' (<pkg_resources.extern.VendorImporter object at 0x000002010EA46700>)>, 'pkg_resources.extern.jaraco.functools': <module 'pkg_resources.extern.jaraco.functools' from 'c:\\\\ProgramData\\\\Anaconda3\\\\lib\\\\site-packages\\\\pkg_resources\\\\_vendor\\\\jaraco\\\\functools.py'>, 'pkg_resources.extern.jaraco.context': <module 'pkg_resources.extern.jaraco.context' from 'c:\\\\ProgramData\\\\Anaconda3\\\\lib\\\\site-packages\\\\pkg_resources\\\\_vendor\\\\jaraco\\\\context.py'>, 'pkg_resources.extern.jaraco.text': <module 'pkg_resources.extern.jaraco.text' from 'c:\\\\ProgramData\\\\Anaconda3\\\\lib\\\\site-packages\\\\pkg_resources\\\\_vendor\\\\jaraco\\\\text\\\\__init__.py'>, 'win32api': <module 'win32api' from 'c:\\\\ProgramData\\\\Anaconda3\\\\lib\\\\site-packages\\\\win32\\\\win32api.pyd'>, '_win32sysloader': <module '_win32sysloader' from 'c:\\\\ProgramData\\\\Anaconda3\\\\lib\\\\site-packages\\\\win32\\\\_win32sysloader.pyd'>, 'pywintypes': <module 'pywintypes' (C:\\ProgramData\\Anaconda3\\Library\\bin\\pywintypes39.dll)>, 'pythoncom': <module 'pythoncom' (C:\\ProgramData\\Anaconda3\\Library\\bin\\pythoncom39.dll)>, 'win32com.gen_py': <module 'win32com.gen_py'>, 'win32com': <module 'win32com' from 'c:\\\\ProgramData\\\\Anaconda3\\\\lib\\\\site-packages\\\\win32com\\\\__init__.py'>, 'win32com.shell': <module 'win32com.shell' from 'c:\\\\ProgramData\\\\Anaconda3\\\\lib\\\\site-packages\\\\win32comext\\\\shell\\\\__init__.py'>, 'pkg_resources._vendor.appdirs': <module 'pkg_resources.extern.appdirs' (<pkg_resources.extern.VendorImporter object at 0x000002010EA46700>)>, 'pkg_resources.extern.appdirs': <module 'pkg_resources.extern.appdirs' (<pkg_resources.extern.VendorImporter object at 0x000002010EA46700>)>, 'pkg_resources._vendor.packaging.__about__': <module 'pkg_resources._vendor.packaging.__about__' from 'c:\\\\ProgramData\\\\Anaconda3\\\\lib\\\\site-packages\\\\pkg_resources\\\\_vendor\\\\packaging\\\\__about__.py'>, 'pkg_resources._vendor.packaging': <module 'pkg_resources.extern.packaging' (<pkg_resources.extern.VendorImporter object at 0x000002010EA46700>)>, 'pkg_resources.extern.packaging': <module 'pkg_resources.extern.packaging' (<pkg_resources.extern.VendorImporter object at 0x000002010EA46700>)>, 'pkg_resources.extern.packaging._structures': <module 'pkg_resources.extern.packaging._structures' from 'c:\\\\ProgramData\\\\Anaconda3\\\\lib\\\\site-packages\\\\pkg_resources\\\\_vendor\\\\packaging\\\\_structures.py'>, 'pkg_resources.extern.packaging.version': <module 'pkg_resources.extern.packaging.version' from 'c:\\\\ProgramData\\\\Anaconda3\\\\lib\\\\site-packages\\\\pkg_resources\\\\_vendor\\\\packaging\\\\version.py'>, 'pkg_resources._vendor.packaging._manylinux': <module 'pkg_resources._vendor.packaging._manylinux' from 'c:\\\\ProgramData\\\\Anaconda3\\\\lib\\\\site-packages\\\\pkg_resources\\\\_vendor\\\\packaging\\\\_manylinux.py'>, 'pkg_resources._vendor.packaging._musllinux': <module 'pkg_resources._vendor.packaging._musllinux' from 'c:\\\\ProgramData\\\\Anaconda3\\\\lib\\\\site-packages\\\\pkg_resources\\\\_vendor\\\\packaging\\\\_musllinux.py'>, 'pkg_resources.extern.packaging.tags': <module 'pkg_resources.extern.packaging.tags' from 'c:\\\\ProgramData\\\\Anaconda3\\\\lib\\\\site-packages\\\\pkg_resources\\\\_vendor\\\\packaging\\\\tags.py'>, 'pkg_resources.extern.packaging.utils': <module 'pkg_resources.extern.packaging.utils' from 'c:\\\\ProgramData\\\\Anaconda3\\\\lib\\\\site-packages\\\\pkg_resources\\\\_vendor\\\\packaging\\\\utils.py'>, 'pkg_resources.extern.packaging.specifiers': <module 'pkg_resources.extern.packaging.specifiers' from 'c:\\\\ProgramData\\\\Anaconda3\\\\lib\\\\site-packages\\\\pkg_resources\\\\_vendor\\\\packaging\\\\specifiers.py'>, 'pkg_resources._vendor.pyparsing': <module 'pkg_resources.extern.pyparsing' (<pkg_resources.extern.VendorImporter object at 0x000002010EA46700>)>, 'pkg_resources.extern.pyparsing': <module 'pkg_resources.extern.pyparsing' (<pkg_resources.extern.VendorImporter object at 0x000002010EA46700>)>, 'pkg_resources.extern.packaging.markers': <module 'pkg_resources.extern.packaging.markers' from 'c:\\\\ProgramData\\\\Anaconda3\\\\lib\\\\site-packages\\\\pkg_resources\\\\_vendor\\\\packaging\\\\markers.py'>, 'pkg_resources.extern.packaging.requirements': <module 'pkg_resources.extern.packaging.requirements' from 'c:\\\\ProgramData\\\\Anaconda3\\\\lib\\\\site-packages\\\\pkg_resources\\\\_vendor\\\\packaging\\\\requirements.py'>, 'pkg_resources': <module 'pkg_resources' from 'c:\\\\ProgramData\\\\Anaconda3\\\\lib\\\\site-packages\\\\pkg_resources\\\\__init__.py'>, 'setuptools.version': <module 'setuptools.version' from 'c:\\\\ProgramData\\\\Anaconda3\\\\lib\\\\site-packages\\\\setuptools\\\\version.py'>, 'distutils.filelist': <module 'distutils.filelist' from 'c:\\\\ProgramData\\\\Anaconda3\\\\lib\\\\site-packages\\\\setuptools\\\\_distutils\\\\filelist.py'>, 'setuptools.monkey': <module 'setuptools.monkey' from 'c:\\\\ProgramData\\\\Anaconda3\\\\lib\\\\site-packages\\\\setuptools\\\\monkey.py'>, 'setuptools.extension': <module 'setuptools.extension' from 'c:\\\\ProgramData\\\\Anaconda3\\\\lib\\\\site-packages\\\\setuptools\\\\extension.py'>, 'distutils.command': <module 'distutils.command' from 'c:\\\\ProgramData\\\\Anaconda3\\\\lib\\\\site-packages\\\\setuptools\\\\_distutils\\\\command\\\\__init__.py'>, 'setuptools.extern': <module 'setuptools.extern' from 'c:\\\\ProgramData\\\\Anaconda3\\\\lib\\\\site-packages\\\\setuptools\\\\extern\\\\__init__.py'>, 'setuptools._vendor': <module 'setuptools._vendor' from 'c:\\\\ProgramData\\\\Anaconda3\\\\lib\\\\site-packages\\\\setuptools\\\\_vendor\\\\__init__.py'>, 'setuptools._vendor.packaging.__about__': <module 'setuptools._vendor.packaging.__about__' from 'c:\\\\ProgramData\\\\Anaconda3\\\\lib\\\\site-packages\\\\setuptools\\\\_vendor\\\\packaging\\\\__about__.py'>, 'setuptools._vendor.packaging': <module 'setuptools.extern.packaging' (<setuptools.extern.VendorImporter object at 0x000002010EDCF4C0>)>, 'setuptools.extern.packaging': <module 'setuptools.extern.packaging' (<setuptools.extern.VendorImporter object at 0x000002010EDCF4C0>)>, 'setuptools._vendor.ordered_set': <module 'setuptools.extern.ordered_set' (<setuptools.extern.VendorImporter object at 0x000002010EDCF4C0>)>, 'setuptools.extern.ordered_set': <module 'setuptools.extern.ordered_set' (<setuptools.extern.VendorImporter object at 0x000002010EDCF4C0>)>, 'setuptools._vendor.more_itertools.recipes': <module 'setuptools._vendor.more_itertools.recipes' from 'c:\\\\ProgramData\\\\Anaconda3\\\\lib\\\\site-packages\\\\setuptools\\\\_vendor\\\\more_itertools\\\\recipes.py'>, 'setuptools._vendor.more_itertools.more': <module 'setuptools._vendor.more_itertools.more' from 'c:\\\\ProgramData\\\\Anaconda3\\\\lib\\\\site-packages\\\\setuptools\\\\_vendor\\\\more_itertools\\\\more.py'>, 'setuptools._vendor.more_itertools': <module 'setuptools.extern.more_itertools' (<setuptools.extern.VendorImporter object at 0x000002010EDCF4C0>)>, 'setuptools.extern.more_itertools': <module 'setuptools.extern.more_itertools' (<setuptools.extern.VendorImporter object at 0x000002010EDCF4C0>)>, 'setuptools._vendor.pyparsing': <module 'setuptools.extern.pyparsing' (<setuptools.extern.VendorImporter object at 0x000002010EDCF4C0>)>, 'setuptools.extern.pyparsing': <module 'setuptools.extern.pyparsing' (<setuptools.extern.VendorImporter object at 0x000002010EDCF4C0>)>, 'setuptools._vendor.packaging._manylinux': <module 'setuptools._vendor.packaging._manylinux' from 'c:\\\\ProgramData\\\\Anaconda3\\\\lib\\\\site-packages\\\\setuptools\\\\_vendor\\\\packaging\\\\_manylinux.py'>, 'setuptools._vendor.packaging._musllinux': <module 'setuptools._vendor.packaging._musllinux' from 'c:\\\\ProgramData\\\\Anaconda3\\\\lib\\\\site-packages\\\\setuptools\\\\_vendor\\\\packaging\\\\_musllinux.py'>, 'setuptools.extern.packaging.tags': <module 'setuptools.extern.packaging.tags' from 'c:\\\\ProgramData\\\\Anaconda3\\\\lib\\\\site-packages\\\\setuptools\\\\_vendor\\\\packaging\\\\tags.py'>, 'setuptools.extern.packaging._structures': <module 'setuptools.extern.packaging._structures' from 'c:\\\\ProgramData\\\\Anaconda3\\\\lib\\\\site-packages\\\\setuptools\\\\_vendor\\\\packaging\\\\_structures.py'>, 'setuptools.extern.packaging.version': <module 'setuptools.extern.packaging.version' from 'c:\\\\ProgramData\\\\Anaconda3\\\\lib\\\\site-packages\\\\setuptools\\\\_vendor\\\\packaging\\\\version.py'>, 'setuptools.extern.packaging.utils': <module 'setuptools.extern.packaging.utils' from 'c:\\\\ProgramData\\\\Anaconda3\\\\lib\\\\site-packages\\\\setuptools\\\\_vendor\\\\packaging\\\\utils.py'>, 'setuptools.extern.packaging.specifiers': <module 'setuptools.extern.packaging.specifiers' from 'c:\\\\ProgramData\\\\Anaconda3\\\\lib\\\\site-packages\\\\setuptools\\\\_vendor\\\\packaging\\\\specifiers.py'>, 'setuptools.extern.packaging.markers': <module 'setuptools.extern.packaging.markers' from 'c:\\\\ProgramData\\\\Anaconda3\\\\lib\\\\site-packages\\\\setuptools\\\\_vendor\\\\packaging\\\\markers.py'>, 'setuptools.extern.packaging.requirements': <module 'setuptools.extern.packaging.requirements' from 'c:\\\\ProgramData\\\\Anaconda3\\\\lib\\\\site-packages\\\\setuptools\\\\_vendor\\\\packaging\\\\requirements.py'>, 'setuptools._vendor.jaraco': <module 'setuptools.extern.jaraco' (<setuptools.extern.VendorImporter object at 0x000002010EDCF4C0>)>, 'setuptools.extern.jaraco': <module 'setuptools.extern.jaraco' (<setuptools.extern.VendorImporter object at 0x000002010EDCF4C0>)>, 'setuptools.extern.jaraco.context': <module 'setuptools.extern.jaraco.context' from 'c:\\\\ProgramData\\\\Anaconda3\\\\lib\\\\site-packages\\\\setuptools\\\\_vendor\\\\jaraco\\\\context.py'>, 'setuptools.extern.jaraco.functools': <module 'setuptools.extern.jaraco.functools' from 'c:\\\\ProgramData\\\\Anaconda3\\\\lib\\\\site-packages\\\\setuptools\\\\_vendor\\\\jaraco\\\\functools.py'>, '_csv': <module '_csv' (built-in)>, 'csv': <module 'csv' from 'c:\\\\ProgramData\\\\Anaconda3\\\\lib\\\\csv.py'>, 'setuptools._vendor.zipp': <module 'setuptools._vendor.zipp' from 'c:\\\\ProgramData\\\\Anaconda3\\\\lib\\\\site-packages\\\\setuptools\\\\_vendor\\\\zipp.py'>, 'setuptools._vendor.importlib_metadata._functools': <module 'setuptools._vendor.importlib_metadata._functools' from 'c:\\\\ProgramData\\\\Anaconda3\\\\lib\\\\site-packages\\\\setuptools\\\\_vendor\\\\importlib_metadata\\\\_functools.py'>, 'setuptools._vendor.importlib_metadata._text': <module 'setuptools._vendor.importlib_metadata._text' from 'c:\\\\ProgramData\\\\Anaconda3\\\\lib\\\\site-packages\\\\setuptools\\\\_vendor\\\\importlib_metadata\\\\_text.py'>, 'setuptools._vendor.importlib_metadata._adapters': <module 'setuptools._vendor.importlib_metadata._adapters' from 'c:\\\\ProgramData\\\\Anaconda3\\\\lib\\\\site-packages\\\\setuptools\\\\_vendor\\\\importlib_metadata\\\\_adapters.py'>, 'setuptools._vendor.importlib_metadata._compat': <module 'setuptools._vendor.importlib_metadata._compat' from 'c:\\\\ProgramData\\\\Anaconda3\\\\lib\\\\site-packages\\\\setuptools\\\\_vendor\\\\importlib_metadata\\\\_compat.py'>, 'setuptools._vendor.importlib_metadata._meta': <module 'setuptools._vendor.importlib_metadata._meta' from 'c:\\\\ProgramData\\\\Anaconda3\\\\lib\\\\site-packages\\\\setuptools\\\\_vendor\\\\importlib_metadata\\\\_meta.py'>, 'setuptools._vendor.importlib_metadata._collections': <module 'setuptools._vendor.importlib_metadata._collections' from 'c:\\\\ProgramData\\\\Anaconda3\\\\lib\\\\site-packages\\\\setuptools\\\\_vendor\\\\importlib_metadata\\\\_collections.py'>, 'setuptools._vendor.importlib_metadata._itertools': <module 'setuptools._vendor.importlib_metadata._itertools' from 'c:\\\\ProgramData\\\\Anaconda3\\\\lib\\\\site-packages\\\\setuptools\\\\_vendor\\\\importlib_metadata\\\\_itertools.py'>, 'setuptools._vendor.importlib_metadata': <module 'setuptools.extern.importlib_metadata' (<setuptools.extern.VendorImporter object at 0x000002010EDCF4C0>)>, 'setuptools.extern.importlib_metadata': <module 'setuptools.extern.importlib_metadata' (<setuptools.extern.VendorImporter object at 0x000002010EDCF4C0>)>, 'setuptools._vendor.nspektr._compat': <module 'setuptools._vendor.nspektr._compat' from 'c:\\\\ProgramData\\\\Anaconda3\\\\lib\\\\site-packages\\\\setuptools\\\\_vendor\\\\nspektr\\\\_compat.py'>, 'setuptools._vendor.nspektr': <module 'setuptools.extern.nspektr' (<setuptools.extern.VendorImporter object at 0x000002010EDCF4C0>)>, 'setuptools.extern.nspektr': <module 'setuptools.extern.nspektr' (<setuptools.extern.VendorImporter object at 0x000002010EDCF4C0>)>, 'zipp': <module 'zipp' from 'c:\\\\ProgramData\\\\Anaconda3\\\\lib\\\\site-packages\\\\zipp.py'>, 'importlib_metadata._functools': <module 'importlib_metadata._functools' from 'c:\\\\ProgramData\\\\Anaconda3\\\\lib\\\\site-packages\\\\importlib_metadata\\\\_functools.py'>, 'importlib_metadata._text': <module 'importlib_metadata._text' from 'c:\\\\ProgramData\\\\Anaconda3\\\\lib\\\\site-packages\\\\importlib_metadata\\\\_text.py'>, 'importlib_metadata._adapters': <module 'importlib_metadata._adapters' from 'c:\\\\ProgramData\\\\Anaconda3\\\\lib\\\\site-packages\\\\importlib_metadata\\\\_adapters.py'>, 'importlib_metadata._compat': <module 'importlib_metadata._compat' from 'c:\\\\ProgramData\\\\Anaconda3\\\\lib\\\\site-packages\\\\importlib_metadata\\\\_compat.py'>, 'importlib_metadata._meta': <module 'importlib_metadata._meta' from 'c:\\\\ProgramData\\\\Anaconda3\\\\lib\\\\site-packages\\\\importlib_metadata\\\\_meta.py'>, 'importlib_metadata._collections': <module 'importlib_metadata._collections' from 'c:\\\\ProgramData\\\\Anaconda3\\\\lib\\\\site-packages\\\\importlib_metadata\\\\_collections.py'>, 'importlib_metadata._itertools': <module 'importlib_metadata._itertools' from 'c:\\\\ProgramData\\\\Anaconda3\\\\lib\\\\site-packages\\\\importlib_metadata\\\\_itertools.py'>, 'importlib_metadata': <module 'importlib_metadata' from 'c:\\\\ProgramData\\\\Anaconda3\\\\lib\\\\site-packages\\\\importlib_metadata\\\\__init__.py'>, 'setuptools._importlib': <module 'setuptools._importlib' from 'c:\\\\ProgramData\\\\Anaconda3\\\\lib\\\\site-packages\\\\setuptools\\\\_importlib.py'>, 'distutils.command.bdist': <module 'distutils.command.bdist' from 'c:\\\\ProgramData\\\\Anaconda3\\\\lib\\\\site-packages\\\\setuptools\\\\_distutils\\\\command\\\\bdist.py'>, 'setuptools.command': <module 'setuptools.command' from 'c:\\\\ProgramData\\\\Anaconda3\\\\lib\\\\site-packages\\\\setuptools\\\\command\\\\__init__.py'>, 'setuptools.windows_support': <module 'setuptools.windows_support' from 'c:\\\\ProgramData\\\\Anaconda3\\\\lib\\\\site-packages\\\\setuptools\\\\windows_support.py'>, 'setuptools.config.expand': <module 'setuptools.config.expand' from 'c:\\\\ProgramData\\\\Anaconda3\\\\lib\\\\site-packages\\\\setuptools\\\\config\\\\expand.py'>, 'setuptools.config.setupcfg': <module 'setuptools.config.setupcfg' from 'c:\\\\ProgramData\\\\Anaconda3\\\\lib\\\\site-packages\\\\setuptools\\\\config\\\\setupcfg.py'>, 'setuptools.config': <module 'setuptools.config' from 'c:\\\\ProgramData\\\\Anaconda3\\\\lib\\\\site-packages\\\\setuptools\\\\config\\\\__init__.py'>, 'setuptools.errors': <module 'setuptools.errors' from 'c:\\\\ProgramData\\\\Anaconda3\\\\lib\\\\site-packages\\\\setuptools\\\\errors.py'>, 'email._header_value_parser': <module 'email._header_value_parser' from 'c:\\\\ProgramData\\\\Anaconda3\\\\lib\\\\email\\\\_header_value_parser.py'>, 'email.headerregistry': <module 'email.headerregistry' from 'c:\\\\ProgramData\\\\Anaconda3\\\\lib\\\\email\\\\headerregistry.py'>, 'setuptools.config._apply_pyprojecttoml': <module 'setuptools.config._apply_pyprojecttoml' from 'c:\\\\ProgramData\\\\Anaconda3\\\\lib\\\\site-packages\\\\setuptools\\\\config\\\\_apply_pyprojecttoml.py'>, 'setuptools.config.pyprojecttoml': <module 'setuptools.config.pyprojecttoml' from 'c:\\\\ProgramData\\\\Anaconda3\\\\lib\\\\site-packages\\\\setuptools\\\\config\\\\pyprojecttoml.py'>, 'setuptools.discovery': <module 'setuptools.discovery' from 'c:\\\\ProgramData\\\\Anaconda3\\\\lib\\\\site-packages\\\\setuptools\\\\discovery.py'>, 'setuptools.extern.jaraco.text': <module 'setuptools.extern.jaraco.text' from 'c:\\\\ProgramData\\\\Anaconda3\\\\lib\\\\site-packages\\\\setuptools\\\\_vendor\\\\jaraco\\\\text\\\\__init__.py'>, 'setuptools._reqs': <module 'setuptools._reqs' from 'c:\\\\ProgramData\\\\Anaconda3\\\\lib\\\\site-packages\\\\setuptools\\\\_reqs.py'>, 'setuptools._itertools': <module 'setuptools._itertools' from 'c:\\\\ProgramData\\\\Anaconda3\\\\lib\\\\site-packages\\\\setuptools\\\\_itertools.py'>, 'setuptools._entry_points': <module 'setuptools._entry_points' from 'c:\\\\ProgramData\\\\Anaconda3\\\\lib\\\\site-packages\\\\setuptools\\\\_entry_points.py'>, 'setuptools.dist': <module 'setuptools.dist' from 'c:\\\\ProgramData\\\\Anaconda3\\\\lib\\\\site-packages\\\\setuptools\\\\dist.py'>, 'setuptools.py34compat': <module 'setuptools.py34compat' from 'c:\\\\ProgramData\\\\Anaconda3\\\\lib\\\\site-packages\\\\setuptools\\\\py34compat.py'>, 'setuptools._imp': <module 'setuptools._imp' from 'c:\\\\ProgramData\\\\Anaconda3\\\\lib\\\\site-packages\\\\setuptools\\\\_imp.py'>, 'setuptools.depends': <module 'setuptools.depends' from 'c:\\\\ProgramData\\\\Anaconda3\\\\lib\\\\site-packages\\\\setuptools\\\\depends.py'>, 'setuptools.logging': <module 'setuptools.logging' from 'c:\\\\ProgramData\\\\Anaconda3\\\\lib\\\\site-packages\\\\setuptools\\\\logging.py'>, 'distutils.ccompiler': <module 'distutils.ccompiler' from 'c:\\\\ProgramData\\\\Anaconda3\\\\lib\\\\site-packages\\\\setuptools\\\\_distutils\\\\ccompiler.py'>, 'distutils.msvc9compiler': <module 'distutils.msvc9compiler' from 'c:\\\\ProgramData\\\\Anaconda3\\\\lib\\\\site-packages\\\\setuptools\\\\_distutils\\\\msvc9compiler.py'>, 'setuptools.msvc': <module 'setuptools.msvc' from 'c:\\\\ProgramData\\\\Anaconda3\\\\lib\\\\site-packages\\\\setuptools\\\\msvc.py'>, 'unittest.util': <module 'unittest.util' from 'c:\\\\ProgramData\\\\Anaconda3\\\\lib\\\\unittest\\\\util.py'>, 'unittest.result': <module 'unittest.result' from 'c:\\\\ProgramData\\\\Anaconda3\\\\lib\\\\unittest\\\\result.py'>, 'unittest.case': <module 'unittest.case' from 'c:\\\\ProgramData\\\\Anaconda3\\\\lib\\\\unittest\\\\case.py'>, 'unittest.suite': <module 'unittest.suite' from 'c:\\\\ProgramData\\\\Anaconda3\\\\lib\\\\unittest\\\\suite.py'>, 'unittest.loader': <module 'unittest.loader' from 'c:\\\\ProgramData\\\\Anaconda3\\\\lib\\\\unittest\\\\loader.py'>, 'unittest.signals': <module 'unittest.signals' from 'c:\\\\ProgramData\\\\Anaconda3\\\\lib\\\\unittest\\\\signals.py'>, 'unittest.runner': <module 'unittest.runner' from 'c:\\\\ProgramData\\\\Anaconda3\\\\lib\\\\unittest\\\\runner.py'>, 'unittest.main': <module 'unittest.main' from 'c:\\\\ProgramData\\\\Anaconda3\\\\lib\\\\unittest\\\\main.py'>, 'unittest': <module 'unittest' from 'c:\\\\ProgramData\\\\Anaconda3\\\\lib\\\\unittest\\\\__init__.py'>, 'unittest.mock': <module 'unittest.mock' from 'c:\\\\ProgramData\\\\Anaconda3\\\\lib\\\\unittest\\\\mock.py'>, 'distutils._msvccompiler': <module 'distutils._msvccompiler' from 'c:\\\\ProgramData\\\\Anaconda3\\\\lib\\\\site-packages\\\\setuptools\\\\_distutils\\\\_msvccompiler.py'>, 'setuptools': <module 'setuptools' from 'c:\\\\ProgramData\\\\Anaconda3\\\\lib\\\\site-packages\\\\setuptools\\\\__init__.py'>, 'distutils': <module 'distutils' (c:\\ProgramData\\Anaconda3\\lib\\site-packages\\setuptools\\_distutils\\__init__.py)>, 'distutils.version': <module 'distutils.version' from 'c:\\\\ProgramData\\\\Anaconda3\\\\lib\\\\site-packages\\\\setuptools\\\\_distutils\\\\version.py'>, 'ipykernel.eventloops': <module 'ipykernel.eventloops' from 'c:\\\\ProgramData\\\\Anaconda3\\\\lib\\\\site-packages\\\\ipykernel\\\\eventloops.py'>, 'ipykernel.compiler': <module 'ipykernel.compiler' from 'c:\\\\ProgramData\\\\Anaconda3\\\\lib\\\\site-packages\\\\ipykernel\\\\compiler.py'>, 'debugpy._version': <module 'debugpy._version' from 'c:\\\\ProgramData\\\\Anaconda3\\\\lib\\\\site-packages\\\\debugpy\\\\_version.py'>, 'debugpy.common': <module 'debugpy.common' from 'c:\\\\ProgramData\\\\Anaconda3\\\\lib\\\\site-packages\\\\debugpy\\\\common\\\\__init__.py'>, 'debugpy.common.json': <module 'debugpy.common.json' from 'c:\\\\ProgramData\\\\Anaconda3\\\\lib\\\\site-packages\\\\debugpy\\\\common\\\\json.py'>, 'debugpy.common.fmt': <module 'debugpy.common.fmt' from 'c:\\\\ProgramData\\\\Anaconda3\\\\lib\\\\site-packages\\\\debugpy\\\\common\\\\fmt.py'>, 'debugpy.common.compat': <module 'debugpy.common.compat' from 'c:\\\\ProgramData\\\\Anaconda3\\\\lib\\\\site-packages\\\\debugpy\\\\common\\\\compat.py'>, 'debugpy': <module 'debugpy' from 'c:\\\\ProgramData\\\\Anaconda3\\\\lib\\\\site-packages\\\\debugpy\\\\__init__.py'>, 'debugpy._vendored._util': <module 'debugpy._vendored._util' from 'c:\\\\ProgramData\\\\Anaconda3\\\\lib\\\\site-packages\\\\debugpy\\\\_vendored\\\\_util.py'>, 'debugpy._vendored': <module 'debugpy._vendored' from 'c:\\\\ProgramData\\\\Anaconda3\\\\lib\\\\site-packages\\\\debugpy\\\\_vendored\\\\__init__.py'>, '_pydevd_bundle': <module '_pydevd_bundle' from 'c:\\\\ProgramData\\\\Anaconda3\\\\lib\\\\site-packages\\\\debugpy\\\\_vendored\\\\pydevd\\\\_pydevd_bundle\\\\__init__.py'>, 'encodings.ascii': <module 'encodings.ascii' from 'c:\\\\ProgramData\\\\Anaconda3\\\\lib\\\\encodings\\\\ascii.py'>, 'stringprep': <module 'stringprep' from 'c:\\\\ProgramData\\\\Anaconda3\\\\lib\\\\stringprep.py'>, 'encodings.idna': <module 'encodings.idna' from 'c:\\\\ProgramData\\\\Anaconda3\\\\lib\\\\encodings\\\\idna.py'>, '_pydevd_bundle.pydevd_vm_type': <module '_pydevd_bundle.pydevd_vm_type' from 'c:\\\\ProgramData\\\\Anaconda3\\\\lib\\\\site-packages\\\\debugpy\\\\_vendored\\\\pydevd\\\\_pydevd_bundle\\\\pydevd_vm_type.py'>, '_pydev_imps': <module '_pydev_imps' from 'c:\\\\ProgramData\\\\Anaconda3\\\\lib\\\\site-packages\\\\debugpy\\\\_vendored\\\\pydevd\\\\_pydev_imps\\\\__init__.py'>, 'xmlrpc': <module 'xmlrpc' from 'c:\\\\ProgramData\\\\Anaconda3\\\\lib\\\\xmlrpc\\\\__init__.py'>, 'gzip': <module 'gzip' from 'c:\\\\ProgramData\\\\Anaconda3\\\\lib\\\\gzip.py'>, 'xmlrpc.client': <module 'xmlrpc.client' from 'c:\\\\ProgramData\\\\Anaconda3\\\\lib\\\\xmlrpc\\\\client.py'>, 'socketserver': <module 'socketserver' from 'c:\\\\ProgramData\\\\Anaconda3\\\\lib\\\\socketserver.py'>, 'http.server': <module 'http.server' from 'c:\\\\ProgramData\\\\Anaconda3\\\\lib\\\\http\\\\server.py'>, 'xmlrpc.server': <module 'xmlrpc.server' from 'c:\\\\ProgramData\\\\Anaconda3\\\\lib\\\\xmlrpc\\\\server.py'>, '_pydev_imps._pydev_saved_modules': <module '_pydev_imps._pydev_saved_modules' from 'c:\\\\ProgramData\\\\Anaconda3\\\\lib\\\\site-packages\\\\debugpy\\\\_vendored\\\\pydevd\\\\_pydev_imps\\\\_pydev_saved_modules.py'>, '_pydevd_bundle.pydevd_constants': <module '_pydevd_bundle.pydevd_constants' from 'c:\\\\ProgramData\\\\Anaconda3\\\\lib\\\\site-packages\\\\debugpy\\\\_vendored\\\\pydevd\\\\_pydevd_bundle\\\\pydevd_constants.py'>, '_pydev_bundle': <module '_pydev_bundle' from 'c:\\\\ProgramData\\\\Anaconda3\\\\lib\\\\site-packages\\\\debugpy\\\\_vendored\\\\pydevd\\\\_pydev_bundle\\\\__init__.py'>, '_pydev_runfiles': <module '_pydev_runfiles' from 'c:\\\\ProgramData\\\\Anaconda3\\\\lib\\\\site-packages\\\\debugpy\\\\_vendored\\\\pydevd\\\\_pydev_runfiles\\\\__init__.py'>, '_pydevd_frame_eval': <module '_pydevd_frame_eval' from 'c:\\\\ProgramData\\\\Anaconda3\\\\lib\\\\site-packages\\\\debugpy\\\\_vendored\\\\pydevd\\\\_pydevd_frame_eval\\\\__init__.py'>, 'pydev_ipython': <module 'pydev_ipython' from 'c:\\\\ProgramData\\\\Anaconda3\\\\lib\\\\site-packages\\\\debugpy\\\\_vendored\\\\pydevd\\\\pydev_ipython\\\\__init__.py'>, 'pydevd_concurrency_analyser': <module 'pydevd_concurrency_analyser' from 'c:\\\\ProgramData\\\\Anaconda3\\\\lib\\\\site-packages\\\\debugpy\\\\_vendored\\\\pydevd\\\\pydevd_concurrency_analyser\\\\__init__.py'>, 'pydevd_plugins': <module 'pydevd_plugins' from 'c:\\\\ProgramData\\\\Anaconda3\\\\lib\\\\site-packages\\\\debugpy\\\\_vendored\\\\pydevd\\\\pydevd_plugins\\\\__init__.py'>, '_pydev_bundle.pydev_log': <module '_pydev_bundle.pydev_log' from 'c:\\\\ProgramData\\\\Anaconda3\\\\lib\\\\site-packages\\\\debugpy\\\\_vendored\\\\pydevd\\\\_pydev_bundle\\\\pydev_log.py'>, '_pydev_bundle._pydev_filesystem_encoding': <module '_pydev_bundle._pydev_filesystem_encoding' from 'c:\\\\ProgramData\\\\Anaconda3\\\\lib\\\\site-packages\\\\debugpy\\\\_vendored\\\\pydevd\\\\_pydev_bundle\\\\_pydev_filesystem_encoding.py'>, '_pydevd_bundle.pydevd_comm_constants': <module '_pydevd_bundle.pydevd_comm_constants' from 'c:\\\\ProgramData\\\\Anaconda3\\\\lib\\\\site-packages\\\\debugpy\\\\_vendored\\\\pydevd\\\\_pydevd_bundle\\\\pydevd_comm_constants.py'>, 'pydevd_file_utils': <module 'pydevd_file_utils' from 'c:\\\\ProgramData\\\\Anaconda3\\\\lib\\\\site-packages\\\\debugpy\\\\_vendored\\\\pydevd\\\\pydevd_file_utils.py'>, '_pydev_imps._pydev_execfile': <module '_pydev_imps._pydev_execfile' from 'c:\\\\ProgramData\\\\Anaconda3\\\\lib\\\\site-packages\\\\debugpy\\\\_vendored\\\\pydevd\\\\_pydev_imps\\\\_pydev_execfile.py'>, '_pydevd_bundle.pydevd_exec2': <module '_pydevd_bundle.pydevd_exec2' from 'c:\\\\ProgramData\\\\Anaconda3\\\\lib\\\\site-packages\\\\debugpy\\\\_vendored\\\\pydevd\\\\_pydevd_bundle\\\\pydevd_exec2.py'>, '_pydev_bundle.pydev_imports': <module '_pydev_bundle.pydev_imports' from 'c:\\\\ProgramData\\\\Anaconda3\\\\lib\\\\site-packages\\\\debugpy\\\\_vendored\\\\pydevd\\\\_pydev_bundle\\\\pydev_imports.py'>, '_pydev_bundle.pydev_is_thread_alive': <module '_pydev_bundle.pydev_is_thread_alive' from 'c:\\\\ProgramData\\\\Anaconda3\\\\lib\\\\site-packages\\\\debugpy\\\\_vendored\\\\pydevd\\\\_pydev_bundle\\\\pydev_is_thread_alive.py'>, '_pydev_bundle.pydev_override': <module '_pydev_bundle.pydev_override' from 'c:\\\\ProgramData\\\\Anaconda3\\\\lib\\\\site-packages\\\\debugpy\\\\_vendored\\\\pydevd\\\\_pydev_bundle\\\\pydev_override.py'>, 'pydevd_plugins.extensions': <module 'pydevd_plugins.extensions' from 'c:\\\\ProgramData\\\\Anaconda3\\\\lib\\\\site-packages\\\\debugpy\\\\_vendored\\\\pydevd\\\\pydevd_plugins\\\\extensions\\\\__init__.py'>, '_pydevd_bundle.pydevd_extension_utils': <module '_pydevd_bundle.pydevd_extension_utils' from 'c:\\\\ProgramData\\\\Anaconda3\\\\lib\\\\site-packages\\\\debugpy\\\\_vendored\\\\pydevd\\\\_pydevd_bundle\\\\pydevd_extension_utils.py'>, '_pydevd_bundle.pydevd_frame_utils': <module '_pydevd_bundle.pydevd_frame_utils' from 'c:\\\\ProgramData\\\\Anaconda3\\\\lib\\\\site-packages\\\\debugpy\\\\_vendored\\\\pydevd\\\\_pydevd_bundle\\\\pydevd_frame_utils.py'>, '_pydevd_bundle.pydevd_filtering': <module '_pydevd_bundle.pydevd_filtering' from 'c:\\\\ProgramData\\\\Anaconda3\\\\lib\\\\site-packages\\\\debugpy\\\\_vendored\\\\pydevd\\\\_pydevd_bundle\\\\pydevd_filtering.py'>, '_pydevd_bundle.pydevd_io': <module '_pydevd_bundle.pydevd_io' from 'c:\\\\ProgramData\\\\Anaconda3\\\\lib\\\\site-packages\\\\debugpy\\\\_vendored\\\\pydevd\\\\_pydevd_bundle\\\\pydevd_io.py'>, '_pydevd_bundle.pydevd_utils': <module '_pydevd_bundle.pydevd_utils' from 'c:\\\\ProgramData\\\\Anaconda3\\\\lib\\\\site-packages\\\\debugpy\\\\_vendored\\\\pydevd\\\\_pydevd_bundle\\\\pydevd_utils.py'>, '_pydev_bundle._pydev_tipper_common': <module '_pydev_bundle._pydev_tipper_common' from 'c:\\\\ProgramData\\\\Anaconda3\\\\lib\\\\site-packages\\\\debugpy\\\\_vendored\\\\pydevd\\\\_pydev_bundle\\\\_pydev_tipper_common.py'>, '_pydev_bundle._pydev_imports_tipper': <module '_pydev_bundle._pydev_imports_tipper' from 'c:\\\\ProgramData\\\\Anaconda3\\\\lib\\\\site-packages\\\\debugpy\\\\_vendored\\\\pydevd\\\\_pydev_bundle\\\\_pydev_imports_tipper.py'>, '_pydev_bundle._pydev_calltip_util': <module '_pydev_bundle._pydev_calltip_util' from 'c:\\\\ProgramData\\\\Anaconda3\\\\lib\\\\site-packages\\\\debugpy\\\\_vendored\\\\pydevd\\\\_pydev_bundle\\\\_pydev_calltip_util.py'>, '_pydevd_bundle.pydevd_safe_repr': <module '_pydevd_bundle.pydevd_safe_repr' from 'c:\\\\ProgramData\\\\Anaconda3\\\\lib\\\\site-packages\\\\debugpy\\\\_vendored\\\\pydevd\\\\_pydevd_bundle\\\\pydevd_safe_repr.py'>, '_pydevd_bundle.pydevd_resolver': <module '_pydevd_bundle.pydevd_resolver' from 'c:\\\\ProgramData\\\\Anaconda3\\\\lib\\\\site-packages\\\\debugpy\\\\_vendored\\\\pydevd\\\\_pydevd_bundle\\\\pydevd_resolver.py'>, '_pydevd_bundle.pydevd_extension_api': <module '_pydevd_bundle.pydevd_extension_api' from 'c:\\\\ProgramData\\\\Anaconda3\\\\lib\\\\site-packages\\\\debugpy\\\\_vendored\\\\pydevd\\\\_pydevd_bundle\\\\pydevd_extension_api.py'>, '_pydevd_bundle.pydevd_xml': <module '_pydevd_bundle.pydevd_xml' from 'c:\\\\ProgramData\\\\Anaconda3\\\\lib\\\\site-packages\\\\debugpy\\\\_vendored\\\\pydevd\\\\_pydevd_bundle\\\\pydevd_xml.py'>, '_pydevd_bundle.pydevd_dont_trace': <module '_pydevd_bundle.pydevd_dont_trace' from 'c:\\\\ProgramData\\\\Anaconda3\\\\lib\\\\site-packages\\\\debugpy\\\\_vendored\\\\pydevd\\\\_pydevd_bundle\\\\pydevd_dont_trace.py'>, '_pydevd_frame_eval.vendored': <module '_pydevd_frame_eval.vendored' from 'c:\\\\ProgramData\\\\Anaconda3\\\\lib\\\\site-packages\\\\debugpy\\\\_vendored\\\\pydevd\\\\_pydevd_frame_eval\\\\vendored\\\\__init__.py'>, '_pydevd_frame_eval.vendored.bytecode.flags': <module '_pydevd_frame_eval.vendored.bytecode.flags' from 'c:\\\\ProgramData\\\\Anaconda3\\\\lib\\\\site-packages\\\\debugpy\\\\_vendored\\\\pydevd\\\\_pydevd_frame_eval\\\\vendored\\\\bytecode\\\\flags.py'>, '_pydevd_frame_eval.vendored.bytecode.instr': <module '_pydevd_frame_eval.vendored.bytecode.instr' from 'c:\\\\ProgramData\\\\Anaconda3\\\\lib\\\\site-packages\\\\debugpy\\\\_vendored\\\\pydevd\\\\_pydevd_frame_eval\\\\vendored\\\\bytecode\\\\instr.py'>, '_pydevd_frame_eval.vendored.bytecode.bytecode': <module '_pydevd_frame_eval.vendored.bytecode.bytecode' from 'c:\\\\ProgramData\\\\Anaconda3\\\\lib\\\\site-packages\\\\debugpy\\\\_vendored\\\\pydevd\\\\_pydevd_frame_eval\\\\vendored\\\\bytecode\\\\bytecode.py'>, '_pydevd_frame_eval.vendored.bytecode.concrete': <module '_pydevd_frame_eval.vendored.bytecode.concrete' from 'c:\\\\ProgramData\\\\Anaconda3\\\\lib\\\\site-packages\\\\debugpy\\\\_vendored\\\\pydevd\\\\_pydevd_frame_eval\\\\vendored\\\\bytecode\\\\concrete.py'>, '_pydevd_frame_eval.vendored.bytecode.cfg': <module '_pydevd_frame_eval.vendored.bytecode.cfg' from 'c:\\\\ProgramData\\\\Anaconda3\\\\lib\\\\site-packages\\\\debugpy\\\\_vendored\\\\pydevd\\\\_pydevd_frame_eval\\\\vendored\\\\bytecode\\\\cfg.py'>, '_pydevd_frame_eval.vendored.bytecode': <module '_pydevd_frame_eval.vendored.bytecode' from 'c:\\\\ProgramData\\\\Anaconda3\\\\lib\\\\site-packages\\\\debugpy\\\\_vendored\\\\pydevd\\\\_pydevd_frame_eval\\\\vendored\\\\bytecode\\\\__init__.py'>, '_pydevd_bundle.pydevd_bytecode_utils': <module '_pydevd_bundle.pydevd_bytecode_utils' from 'c:\\\\ProgramData\\\\Anaconda3\\\\lib\\\\site-packages\\\\debugpy\\\\_vendored\\\\pydevd\\\\_pydevd_bundle\\\\pydevd_bytecode_utils.py'>, '_pydevd_bundle.pydevd_cython': <module '_pydevd_bundle.pydevd_cython' from 'c:\\\\ProgramData\\\\Anaconda3\\\\lib\\\\site-packages\\\\debugpy\\\\_vendored\\\\pydevd\\\\_pydevd_bundle\\\\pydevd_cython.cp39-win_amd64.pyd'>, '_pydevd_bundle.pydevd_cython_wrapper': <module '_pydevd_bundle.pydevd_cython_wrapper' from 'c:\\\\ProgramData\\\\Anaconda3\\\\lib\\\\site-packages\\\\debugpy\\\\_vendored\\\\pydevd\\\\_pydevd_bundle\\\\pydevd_cython_wrapper.py'>, '_pydevd_bundle.pydevd_additional_thread_info': <module '_pydevd_bundle.pydevd_additional_thread_info' from 'c:\\\\ProgramData\\\\Anaconda3\\\\lib\\\\site-packages\\\\debugpy\\\\_vendored\\\\pydevd\\\\_pydevd_bundle\\\\pydevd_additional_thread_info.py'>, '_pydevd_bundle.pydevd_thread_lifecycle': <module '_pydevd_bundle.pydevd_thread_lifecycle' from 'c:\\\\ProgramData\\\\Anaconda3\\\\lib\\\\site-packages\\\\debugpy\\\\_vendored\\\\pydevd\\\\_pydevd_bundle\\\\pydevd_thread_lifecycle.py'>, '_pydevd_bundle.pydevd_save_locals': <module '_pydevd_bundle.pydevd_save_locals' from 'c:\\\\ProgramData\\\\Anaconda3\\\\lib\\\\site-packages\\\\debugpy\\\\_vendored\\\\pydevd\\\\_pydevd_bundle\\\\pydevd_save_locals.py'>, '_pydevd_bundle.pydevd_defaults': <module '_pydevd_bundle.pydevd_defaults' from 'c:\\\\ProgramData\\\\Anaconda3\\\\lib\\\\site-packages\\\\debugpy\\\\_vendored\\\\pydevd\\\\_pydevd_bundle\\\\pydevd_defaults.py'>, '_pydev_bundle.pydev_monkey': <module '_pydev_bundle.pydev_monkey' from 'c:\\\\ProgramData\\\\Anaconda3\\\\lib\\\\site-packages\\\\debugpy\\\\_vendored\\\\pydevd\\\\_pydev_bundle\\\\pydev_monkey.py'>, 'pydevd_tracing': <module 'pydevd_tracing' from 'c:\\\\ProgramData\\\\Anaconda3\\\\lib\\\\site-packages\\\\debugpy\\\\_vendored\\\\pydevd\\\\pydevd_tracing.py'>, '_pydevd_bundle.pydevd_daemon_thread': <module '_pydevd_bundle.pydevd_daemon_thread' from 'c:\\\\ProgramData\\\\Anaconda3\\\\lib\\\\site-packages\\\\debugpy\\\\_vendored\\\\pydevd\\\\_pydevd_bundle\\\\pydevd_daemon_thread.py'>, '_pydevd_bundle.pydevd_timeout': <module '_pydevd_bundle.pydevd_timeout' from 'c:\\\\ProgramData\\\\Anaconda3\\\\lib\\\\site-packages\\\\debugpy\\\\_vendored\\\\pydevd\\\\_pydevd_bundle\\\\pydevd_timeout.py'>, '_pydevd_bundle.pydevd_vars': <module '_pydevd_bundle.pydevd_vars' from 'c:\\\\ProgramData\\\\Anaconda3\\\\lib\\\\site-packages\\\\debugpy\\\\_vendored\\\\pydevd\\\\_pydevd_bundle\\\\pydevd_vars.py'>, '_pydev_bundle.pydev_console_utils': <module '_pydev_bundle.pydev_console_utils' from 'c:\\\\ProgramData\\\\Anaconda3\\\\lib\\\\site-packages\\\\debugpy\\\\_vendored\\\\pydevd\\\\_pydev_bundle\\\\pydev_console_utils.py'>, '_pydevd_bundle.pydevd_import_class': <module '_pydevd_bundle.pydevd_import_class' from 'c:\\\\ProgramData\\\\Anaconda3\\\\lib\\\\site-packages\\\\debugpy\\\\_vendored\\\\pydevd\\\\_pydevd_bundle\\\\pydevd_import_class.py'>, '_pydevd_bundle.pydevd_breakpoints': <module '_pydevd_bundle.pydevd_breakpoints' from 'c:\\\\ProgramData\\\\Anaconda3\\\\lib\\\\site-packages\\\\debugpy\\\\_vendored\\\\pydevd\\\\_pydevd_bundle\\\\pydevd_breakpoints.py'>, '_pydevd_bundle.pydevd_custom_frames': <module '_pydevd_bundle.pydevd_custom_frames' from 'c:\\\\ProgramData\\\\Anaconda3\\\\lib\\\\site-packages\\\\debugpy\\\\_vendored\\\\pydevd\\\\_pydevd_bundle\\\\pydevd_custom_frames.py'>, '_pydevd_bundle.pydevd_dont_trace_files': <module '_pydevd_bundle.pydevd_dont_trace_files' from 'c:\\\\ProgramData\\\\Anaconda3\\\\lib\\\\site-packages\\\\debugpy\\\\_vendored\\\\pydevd\\\\_pydevd_bundle\\\\pydevd_dont_trace_files.py'>, '_pydevd_bundle.pydevd_net_command': <module '_pydevd_bundle.pydevd_net_command' from 'c:\\\\ProgramData\\\\Anaconda3\\\\lib\\\\site-packages\\\\debugpy\\\\_vendored\\\\pydevd\\\\_pydevd_bundle\\\\pydevd_net_command.py'>, '_pydev_bundle.pydev_umd': <module '_pydev_bundle.pydev_umd' from 'c:\\\\ProgramData\\\\Anaconda3\\\\lib\\\\site-packages\\\\debugpy\\\\_vendored\\\\pydevd\\\\_pydev_bundle\\\\pydev_umd.py'>, 'pydevconsole': <module 'pydevconsole' from 'c:\\\\ProgramData\\\\Anaconda3\\\\lib\\\\site-packages\\\\debugpy\\\\_vendored\\\\pydevd\\\\pydevconsole.py'>, '_pydev_bundle._pydev_completer': <module '_pydev_bundle._pydev_completer' from 'c:\\\\ProgramData\\\\Anaconda3\\\\lib\\\\site-packages\\\\debugpy\\\\_vendored\\\\pydevd\\\\_pydev_bundle\\\\_pydev_completer.py'>, '_pydevd_bundle.pydevd_net_command_factory_xml': <module '_pydevd_bundle.pydevd_net_command_factory_xml' from 'c:\\\\ProgramData\\\\Anaconda3\\\\lib\\\\site-packages\\\\debugpy\\\\_vendored\\\\pydevd\\\\_pydevd_bundle\\\\pydevd_net_command_factory_xml.py'>, '_pydevd_bundle.pydevd_frame': <module '_pydevd_bundle.pydevd_frame' from 'c:\\\\ProgramData\\\\Anaconda3\\\\lib\\\\site-packages\\\\debugpy\\\\_vendored\\\\pydevd\\\\_pydevd_bundle\\\\pydevd_frame.py'>, '_pydevd_bundle.pydevd_additional_thread_info_regular': <module '_pydevd_bundle.pydevd_additional_thread_info_regular' from 'c:\\\\ProgramData\\\\Anaconda3\\\\lib\\\\site-packages\\\\debugpy\\\\_vendored\\\\pydevd\\\\_pydevd_bundle\\\\pydevd_additional_thread_info_regular.py'>, '_pydevd_bundle.pydevd_trace_dispatch': <module '_pydevd_bundle.pydevd_trace_dispatch' from 'c:\\\\ProgramData\\\\Anaconda3\\\\lib\\\\site-packages\\\\debugpy\\\\_vendored\\\\pydevd\\\\_pydevd_bundle\\\\pydevd_trace_dispatch.py'>, '_pydevd_frame_eval.pydevd_frame_eval_main': <module '_pydevd_frame_eval.pydevd_frame_eval_main' from 'c:\\\\ProgramData\\\\Anaconda3\\\\lib\\\\site-packages\\\\debugpy\\\\_vendored\\\\pydevd\\\\_pydevd_frame_eval\\\\pydevd_frame_eval_main.py'>, '_pydevd_bundle.pydevd_source_mapping': <module '_pydevd_bundle.pydevd_source_mapping' from 'c:\\\\ProgramData\\\\Anaconda3\\\\lib\\\\site-packages\\\\debugpy\\\\_vendored\\\\pydevd\\\\_pydevd_bundle\\\\pydevd_source_mapping.py'>, 'pydevd_concurrency_analyser.pydevd_thread_wrappers': <module 'pydevd_concurrency_analyser.pydevd_thread_wrappers' from 'c:\\\\ProgramData\\\\Anaconda3\\\\lib\\\\site-packages\\\\debugpy\\\\_vendored\\\\pydevd\\\\pydevd_concurrency_analyser\\\\pydevd_thread_wrappers.py'>, 'pydevd_concurrency_analyser.pydevd_concurrency_logger': <module 'pydevd_concurrency_analyser.pydevd_concurrency_logger' from 'c:\\\\ProgramData\\\\Anaconda3\\\\lib\\\\site-packages\\\\debugpy\\\\_vendored\\\\pydevd\\\\pydevd_concurrency_analyser\\\\pydevd_concurrency_logger.py'>, '_pydevd_bundle._debug_adapter': <module '_pydevd_bundle._debug_adapter' from 'c:\\\\ProgramData\\\\Anaconda3\\\\lib\\\\site-packages\\\\debugpy\\\\_vendored\\\\pydevd\\\\_pydevd_bundle\\\\_debug_adapter\\\\__init__.py'>, '_pydevd_bundle._debug_adapter.pydevd_schema_log': <module '_pydevd_bundle._debug_adapter.pydevd_schema_log' from 'c:\\\\ProgramData\\\\Anaconda3\\\\lib\\\\site-packages\\\\debugpy\\\\_vendored\\\\pydevd\\\\_pydevd_bundle\\\\_debug_adapter\\\\pydevd_schema_log.py'>, '_pydevd_bundle._debug_adapter.pydevd_base_schema': <module '_pydevd_bundle._debug_adapter.pydevd_base_schema' from 'c:\\\\ProgramData\\\\Anaconda3\\\\lib\\\\site-packages\\\\debugpy\\\\_vendored\\\\pydevd\\\\_pydevd_bundle\\\\_debug_adapter\\\\pydevd_base_schema.py'>, '_pydevd_bundle._debug_adapter.pydevd_schema': <module '_pydevd_bundle._debug_adapter.pydevd_schema' from 'c:\\\\ProgramData\\\\Anaconda3\\\\lib\\\\site-packages\\\\debugpy\\\\_vendored\\\\pydevd\\\\_pydevd_bundle\\\\_debug_adapter\\\\pydevd_schema.py'>, '_pydevd_bundle.pydevd_reload': <module '_pydevd_bundle.pydevd_reload' from 'c:\\\\ProgramData\\\\Anaconda3\\\\lib\\\\site-packages\\\\debugpy\\\\_vendored\\\\pydevd\\\\_pydevd_bundle\\\\pydevd_reload.py'>, '_pydev_bundle.fsnotify': <module '_pydev_bundle.fsnotify' from 'c:\\\\ProgramData\\\\Anaconda3\\\\lib\\\\site-packages\\\\debugpy\\\\_vendored\\\\pydevd\\\\_pydev_bundle\\\\fsnotify\\\\__init__.py'>, '_pydevd_bundle.pydevd_console': <module '_pydevd_bundle.pydevd_console' from 'c:\\\\ProgramData\\\\Anaconda3\\\\lib\\\\site-packages\\\\debugpy\\\\_vendored\\\\pydevd\\\\_pydevd_bundle\\\\pydevd_console.py'>, '_pydevd_bundle.pydevd_comm': <module '_pydevd_bundle.pydevd_comm' from 'c:\\\\ProgramData\\\\Anaconda3\\\\lib\\\\site-packages\\\\debugpy\\\\_vendored\\\\pydevd\\\\_pydevd_bundle\\\\pydevd_comm.py'>, '_pydevd_bundle.pydevd_net_command_factory_json': <module '_pydevd_bundle.pydevd_net_command_factory_json' from 'c:\\\\ProgramData\\\\Anaconda3\\\\lib\\\\site-packages\\\\debugpy\\\\_vendored\\\\pydevd\\\\_pydevd_bundle\\\\pydevd_net_command_factory_json.py'>, '_pydevd_bundle.pydevd_collect_bytecode_info': <module '_pydevd_bundle.pydevd_collect_bytecode_info' from 'c:\\\\ProgramData\\\\Anaconda3\\\\lib\\\\site-packages\\\\debugpy\\\\_vendored\\\\pydevd\\\\_pydevd_bundle\\\\pydevd_collect_bytecode_info.py'>, '_pydevd_bundle.pydevd_api': <module '_pydevd_bundle.pydevd_api' from 'c:\\\\ProgramData\\\\Anaconda3\\\\lib\\\\site-packages\\\\debugpy\\\\_vendored\\\\pydevd\\\\_pydevd_bundle\\\\pydevd_api.py'>, '_pydevd_bundle.pydevd_json_debug_options': <module '_pydevd_bundle.pydevd_json_debug_options' from 'c:\\\\ProgramData\\\\Anaconda3\\\\lib\\\\site-packages\\\\debugpy\\\\_vendored\\\\pydevd\\\\_pydevd_bundle\\\\pydevd_json_debug_options.py'>, '_pydevd_bundle.pydevd_process_net_command_json': <module '_pydevd_bundle.pydevd_process_net_command_json' from 'c:\\\\ProgramData\\\\Anaconda3\\\\lib\\\\site-packages\\\\debugpy\\\\_vendored\\\\pydevd\\\\_pydevd_bundle\\\\pydevd_process_net_command_json.py'>, '_pydevd_bundle.pydevd_traceproperty': <module '_pydevd_bundle.pydevd_traceproperty' from 'c:\\\\ProgramData\\\\Anaconda3\\\\lib\\\\site-packages\\\\debugpy\\\\_vendored\\\\pydevd\\\\_pydevd_bundle\\\\pydevd_traceproperty.py'>, '_pydevd_bundle.pydevd_process_net_command': <module '_pydevd_bundle.pydevd_process_net_command' from 'c:\\\\ProgramData\\\\Anaconda3\\\\lib\\\\site-packages\\\\debugpy\\\\_vendored\\\\pydevd\\\\_pydevd_bundle\\\\pydevd_process_net_command.py'>, '_pydevd_bundle.pydevd_suspended_frames': <module '_pydevd_bundle.pydevd_suspended_frames' from 'c:\\\\ProgramData\\\\Anaconda3\\\\lib\\\\site-packages\\\\debugpy\\\\_vendored\\\\pydevd\\\\_pydevd_bundle\\\\pydevd_suspended_frames.py'>, '_pydevd_bundle.pydevd_trace_api': <module '_pydevd_bundle.pydevd_trace_api' from 'c:\\\\ProgramData\\\\Anaconda3\\\\lib\\\\site-packages\\\\debugpy\\\\_vendored\\\\pydevd\\\\_pydevd_bundle\\\\pydevd_trace_api.py'>, 'pydevd_plugins.django_debug': <module 'pydevd_plugins.django_debug' from 'c:\\\\ProgramData\\\\Anaconda3\\\\lib\\\\site-packages\\\\debugpy\\\\_vendored\\\\pydevd\\\\pydevd_plugins\\\\django_debug.py'>, 'pydevd_plugins.jinja2_debug': <module 'pydevd_plugins.jinja2_debug' from 'c:\\\\ProgramData\\\\Anaconda3\\\\lib\\\\site-packages\\\\debugpy\\\\_vendored\\\\pydevd\\\\pydevd_plugins\\\\jinja2_debug.py'>, '_pydevd_bundle.pydevd_plugin_utils': <module '_pydevd_bundle.pydevd_plugin_utils' from 'c:\\\\ProgramData\\\\Anaconda3\\\\lib\\\\site-packages\\\\debugpy\\\\_vendored\\\\pydevd\\\\_pydevd_bundle\\\\pydevd_plugin_utils.py'>, 'pydevd_plugins.extensions.types': <module 'pydevd_plugins.extensions.types' from 'c:\\\\ProgramData\\\\Anaconda3\\\\lib\\\\site-packages\\\\debugpy\\\\_vendored\\\\pydevd\\\\pydevd_plugins\\\\extensions\\\\types\\\\__init__.py'>, 'pydevd_plugins.extensions.types.pydevd_helpers': <module 'pydevd_plugins.extensions.types.pydevd_helpers' from 'c:\\\\ProgramData\\\\Anaconda3\\\\lib\\\\site-packages\\\\debugpy\\\\_vendored\\\\pydevd\\\\pydevd_plugins\\\\extensions\\\\types\\\\pydevd_helpers.py'>, 'pydevd_plugins.extensions.types.pydevd_plugin_numpy_types': <module 'pydevd_plugins.extensions.types.pydevd_plugin_numpy_types' from 'c:\\\\ProgramData\\\\Anaconda3\\\\lib\\\\site-packages\\\\debugpy\\\\_vendored\\\\pydevd\\\\pydevd_plugins\\\\extensions\\\\types\\\\pydevd_plugin_numpy_types.py'>, 'pydevd_plugins.extensions.types.pydevd_plugins_django_form_str': <module 'pydevd_plugins.extensions.types.pydevd_plugins_django_form_str' from 'c:\\\\ProgramData\\\\Anaconda3\\\\lib\\\\site-packages\\\\debugpy\\\\_vendored\\\\pydevd\\\\pydevd_plugins\\\\extensions\\\\types\\\\pydevd_plugins_django_form_str.py'>, 'pydevd': <module 'pydevd' from 'c:\\\\ProgramData\\\\Anaconda3\\\\lib\\\\site-packages\\\\debugpy\\\\_vendored\\\\pydevd\\\\pydevd.py'>, 'debugpy._vendored.force_pydevd': <module 'debugpy._vendored.force_pydevd' from 'c:\\\\ProgramData\\\\Anaconda3\\\\lib\\\\site-packages\\\\debugpy\\\\_vendored\\\\force_pydevd.py'>, 'debugpy.server': <module 'debugpy.server' from 'c:\\\\ProgramData\\\\Anaconda3\\\\lib\\\\site-packages\\\\debugpy\\\\server\\\\__init__.py'>, 'debugpy.adapter': <module 'debugpy.adapter' from 'c:\\\\ProgramData\\\\Anaconda3\\\\lib\\\\site-packages\\\\debugpy\\\\adapter\\\\__init__.py'>, 'debugpy.common.timestamp': <module 'debugpy.common.timestamp' from 'c:\\\\ProgramData\\\\Anaconda3\\\\lib\\\\site-packages\\\\debugpy\\\\common\\\\timestamp.py'>, 'debugpy.common.util': <module 'debugpy.common.util' from 'c:\\\\ProgramData\\\\Anaconda3\\\\lib\\\\site-packages\\\\debugpy\\\\common\\\\util.py'>, 'debugpy.common.log': <module 'debugpy.common.log' from 'c:\\\\ProgramData\\\\Anaconda3\\\\lib\\\\site-packages\\\\debugpy\\\\common\\\\log.py'>, 'debugpy.common.sockets': <module 'debugpy.common.sockets' from 'c:\\\\ProgramData\\\\Anaconda3\\\\lib\\\\site-packages\\\\debugpy\\\\common\\\\sockets.py'>, 'debugpy.server.api': <module 'debugpy.server.api' from 'c:\\\\ProgramData\\\\Anaconda3\\\\lib\\\\site-packages\\\\debugpy\\\\server\\\\api.py'>, 'ipykernel.debugger': <module 'ipykernel.debugger' from 'c:\\\\ProgramData\\\\Anaconda3\\\\lib\\\\site-packages\\\\ipykernel\\\\debugger.py'>, 'ipykernel.ipkernel': <module 'ipykernel.ipkernel' from 'c:\\\\ProgramData\\\\Anaconda3\\\\lib\\\\site-packages\\\\ipykernel\\\\ipkernel.py'>, 'ipykernel.parentpoller': <module 'ipykernel.parentpoller' from 'c:\\\\ProgramData\\\\Anaconda3\\\\lib\\\\site-packages\\\\ipykernel\\\\parentpoller.py'>, 'ipykernel.kernelapp': <module 'ipykernel.kernelapp' from 'c:\\\\ProgramData\\\\Anaconda3\\\\lib\\\\site-packages\\\\ipykernel\\\\kernelapp.py'>, 'win32security': <module 'win32security' from 'c:\\\\ProgramData\\\\Anaconda3\\\\lib\\\\site-packages\\\\win32\\\\win32security.pyd'>, 'ntsecuritycon': <module 'ntsecuritycon' from 'c:\\\\ProgramData\\\\Anaconda3\\\\lib\\\\site-packages\\\\win32\\\\lib\\\\ntsecuritycon.py'>, 'faulthandler': <module 'faulthandler' (built-in)>, 'IPython.core.completerlib': <module 'IPython.core.completerlib' from 'c:\\\\ProgramData\\\\Anaconda3\\\\lib\\\\site-packages\\\\IPython\\\\core\\\\completerlib.py'>, 'jedi.inference.finder': <module 'jedi.inference.finder' from 'c:\\\\ProgramData\\\\Anaconda3\\\\lib\\\\site-packages\\\\jedi\\\\inference\\\\finder.py'>}\n"
     ]
    }
   ],
   "source": [
    "import sys\n",
    "print(sys.modules)\n",
    "\n",
    "#print (help('modules') )\n"
   ]
  },
  {
   "cell_type": "markdown",
   "metadata": {},
   "source": [
    "`pip` is a special package. It is used from the command line to install properly (e.g. matching the version of the local packages) new packages. It can also be used from within python to check i.e. the set installed packages and their versions. N.B.: only the installed packages on top of the default ones will be listed "
   ]
  },
  {
   "cell_type": "code",
   "execution_count": 3,
   "metadata": {},
   "outputs": [
    {
     "name": "stderr",
     "output_type": "stream",
     "text": [
      "c:\\ProgramData\\Anaconda3\\lib\\site-packages\\_distutils_hack\\__init__.py:30: UserWarning: Setuptools is replacing distutils.\n",
      "  warnings.warn(\"Setuptools is replacing distutils.\")\n"
     ]
    },
    {
     "ename": "AttributeError",
     "evalue": "module 'pip' has no attribute '_internal'",
     "output_type": "error",
     "traceback": [
      "\u001b[1;31m---------------------------------------------------------------------------\u001b[0m",
      "\u001b[1;31mAttributeError\u001b[0m                            Traceback (most recent call last)",
      "\u001b[1;32mc:\\Users\\leonm\\LaboratoryOfComputationalPhysics_Y5\\01_Fundamentals.ipynb Cell 6\u001b[0m in \u001b[0;36m<cell line: 2>\u001b[1;34m()\u001b[0m\n\u001b[0;32m      <a href='vscode-notebook-cell:/c%3A/Users/leonm/LaboratoryOfComputationalPhysics_Y5/01_Fundamentals.ipynb#W5sZmlsZQ%3D%3D?line=0'>1</a>\u001b[0m \u001b[39mimport\u001b[39;00m \u001b[39mpip\u001b[39;00m\n\u001b[1;32m----> <a href='vscode-notebook-cell:/c%3A/Users/leonm/LaboratoryOfComputationalPhysics_Y5/01_Fundamentals.ipynb#W5sZmlsZQ%3D%3D?line=1'>2</a>\u001b[0m \u001b[39msorted\u001b[39m([\u001b[39m\"\u001b[39m\u001b[39m%s\u001b[39;00m\u001b[39m==\u001b[39m\u001b[39m%s\u001b[39;00m\u001b[39m\"\u001b[39m \u001b[39m%\u001b[39m (i\u001b[39m.\u001b[39mkey, i\u001b[39m.\u001b[39mversion) \u001b[39mfor\u001b[39;00m i \u001b[39min\u001b[39;00m pip\u001b[39m.\u001b[39;49m_internal\u001b[39m.\u001b[39mutils\u001b[39m.\u001b[39mmisc\u001b[39m.\u001b[39mget_installed_distributions()])\n",
      "\u001b[1;31mAttributeError\u001b[0m: module 'pip' has no attribute '_internal'"
     ]
    }
   ],
   "source": [
    "import pip\n",
    "sorted([\"%s==%s\" % (i.key, i.version) for i in pip._internal.utils.misc.get_installed_distributions()])"
   ]
  },
  {
   "cell_type": "markdown",
   "metadata": {},
   "source": [
    "# Functions"
   ]
  },
  {
   "cell_type": "code",
   "execution_count": 53,
   "metadata": {},
   "outputs": [
    {
     "name": "stdout",
     "output_type": "stream",
     "text": [
      "<function square at 0x00000201119B39D0> <function cube at 0x00000201119B35E0>\n",
      "dict_keys(['s', 'c'])\n",
      "dict_values([<function square at 0x00000201119B39D0>, <function cube at 0x00000201119B35E0>])\n",
      "['c', 's'] <class 'list'>\n",
      "2 8\n",
      "c 8\n",
      "s 4\n"
     ]
    }
   ],
   "source": [
    "def square(x):\n",
    "    return x*x\n",
    "\n",
    "def cube(x):\n",
    "    return x*x*x\n",
    "\n",
    "# create a dictionary of functions\n",
    "funcs = {'s': square, 'c': cube}\n",
    "\n",
    "print(funcs[\"s\"], funcs[\"c\"])\n",
    "print(funcs.keys())\n",
    "print(funcs.values())\n",
    "\n",
    "print(sorted(funcs), type(sorted(funcs))) #lists objects in alphabetical order, if objects depend on letters, otherwise numerically ascending\n",
    "\n",
    "a = 2\n",
    "b = funcs[\"c\"](2)\n",
    "print(a, b)\n",
    "\n",
    "x = 2\n",
    "for func in sorted(funcs):\n",
    "    print(func, funcs[func](x))"
   ]
  },
  {
   "cell_type": "markdown",
   "metadata": {},
   "source": [
    "## Functions arguments"
   ]
  },
  {
   "cell_type": "markdown",
   "metadata": {},
   "source": [
    "What is passed to a function is a copy of the input. Imagine we have a list *x =[1, 2, 3]*, i.e. a mutable object. If within the function the content of *x* is directly changed (e.g. *x[0] = 999*), then *x* changes outside the function as well. "
   ]
  },
  {
   "cell_type": "code",
   "execution_count": 37,
   "metadata": {},
   "outputs": [
    {
     "name": "stdout",
     "output_type": "stream",
     "text": [
      "[1, 2, 3]\n",
      "[999, 2, 3]\n",
      "[999, 2, 3]\n"
     ]
    }
   ],
   "source": [
    "def modify(y): #the argument passed to the function can be x or y or any other name\n",
    "    y[0] = 999 #content of the passed list is directly changed\n",
    "    return y\n",
    "\n",
    "x = [1,2,3]\n",
    "print (x)\n",
    "print (modify(x))\n",
    "print (x)"
   ]
  },
  {
   "cell_type": "markdown",
   "metadata": {},
   "source": [
    "However, if *x* is reassigned within the function to a new object (e.g. another list), then the copy of the name *x* now points to the new object, but *x* outside the function is unhcanged.2"
   ]
  },
  {
   "cell_type": "code",
   "execution_count": 38,
   "metadata": {},
   "outputs": [
    {
     "name": "stdout",
     "output_type": "stream",
     "text": [
      "[1, 2, 3]\n",
      "[4, 5, 6]\n",
      "[1, 2, 3]\n"
     ]
    }
   ],
   "source": [
    "def no_modify(x):\n",
    "    x = [4,5,6] #points to another object\n",
    "    return x\n",
    "\n",
    "x = [1,2,3]\n",
    "print (x)\n",
    "print (no_modify(x))\n",
    "print (x)\n"
   ]
  },
  {
   "cell_type": "markdown",
   "metadata": {},
   "source": [
    "What if the function tries to modify the value of an immutable object?"
   ]
  },
  {
   "cell_type": "code",
   "execution_count": 39,
   "metadata": {},
   "outputs": [
    {
     "name": "stdout",
     "output_type": "stream",
     "text": [
      "(1, 2, 3)\n",
      "[4, 5, 6]\n"
     ]
    },
    {
     "ename": "TypeError",
     "evalue": "'tuple' object does not support item assignment",
     "output_type": "error",
     "traceback": [
      "\u001b[1;31m---------------------------------------------------------------------------\u001b[0m",
      "\u001b[1;31mTypeError\u001b[0m                                 Traceback (most recent call last)",
      "\u001b[1;32mc:\\Users\\leonm\\LaboratoryOfComputationalPhysics_Y5\\01_Fundamentals.ipynb Cell 15\u001b[0m in \u001b[0;36m<cell line: 4>\u001b[1;34m()\u001b[0m\n\u001b[0;32m      <a href='vscode-notebook-cell:/c%3A/Users/leonm/LaboratoryOfComputationalPhysics_Y5/01_Fundamentals.ipynb#X20sZmlsZQ%3D%3D?line=1'>2</a>\u001b[0m \u001b[39mprint\u001b[39m(x)\n\u001b[0;32m      <a href='vscode-notebook-cell:/c%3A/Users/leonm/LaboratoryOfComputationalPhysics_Y5/01_Fundamentals.ipynb#X20sZmlsZQ%3D%3D?line=2'>3</a>\u001b[0m \u001b[39mprint\u001b[39m(no_modify(x)) \u001b[39m#points to new object so doesn't return an error\u001b[39;00m\n\u001b[1;32m----> <a href='vscode-notebook-cell:/c%3A/Users/leonm/LaboratoryOfComputationalPhysics_Y5/01_Fundamentals.ipynb#X20sZmlsZQ%3D%3D?line=3'>4</a>\u001b[0m \u001b[39mprint\u001b[39m(modify(x))\n",
      "\u001b[1;32mc:\\Users\\leonm\\LaboratoryOfComputationalPhysics_Y5\\01_Fundamentals.ipynb Cell 15\u001b[0m in \u001b[0;36mmodify\u001b[1;34m(y)\u001b[0m\n\u001b[0;32m      <a href='vscode-notebook-cell:/c%3A/Users/leonm/LaboratoryOfComputationalPhysics_Y5/01_Fundamentals.ipynb#X20sZmlsZQ%3D%3D?line=0'>1</a>\u001b[0m \u001b[39mdef\u001b[39;00m \u001b[39mmodify\u001b[39m(y): \u001b[39m#the argument passed to the function can be x or y or any other name\u001b[39;00m\n\u001b[1;32m----> <a href='vscode-notebook-cell:/c%3A/Users/leonm/LaboratoryOfComputationalPhysics_Y5/01_Fundamentals.ipynb#X20sZmlsZQ%3D%3D?line=1'>2</a>\u001b[0m     y[\u001b[39m0\u001b[39m] \u001b[39m=\u001b[39m \u001b[39m999\u001b[39m \u001b[39m#content of the passed list is directly changed\u001b[39;00m\n\u001b[0;32m      <a href='vscode-notebook-cell:/c%3A/Users/leonm/LaboratoryOfComputationalPhysics_Y5/01_Fundamentals.ipynb#X20sZmlsZQ%3D%3D?line=2'>3</a>\u001b[0m     \u001b[39mreturn\u001b[39;00m y\n",
      "\u001b[1;31mTypeError\u001b[0m: 'tuple' object does not support item assignment"
     ]
    }
   ],
   "source": [
    "x = (1,2,3)\n",
    "print(x)\n",
    "print(no_modify(x)) #points to new object so doesn't return an error\n",
    "print(modify(x)) #tries to change tuple object so gives error"
   ]
  },
  {
   "cell_type": "markdown",
   "metadata": {},
   "source": [
    "Binding of default arguments occurs at function definition:"
   ]
  },
  {
   "cell_type": "code",
   "execution_count": null,
   "metadata": {},
   "outputs": [
    {
     "name": "stdout",
     "output_type": "stream",
     "text": [
      "[1]\n",
      "[1, 1]\n",
      "[9, 9, 9, 1]\n",
      "[1, 1, 1]\n",
      "[1, 1, 1, 1]\n"
     ]
    }
   ],
   "source": [
    "def f(x = []):\n",
    "    x.append(1)\n",
    "    return x\n",
    "\n",
    "print (f())\n",
    "print (f())\n",
    "print (f(x = [9,9,9])) #this value is lost\n",
    "print (f())\n",
    "print (f())"
   ]
  },
  {
   "cell_type": "markdown",
   "metadata": {},
   "source": [
    "Try to avoid that!!"
   ]
  },
  {
   "cell_type": "code",
   "execution_count": null,
   "metadata": {},
   "outputs": [
    {
     "name": "stdout",
     "output_type": "stream",
     "text": [
      "[1]\n",
      "[1]\n",
      "[9, 9, 9, 1]\n",
      "[1]\n",
      "[1]\n",
      "None\n"
     ]
    }
   ],
   "source": [
    "def f(x = None):\n",
    "    if x is None:\n",
    "        x = []\n",
    "    x.append(1)\n",
    "    return x\n",
    "\n",
    "print (f())\n",
    "print (f())\n",
    "print (f(x = [9,9,9]))\n",
    "print (f())\n",
    "print (f())\n",
    "\n",
    "x = None\n",
    "print(x)"
   ]
  },
  {
   "cell_type": "markdown",
   "metadata": {},
   "source": [
    "## Higher order functions\n",
    "\n",
    "A function that uses another function as an input argument or returns a function is known as a higher-order function (HOF). The most familiar examples are `map` and `filter`."
   ]
  },
  {
   "cell_type": "markdown",
   "metadata": {},
   "source": [
    "### map\n",
    "\n",
    "The map function applies a function to each member of a collection"
   ]
  },
  {
   "cell_type": "code",
   "execution_count": null,
   "metadata": {},
   "outputs": [
    {
     "name": "stdout",
     "output_type": "stream",
     "text": [
      "[0, 1, 4, 9, 16]\n",
      "0\n",
      "1\n",
      "4\n",
      "9\n",
      "16\n"
     ]
    },
    {
     "data": {
      "text/plain": [
       "[0, 1, 4, 9, 16, 25]"
      ]
     },
     "execution_count": 11,
     "metadata": {},
     "output_type": "execute_result"
    }
   ],
   "source": [
    "x = list(map(square, range(5))) \n",
    "print (x)\n",
    "\n",
    "# Note the difference w.r.t python 2. In python 3 map retuns an iterator so you can do stuff like:\n",
    "for i in map(square,range(5)): print(i)\n",
    "\n",
    "# or\n",
    "[i for i in map(square,range(6))]"
   ]
  },
  {
   "cell_type": "markdown",
   "metadata": {},
   "source": [
    "### filter\n",
    "\n",
    "The filter function applies a predicate to each member of a collection, retaining only those members where the predicate is True"
   ]
  },
  {
   "cell_type": "code",
   "execution_count": null,
   "metadata": {},
   "outputs": [
    {
     "name": "stdout",
     "output_type": "stream",
     "text": [
      "True\n",
      "[0, 2, 4]\n"
     ]
    }
   ],
   "source": [
    "def is_even(x):\n",
    "    return x%2 == 0 #or return bool(x%2 == 0) gives the same thing\n",
    "\n",
    "\n",
    "x = 10\n",
    "\n",
    "print(x%2 == 0) #or print(bool(x%2 == 0)) is the same thing\n",
    "\n",
    "print(list(filter(is_even, range(6)))) #if is_even gives True, then filter retains the element and puts it in list\n",
    "\n"
   ]
  },
  {
   "cell_type": "markdown",
   "metadata": {},
   "source": [
    "## (Boolean)\n",
    "\n",
    "Python boolean type is one of the built-in data types provided by Python, which represents one of the two values i.e. True or False. Generally, it is used to represent the truth values of the expressions. For example, 1==1 is True whereas 2<1 is False. \n",
    "\n",
    "The boolean value can be of two types only i.e. either True or False. The output <class ‘bool’> indicates the variable is a boolean data type.\n",
    "\n",
    "##### Evaluating Variables and Expressions\n",
    "We can evaluate values and variables using the Python bool() function. This method is used to return or convert a value to a Boolean value i.e., True or False, using the standard truth testing procedure. \n",
    "\n",
    "We can also evaluate expression without using the bool() function also. The Booleans values will be returned as a result of some sort of comparison. In the example below the variable res will store the boolean value of False after the equality comparison takes place."
   ]
  },
  {
   "cell_type": "code",
   "execution_count": null,
   "metadata": {},
   "outputs": [
    {
     "name": "stdout",
     "output_type": "stream",
     "text": [
      "False\n",
      "False\n",
      "False\n",
      "False\n",
      "False\n",
      "True\n",
      "False\n"
     ]
    }
   ],
   "source": [
    "# Python program to illustrate\n",
    "# built-in method bool()\n",
    "\n",
    "# Returns False as x is not equal to y\n",
    "x = 5\n",
    "y = 10\n",
    "print(bool(x==y))\n",
    "\n",
    "# Returns False as x is None\n",
    "x = None\n",
    "print(bool(x))\n",
    "\n",
    "# Returns False as x is an empty sequence\n",
    "x = ()\n",
    "print(bool(x))\n",
    "\n",
    "# Returns False as x is an empty mapping\n",
    "x = {}\n",
    "print(bool(x))\n",
    "\n",
    "# Returns False as x is 0\n",
    "x = 0.0\n",
    "print(bool(x))\n",
    "\n",
    "# Returns True as x is a non empty string\n",
    "x = 'GeeksforGeeks'\n",
    "print(bool(x))\n",
    "\n",
    "# Declaring variables\n",
    "a = 10\n",
    "b = 20\n",
    "\n",
    "# Comparing variables\n",
    "print(a == b)\n"
   ]
  },
  {
   "cell_type": "markdown",
   "metadata": {},
   "source": [
    "Combinations in sequence of HOF are obviously possible"
   ]
  },
  {
   "cell_type": "code",
   "execution_count": null,
   "metadata": {},
   "outputs": [
    {
     "data": {
      "text/plain": [
       "[0, 4, 16]"
      ]
     },
     "execution_count": 13,
     "metadata": {},
     "output_type": "execute_result"
    }
   ],
   "source": [
    "list(map(square, filter(is_even, range(5))))"
   ]
  },
  {
   "cell_type": "markdown",
   "metadata": {},
   "source": [
    "### reduce\n",
    "\n",
    "The reduce function reduces a collection using a binary operator to combine items two at a time. More often than not reduce can be substituted with a more efficient for loop. It is worth mentioning it for its key role in big-data applications together with map (the map-reduce paradigm). \n",
    "N.B.: it no longer exists as built-in function in python 3, it is now part of the `functools` library"
   ]
  },
  {
   "cell_type": "code",
   "execution_count": null,
   "metadata": {},
   "outputs": [
    {
     "data": {
      "text/plain": [
       "15"
      ]
     },
     "execution_count": 14,
     "metadata": {},
     "output_type": "execute_result"
    }
   ],
   "source": [
    "from functools import reduce\n",
    "\n",
    "def my_add(x, y):\n",
    "    return x + y\n",
    "\n",
    "# another implementation of the sum function\n",
    "reduce(my_add, [1,2,3,4,5])"
   ]
  },
  {
   "cell_type": "markdown",
   "metadata": {},
   "source": [
    "### zip\n",
    "\n",
    "zip is useful when you need to iterate over matched elements of multiple lists"
   ]
  },
  {
   "cell_type": "code",
   "execution_count": null,
   "metadata": {},
   "outputs": [
    {
     "name": "stdout",
     "output_type": "stream",
     "text": [
      "1 10 a\n",
      "2 20 b\n",
      "3 30 c\n",
      "4 40 d\n"
     ]
    }
   ],
   "source": [
    "xs = [1, 2, 3, 4]\n",
    "ys = [10, 20, 30, 40]\n",
    "zs = ['a', 'b', 'c', 'd', 'e']\n",
    "\n",
    "for x, y, z in zip(xs, ys, zs):\n",
    "    print (x, y, z)"
   ]
  },
  {
   "cell_type": "markdown",
   "metadata": {},
   "source": [
    "### Custom HOF"
   ]
  },
  {
   "cell_type": "code",
   "execution_count": null,
   "metadata": {},
   "outputs": [
    {
     "name": "stdout",
     "output_type": "stream",
     "text": [
      "30\n",
      "100\n"
     ]
    }
   ],
   "source": [
    "def custom_sum(xs, transform):\n",
    "    \"\"\"Returns the sum of xs after a user specified transform.\"\"\"\n",
    "    return sum(map(transform, xs)) #sum is built-in, after I redefine it, so be careful of chronological order of evaluated cells\n",
    "\n",
    "xs = range(5)\n",
    "print (custom_sum(xs, square))\n",
    "print (custom_sum(xs, cube))\n",
    "\n"
   ]
  },
  {
   "cell_type": "markdown",
   "metadata": {},
   "source": [
    "### Returning a function"
   ]
  },
  {
   "cell_type": "code",
   "execution_count": null,
   "metadata": {},
   "outputs": [],
   "source": [
    "def make_logger(target):\n",
    "    def logger(data):\n",
    "        with open(target, 'a') as f:\n",
    "            f.write(data + '\\n')\n",
    "    return logger\n",
    "\n",
    "foo_logger = make_logger('foo.txt') #foo.txt will be created if not there already\n",
    "foo_logger('Hello')\n",
    "foo_logger('World')"
   ]
  },
  {
   "cell_type": "code",
   "execution_count": null,
   "metadata": {
    "scrolled": true
   },
   "outputs": [
    {
     "name": "stderr",
     "output_type": "stream",
     "text": [
      "'cat' is not recognized as an internal or external command,\n",
      "operable program or batch file.\n"
     ]
    }
   ],
   "source": [
    "! cat 'foo.txt' #from cat on is not Python, bash"
   ]
  },
  {
   "cell_type": "markdown",
   "metadata": {},
   "source": [
    "## Anonimous functions (lambda)\n",
    "\n",
    "When using functional style, there is often the need to create specific functions that perform a limited task as input to a HOF such as map or filter. In such cases, these functions are often written as anonymous or lambda functions. \n",
    "The syntax is as follows:\n",
    "\n",
    "lambda *arguments* : *expression*\n",
    "\n",
    "\n",
    "If you find it hard to understand what a lambda function is doing, it should probably be rewritten as a regular function."
   ]
  },
  {
   "cell_type": "code",
   "execution_count": null,
   "metadata": {},
   "outputs": [
    {
     "data": {
      "text/plain": [
       "7"
      ]
     },
     "execution_count": 21,
     "metadata": {},
     "output_type": "execute_result"
    }
   ],
   "source": [
    "sum = lambda x,y: x+y #redefine a built-in function\n",
    "sum(3,4)"
   ]
  },
  {
   "cell_type": "code",
   "execution_count": null,
   "metadata": {},
   "outputs": [
    {
     "data": {
      "text/plain": [
       "3"
      ]
     },
     "execution_count": 23,
     "metadata": {},
     "output_type": "execute_result"
    }
   ],
   "source": [
    "(lambda a,b: a+b)(1,2)"
   ]
  },
  {
   "cell_type": "code",
   "execution_count": null,
   "metadata": {},
   "outputs": [
    {
     "name": "stdout",
     "output_type": "stream",
     "text": [
      "0\n",
      "1\n",
      "4\n",
      "9\n",
      "16\n",
      "[0, 1, 4, 9, 16]\n"
     ]
    }
   ],
   "source": [
    "for i in map(lambda x: x*x, range(5)): print (i)\n",
    "print(list(map(lambda x: x*x, range(5))))"
   ]
  },
  {
   "cell_type": "code",
   "execution_count": null,
   "metadata": {},
   "outputs": [
    {
     "name": "stdout",
     "output_type": "stream",
     "text": [
      "285\n",
      "285\n"
     ]
    }
   ],
   "source": [
    "# what does this function do?\n",
    "from functools import reduce\n",
    "s1 = reduce(lambda x, y: x+y, map(lambda x: x**2, range(1,10))) #reduce(function, range)\n",
    "print(s1)\n",
    "\n",
    "s = 0\n",
    "for i in range(10):\n",
    "    s += square(i)\n",
    "\n",
    "print(s)"
   ]
  },
  {
   "cell_type": "markdown",
   "metadata": {},
   "source": [
    "## Recursive functions "
   ]
  },
  {
   "cell_type": "code",
   "execution_count": null,
   "metadata": {},
   "outputs": [
    {
     "name": "stdout",
     "output_type": "stream",
     "text": [
      "[1, 1, 2, 3, 5, 8, 13, 21, 34, 55]\n"
     ]
    }
   ],
   "source": [
    "def fib1(n):\n",
    "    \"\"\"Fib with recursion.\"\"\"\n",
    "\n",
    "    # base case\n",
    "    if n==0 or n==1:\n",
    "        return 1\n",
    "    # recursive case\n",
    "    else:\n",
    "        return fib1(n-1) + fib1(n-2)\n",
    "\n",
    "    \n",
    "print ([fib1(i) for i in range(10)])"
   ]
  },
  {
   "cell_type": "code",
   "execution_count": null,
   "metadata": {},
   "outputs": [
    {
     "name": "stdout",
     "output_type": "stream",
     "text": [
      "[1, 1, 2, 3, 5, 8, 13, 21, 34, 55]\n"
     ]
    }
   ],
   "source": [
    "# In Python, a more efficient version that does not use recursion is\n",
    "\n",
    "def fib2(n):\n",
    "    \"\"\"Fib without recursion.\"\"\"\n",
    "    a, b = 0, 1\n",
    "    for i in range(1, n+1):\n",
    "        a, b = b, a + b\n",
    "    return b\n",
    "\n",
    "print ([fib2(i) for i in range(10)])"
   ]
  },
  {
   "cell_type": "code",
   "execution_count": null,
   "metadata": {},
   "outputs": [
    {
     "name": "stdout",
     "output_type": "stream",
     "text": [
      "9.54 ms ± 650 µs per loop (mean ± std. dev. of 7 runs, 100 loops each)\n",
      "4.6 µs ± 319 ns per loop (mean ± std. dev. of 7 runs, 100,000 loops each)\n"
     ]
    }
   ],
   "source": [
    "# check indeed the timing:\n",
    "\n",
    "%timeit fib1(20)\n",
    "%timeit fib2(20)\n"
   ]
  },
  {
   "cell_type": "markdown",
   "metadata": {},
   "source": [
    "## Iterators\n",
    "\n",
    "Iterators represent streams of values. Because only one value is consumed at a time, they use very little memory. Use of iterators is very helpful for working with data sets too large to fit into RAM."
   ]
  },
  {
   "cell_type": "code",
   "execution_count": null,
   "metadata": {},
   "outputs": [
    {
     "name": "stdout",
     "output_type": "stream",
     "text": [
      "1\n",
      "2\n",
      "3\n"
     ]
    },
    {
     "ename": "StopIteration",
     "evalue": "",
     "output_type": "error",
     "traceback": [
      "\u001b[1;31m---------------------------------------------------------------------------\u001b[0m",
      "\u001b[1;31mStopIteration\u001b[0m                             Traceback (most recent call last)",
      "Input \u001b[1;32mIn [32]\u001b[0m, in \u001b[0;36m<cell line: 9>\u001b[1;34m()\u001b[0m\n\u001b[0;32m      7\u001b[0m \u001b[38;5;28mprint\u001b[39m (\u001b[38;5;28mnext\u001b[39m(x_iter))\n\u001b[0;32m      8\u001b[0m \u001b[38;5;28mprint\u001b[39m (\u001b[38;5;28mnext\u001b[39m(x_iter))\n\u001b[1;32m----> 9\u001b[0m \u001b[38;5;28mprint\u001b[39m (\u001b[38;5;28;43mnext\u001b[39;49m\u001b[43m(\u001b[49m\u001b[43mx_iter\u001b[49m\u001b[43m)\u001b[49m)\n",
      "\u001b[1;31mStopIteration\u001b[0m: "
     ]
    }
   ],
   "source": [
    "# Iterators can be created from sequences with the built-in function iter()\n",
    "\n",
    "xs = [1,2,3]\n",
    "x_iter = iter(xs)\n",
    "\n",
    "print (next(x_iter)) #next is built-in function\n",
    "print (next(x_iter))\n",
    "print (next(x_iter))\n",
    "print (next(x_iter))"
   ]
  },
  {
   "cell_type": "code",
   "execution_count": null,
   "metadata": {},
   "outputs": [
    {
     "name": "stdout",
     "output_type": "stream",
     "text": [
      "1\n",
      "2\n",
      "3\n"
     ]
    }
   ],
   "source": [
    "# Most commonly, iterators are used (automatically) within a for loop\n",
    "# which terminates when it encouters a StopIteration exception\n",
    "\n",
    "x_iter = iter(xs)\n",
    "for x in x_iter:\n",
    "    print (x)"
   ]
  },
  {
   "cell_type": "markdown",
   "metadata": {},
   "source": [
    "## More on comprehensions"
   ]
  },
  {
   "cell_type": "code",
   "execution_count": null,
   "metadata": {},
   "outputs": [
    {
     "name": "stdout",
     "output_type": "stream",
     "text": [
      "<generator object <genexpr> at 0x000001AF26A205F0>\n",
      "[0, 1, 2, 3, 4, 5, 6, 7, 8, 9]\n",
      "{0, 1, 2, 3, 4, 5, 6, 7, 8, 9}\n",
      "{0: 'x', 1: 'x', 2: 'x', 3: 'x', 4: 'x', 5: 'x', 6: 'x', 7: 'x', 8: 'x', 9: 'x'}\n"
     ]
    }
   ],
   "source": [
    "# A generator expression\n",
    "\n",
    "print ((x for x in range(10)))\n",
    "\n",
    "# A list comprehesnnion\n",
    "\n",
    "print ([x for x in range(10)])\n",
    "\n",
    "# A set comprehension\n",
    "\n",
    "print ({x for x in range(10)})\n",
    "\n",
    "# A dictionary comprehension\n",
    "\n",
    "print ({x: \"x\" for x in range(10)})"
   ]
  },
  {
   "cell_type": "markdown",
   "metadata": {},
   "source": [
    "## Useful Modules\n",
    "\n",
    "You may want to have a look at the content of the following modules for further usage of (HO) functions:\n",
    "  - [operator](https://docs.python.org/3/library/operator.html)\n",
    "  - [functools](https://docs.python.org/3/library/functools.html)\n",
    "  - [itertools](https://docs.python.org/3/library/itertools.html)\n",
    "  - [toolz](https://pypi.org/project/toolz/)\n",
    "  - [funcy](https://pypi.org/project/funcy/)"
   ]
  },
  {
   "cell_type": "markdown",
   "metadata": {},
   "source": [
    "## Decorators\n",
    "\n",
    "Decorators are a type of HOF that take a function and return a wrapped function that provides additional useful properties.\n",
    "\n",
    "Examples:\n",
    "\n",
    "  - logging\n",
    "  - profiling (checking performance over time)\n",
    "  - Just-In-Time (JIT) compilation"
   ]
  },
  {
   "cell_type": "code",
   "execution_count": null,
   "metadata": {},
   "outputs": [],
   "source": [
    "def my_decorator(func):\n",
    "    def wrapper():\n",
    "        print(\"Something is happening before the function is called.\")\n",
    "        func()\n",
    "        print(\"Something is happening after the function is called.\")\n",
    "    return wrapper\n",
    "\n",
    "def say_whee():\n",
    "    print(\"Whee!\")\n",
    "\n",
    "say_whee = my_decorator(say_whee)"
   ]
  },
  {
   "cell_type": "code",
   "execution_count": null,
   "metadata": {},
   "outputs": [
    {
     "name": "stdout",
     "output_type": "stream",
     "text": [
      "Something is happening before the function is called.\n",
      "Whee!\n",
      "Something is happening after the function is called.\n"
     ]
    }
   ],
   "source": [
    "say_whee()"
   ]
  },
  {
   "cell_type": "markdown",
   "metadata": {},
   "source": [
    "Python allows you to use decorators in a simpler way with the @ symbol, sometimes called the “pie” syntax"
   ]
  },
  {
   "cell_type": "code",
   "execution_count": null,
   "metadata": {},
   "outputs": [],
   "source": [
    "def my_decorator(func):\n",
    "    def wrapper():\n",
    "        print(\"Something is happening before the function is called.\")\n",
    "        func()\n",
    "        print(\"Something is happening after the function is called.\")\n",
    "    return wrapper\n",
    "\n",
    "@my_decorator # say_whee = my_decorator(say_whee)\n",
    "def say_whee():\n",
    "    print(\"Whee!\")"
   ]
  },
  {
   "cell_type": "code",
   "execution_count": null,
   "metadata": {},
   "outputs": [
    {
     "name": "stdout",
     "output_type": "stream",
     "text": [
      "Something is happening before the function is called.\n",
      "Whee!\n",
      "Something is happening after the function is called.\n"
     ]
    }
   ],
   "source": [
    "say_whee()"
   ]
  },
  {
   "cell_type": "markdown",
   "metadata": {},
   "source": [
    "# Classes and Objects\n",
    "\n",
    "Old school object-oriented programming is possible and often used in python. Classes are defined similarly to standard object-oriented languages, with similar functionalities.\n",
    "\n",
    "The main python doc [page](https://docs.python.org/3/tutorial/classes.html) is worth reading through "
   ]
  },
  {
   "cell_type": "code",
   "execution_count": null,
   "metadata": {},
   "outputs": [
    {
     "name": "stdout",
     "output_type": "stream",
     "text": [
      "buddy 12\n",
      "3\n",
      "30\n"
     ]
    }
   ],
   "source": [
    "class Pet:\n",
    "    # the \"constructor\"\n",
    "    def __init__(self, name, age):  #inizialize the elements of the class\n",
    "        self.name=name\n",
    "        self.age=age\n",
    "    # class functions take the \"self\" parameter !!!\n",
    "    def set_name(self,name):\n",
    "        self.name=name\n",
    "    def convert_age(self,factor):\n",
    "        self.age*=factor\n",
    "\n",
    "buddy=Pet(\"buddy\",12)\n",
    "print (buddy.name, buddy.age)\n",
    "buddy.age=3\n",
    "print (buddy.age)\n",
    "buddy.convert_age(10)\n",
    "print (buddy.age)\n",
    "\n"
   ]
  },
  {
   "cell_type": "code",
   "execution_count": null,
   "metadata": {},
   "outputs": [
    {
     "name": "stdout",
     "output_type": "stream",
     "text": [
      "tobia\n",
      "70\n",
      "7.5\n"
     ]
    }
   ],
   "source": [
    "# ineritance is straightforward: subclasses\n",
    "class Dog(Pet): #derived class Dog \n",
    "    # the following variables is \"global\", i.e. holds for all \"Dog\" objects\n",
    "    species = \"mammal\"\n",
    "    # functions can be redefined as usual\n",
    "    def convert_age(self): #same function can be redefined in the subclass\n",
    "        self.age*=7\n",
    "    def set_species(self, species):\n",
    "        self.species = species\n",
    "        \n",
    "puppy=Dog(\"tobia\",10)\n",
    "print(puppy.name)\n",
    "puppy.convert_age()\n",
    "print(puppy.age)\n",
    "\n",
    "buddy.convert_age(0.5)\n",
    "print(buddy.age)\n",
    "\n"
   ]
  },
  {
   "cell_type": "code",
   "execution_count": null,
   "metadata": {},
   "outputs": [],
   "source": []
  }
 ],
 "metadata": {
  "kernelspec": {
   "display_name": "Python 3 (ipykernel)",
   "language": "python",
   "name": "python3"
  },
  "language_info": {
   "codemirror_mode": {
    "name": "ipython",
    "version": 3
   },
   "file_extension": ".py",
   "mimetype": "text/x-python",
   "name": "python",
   "nbconvert_exporter": "python",
   "pygments_lexer": "ipython3",
   "version": "3.9.12"
  }
 },
 "nbformat": 4,
 "nbformat_minor": 2
}
