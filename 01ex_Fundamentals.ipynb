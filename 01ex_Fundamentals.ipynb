{
 "cells": [
  {
   "cell_type": "markdown",
   "metadata": {},
   "source": [
    "0\\. Implement a function (whatever you want) and save it to a file (e.g. `function.py`). Import that file and use that function in this notebook.\n"
   ]
  },
  {
   "cell_type": "code",
   "execution_count": 3,
   "metadata": {},
   "outputs": [
    {
     "name": "stdout",
     "output_type": "stream",
     "text": [
      "def adder(x,y):\n",
      "    return x+y\n",
      "#Now this file is mine!\n"
     ]
    }
   ],
   "source": [
    "file = open(\"function.py\", \"w\") #be careful about the naming of a module\n",
    "file.write('''\\\n",
    "def adder(x,y):\n",
    "    return x+y\n",
    "''')\n",
    "file.close()\n",
    "\n",
    "file = open(\"function.py\", \"a\") # \"a\" in order not to overwrite what was previously written\n",
    "file.write(\"#Now this file is mine!\")\n",
    "file.close()\n",
    "\n",
    "file = open(\"function.py\", \"r\") # \"r\" to read\n",
    "print(file.read())\n",
    "file.close()\n",
    "\n",
    "# Create a new file and check whether it exists:\n",
    "\n",
    "#file = open(\"function.py\", \"x\") # \"x\" gives error because file already exists\n"
   ]
  },
  {
   "cell_type": "markdown",
   "metadata": {},
   "source": [
    "1\\. Write the following as a list comprehension"
   ]
  },
  {
   "cell_type": "code",
   "execution_count": 3,
   "metadata": {},
   "outputs": [
    {
     "name": "stdout",
     "output_type": "stream",
     "text": [
      "1) [(0, 0), (0, 1), (0, 2), (0, 3), (1, 0), (1, 1), (1, 2), (1, 3), (2, 0), (2, 1), (2, 2), (2, 3)]\n",
      "2) [(0, 0), (0, 1), (0, 2), (0, 3), (1, 0), (1, 1), (1, 2), (1, 3), (2, 0), (2, 1), (2, 2), (2, 3)]\n",
      "[0, 4, 16]\n",
      "[0, 4, 16]\n",
      "3\n"
     ]
    }
   ],
   "source": [
    "import function as f\n",
    "\n",
    "\n",
    "# 1)\n",
    "\n",
    "ans = []\n",
    "for i in range(3):\n",
    "    for j in range(4):\n",
    "        ans.append((i, j))\n",
    "print(\"1)\",ans)\n",
    "\n",
    "ans1 = [(i,j) for i in range(3) for j in range(4)]\n",
    "print(\"2)\",ans1)\n",
    "\n",
    "\n",
    "# 2)\n",
    "\n",
    "ans = map(lambda x: x*x, filter(lambda x: x%2 == 0, range(6)))\n",
    "print(list(ans))\n",
    "\n",
    "ans2 = [i for i in map(lambda x: x**2, filter(lambda x: x%2 == 0, range(6)))]\n",
    "print(ans2)\n",
    "\n",
    "print(f.adder(1,2))\n",
    "\n"
   ]
  },
  {
   "cell_type": "markdown",
   "metadata": {},
   "source": [
    "2\\. Convert the following function into a pure function with no global variables or side effects"
   ]
  },
  {
   "cell_type": "code",
   "execution_count": 4,
   "metadata": {},
   "outputs": [
    {
     "name": "stdout",
     "output_type": "stream",
     "text": [
      "[1, 2, 3, 0, 1, 2, 3, 4]\n",
      "[1, 2, 3, 0, 1, 2, 3, 4]\n",
      "[0, 1, 2, 3, 4]\n",
      "[1, 2, 3, 0, 1, 2, 3, 4]\n"
     ]
    }
   ],
   "source": [
    "x = 5\n",
    "def f(alist):\n",
    "    for i in range(x):\n",
    "         alist.append(i)\n",
    "    return alist\n",
    "\n",
    "alist = [1,2,3]\n",
    "ans = f(alist)\n",
    "print (ans)\n",
    "print (alist) # alist has been changed!\n",
    "\n",
    "def f1(y):\n",
    "    y = []\n",
    "    for i in range(5):\n",
    "        y.append(i)\n",
    "    return y\n",
    "\n",
    "f1(alist)\n",
    "ans = f1(alist)\n",
    "print(ans)\n",
    "print(alist) #alist stays the same as before"
   ]
  },
  {
   "cell_type": "markdown",
   "metadata": {},
   "source": [
    "3\\. Write a `decorator` hello that makes every wrapped function print “Hello!”, i.e. something like:\n",
    "\n",
    "```python\n",
    "@hello\n",
    "def square(x):\n",
    "    return x*x\n",
    "```\n",
    "\n"
   ]
  },
  {
   "cell_type": "code",
   "execution_count": 5,
   "metadata": {},
   "outputs": [
    {
     "name": "stdout",
     "output_type": "stream",
     "text": [
      "Hello!\n"
     ]
    }
   ],
   "source": [
    "def hello(func):\n",
    "    def wrapper():\n",
    "        print(\"Hello!\")\n",
    "        func()\n",
    "    return wrapper\n",
    "\n",
    "@hello\n",
    "def cube():\n",
    "    return 2**3\n",
    "\n",
    "\n",
    "#sayHello = hello(cube)\n",
    "cube()"
   ]
  },
  {
   "cell_type": "markdown",
   "metadata": {},
   "source": [
    "4\\. Write the factorial function so that it a) does and b) does not use recursion."
   ]
  },
  {
   "cell_type": "code",
   "execution_count": 6,
   "metadata": {},
   "outputs": [
    {
     "name": "stdout",
     "output_type": "stream",
     "text": [
      "[1, 1, 2, 6, 24, 120, 720, 5040, 40320, 362880]\n",
      "[1, 1, 2, 6, 24, 120, 720, 5040, 40320, 362880]\n",
      "4.51 µs ± 477 ns per loop (mean ± std. dev. of 7 runs, 100,000 loops each)\n",
      "The slowest run took 5.48 times longer than the fastest. This could mean that an intermediate result is being cached.\n",
      "4.43 µs ± 2.03 µs per loop (mean ± std. dev. of 7 runs, 1,000,000 loops each)\n"
     ]
    }
   ],
   "source": [
    "def factorialRec(n): #with recursion\n",
    "    if type(n) != int:\n",
    "        print(\"Error: argument must be an integer\")\n",
    "        return\n",
    "    if n < 0:\n",
    "        print(\"Error: argument must be a positive integer\")\n",
    "        return\n",
    "    if n == 0:\n",
    "        return 1\n",
    "    else:\n",
    "        return n*factorialRec(n-1)\n",
    "    \n",
    "f = [factorialRec(x) for x in range(10)]\n",
    "print(f)\n",
    "\n",
    "def factorial(n): #no recursion\n",
    "    if type(n) != int:\n",
    "        print(\"Error: argument must be an integer\")\n",
    "        return\n",
    "    if n < 0:\n",
    "        print(\"Error: argument must be a positive integer\")\n",
    "        return\n",
    "    if n == 0:\n",
    "        return 1\n",
    "    else:\n",
    "        for i in range(1,n):\n",
    "            n *= i\n",
    "    return n\n",
    "\n",
    "f1 = [factorial(x) for x in range(10)]\n",
    "print(f1)\n",
    "\n",
    "%timeit factorialRec(20)\n",
    "%timeit factorial(20)\n"
   ]
  },
  {
   "cell_type": "markdown",
   "metadata": {},
   "source": [
    "5\\. Use HOFs (zip in particular) to compute the weight of a circle, a disk and a sphere, assuming different radii and different densities:\n",
    "\n",
    "```python\n",
    "densities = {\"Al\":[0.5,1,2],\"Fe\":[3,4,5],\"Pb\": [15,20,30]}\n",
    "radii = [1,2,3]\n",
    "```\n",
    "\n",
    "where the entries of the dictionary's values are the linear, superficial and volumetric densities of the materials respectively.\n",
    "\n",
    "In particular define a list of three lambda functions using a comprehension that computes the circumference, the area and the volume for a given radius.\n"
   ]
  },
  {
   "cell_type": "code",
   "execution_count": 75,
   "metadata": {},
   "outputs": [
    {
     "name": "stdout",
     "output_type": "stream",
     "text": [
      "[0.5, 1, 2]\n",
      "{'Al': {'circle': {1: 1.0, 2: 2.0, 3: 3.0}, 'disk': {1: 4, 2: 16, 3: 36}, 'sphere': {1: 2.6666666666666665, 2: 21.333333333333332, 3: 72.0}}, 'Fe': {'circle': {1: 6, 2: 12, 3: 18}, 'disk': {1: 16, 2: 64, 3: 144}, 'sphere': {1: 6.666666666666666, 2: 53.33333333333333, 3: 180.0}}, 'Pb': {'circle': {1: 30, 2: 60, 3: 90}, 'disk': {1: 80, 2: 320, 3: 720}, 'sphere': {1: 40.0, 2: 320.0, 3: 1080.0}}}\n"
     ]
    }
   ],
   "source": [
    "import math as m\n",
    "\n",
    "densities = {\"Al\":[0.5,1,2],\"Fe\":[3,4,5],\"Pb\": [15,20,30]}\n",
    "radii = [1,2,3]\n",
    "radius = 2\n",
    "\n",
    "# Weight of circle, disk and sphere of radius 2\n",
    "\n",
    "#shapes = [\"circle\", \"disk\", \"sphere\"]\n",
    "\n",
    "#def circumference(x):\n",
    "#    return 2*m.pi*x\n",
    "\n",
    "#def area(x):\n",
    "#    return 4*m.pi*x**2\n",
    "\n",
    "#def volume(x):\n",
    "#    return 4/3*m.pi*x**3\n",
    "\n",
    "funcs = {\"circle\": lambda x: 2*x, \"disk\": lambda x: 4*x**2, \"sphere\": lambda x: 4/3*x**3}\n",
    "# UNITS OF PI\n",
    "\n",
    "#d = {k:v for k in radii for v in [0]*len(radii)}\n",
    "\n",
    "#d1 = {k:{k:v for k in radii for v in [0]*len(radii)} for k in shapes}\n",
    "\n",
    "d2 = {key:{key:{key:v for key in radii for v in [0]*len(radii)} for key in funcs.keys()} for key in densities.keys()}\n",
    "#print(d2)\n",
    "\n",
    "print(densities[\"Al\"])\n",
    "\n",
    "for k in densities.keys():\n",
    "    for s,i in zip(funcs.keys(),densities[k]):\n",
    "        for r in radii:\n",
    "            d2[k][s][r] = funcs[s](r)*i\n",
    "\n",
    "print(d2)\n",
    " \n",
    "\n"
   ]
  },
  {
   "cell_type": "markdown",
   "metadata": {},
   "source": [
    "6\\. Edit the class defintion to add an instance attribute of is_hungry = True to the Dog class. Then add a method called eat() which changes the value of is_hungry to False when called. Figure out the best way to feed each dog and then output “My dogs are hungry.” if all are hungry or “My dogs are not hungry.” if all are not hungry. The final output should look like this:\n",
    "\n",
    "`I have 3 dogs. \n",
    "Tom is 6. \n",
    "Fletcher is 7. \n",
    "Larry is 9. \n",
    "And they're all mammals, of course. \n",
    "My dogs are not hungry.\n",
    "`\n",
    "\n",
    "```python\n",
    "# Parent class\n",
    "class Dog:\n",
    "\n",
    "    # Class attribute\n",
    "    species = 'mammal'\n",
    "\n",
    "    # Initializer / Instance attributes\n",
    "    def __init__(self, name, age):\n",
    "        self.name = name\n",
    "        self.age = age\n",
    "\n",
    "    # instance method\n",
    "    def description(self):\n",
    "        return \"{} is {} years old\".format(self.name, self.age)\n",
    "\n",
    "    # instance method\n",
    "    def speak(self, sound):\n",
    "        return \"{} says {}\".format(self.name, sound)\n",
    "\n",
    "# Child class (inherits from Dog class)\n",
    "class RussellTerrier(Dog):\n",
    "    def run(self, speed):\n",
    "        return \"{} runs {}\".format(self.name, speed)\n",
    "\n",
    "# Child class (inherits from Dog class)\n",
    "class Bulldog(Dog):\n",
    "    def run(self, speed):\n",
    "        return \"{} runs {}\".format(self.name, speed)\n",
    "```"
   ]
  },
  {
   "cell_type": "code",
   "execution_count": null,
   "metadata": {},
   "outputs": [],
   "source": []
  },
  {
   "cell_type": "markdown",
   "metadata": {},
   "source": [
    "7. Find all primes below a certain number N and then compute the time it takes the algorithm to find them"
   ]
  },
  {
   "cell_type": "code",
   "execution_count": 62,
   "metadata": {},
   "outputs": [
    {
     "name": "stdout",
     "output_type": "stream",
     "text": [
      "9592\n"
     ]
    }
   ],
   "source": [
    "#easiest way: find primes or eliminate non primes? Or iterative: if is multiple of n, as in is_even? \n",
    "#1 is not prime; a prime has exactly 2 distinct divisors\n",
    "\n",
    "def find_primes_below(N): #find primes\n",
    "    primes = []\n",
    "    for i in range(1,N+1):\n",
    "        divisor_count = 0\n",
    "        for j in range(1,i+1):\n",
    "            if i%j == 0: #if j is divisor of i\n",
    "                divisor_count += 1\n",
    "                if divisor_count > 2: break\n",
    "        if divisor_count == 2:\n",
    "            primes.append(i)\n",
    "    return primes\n",
    "    \n",
    "l = find_primes_below(100000)\n",
    "print(len(l))"
   ]
  },
  {
   "cell_type": "code",
   "execution_count": null,
   "metadata": {},
   "outputs": [],
   "source": []
  }
 ],
 "metadata": {
  "kernelspec": {
   "display_name": "Python 3.9.12 ('base')",
   "language": "python",
   "name": "python3"
  },
  "language_info": {
   "codemirror_mode": {
    "name": "ipython",
    "version": 3
   },
   "file_extension": ".py",
   "mimetype": "text/x-python",
   "name": "python",
   "nbconvert_exporter": "python",
   "pygments_lexer": "ipython3",
   "version": "3.9.12"
  },
  "vscode": {
   "interpreter": {
    "hash": "ad2bdc8ecc057115af97d19610ffacc2b4e99fae6737bb82f5d7fb13d2f2c186"
   }
  }
 },
 "nbformat": 4,
 "nbformat_minor": 2
}
