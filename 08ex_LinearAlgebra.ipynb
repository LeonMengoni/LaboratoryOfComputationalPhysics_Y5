{
 "cells": [
  {
   "cell_type": "markdown",
   "metadata": {},
   "source": [
    "1\\. **PCA on 3D dataset**\n",
    "\n",
    "* Generate a dataset with 3 features each with N entries (N being ${\\cal O}(1000)$). With $N(\\mu,\\sigma)$ the normali distribution with mean $\\mu$ and $\\sigma$  standard deviation, generate the 3 variables $x_{1,2,3}$ such that:\n",
    "    * $x_1$ is distributed as $N(0,1)$\n",
    "    * $x_2$ is distributed as $x_1+N(0,3)$\n",
    "    * $x_3$ is given by $2x_1+x_2$\n",
    "* Find the eigenvectors and eigenvalues of the covariance matrix of the dataset\n",
    "* Find the eigenvectors and eigenvalues using SVD. Check that the two procedures yield to same result\n",
    "* What percent of the total dataset's variability is explained by the principal components? Given how the dataset was constructed, do these make sense? Reduce the dimensionality of the system so that at least 99% of the total variability is retained.\n",
    "* Redefine the data in the basis yielded by the PCA procedure\n",
    "* Plot the data points in the original and the new coordiantes as a set of scatter plots. Your final figure should have 2 rows of 3 plots each, where the columns show the (0,1), (0,2) and (1,2) proejctions.\n"
   ]
  },
  {
   "cell_type": "code",
   "execution_count": 76,
   "metadata": {},
   "outputs": [
    {
     "name": "stdout",
     "output_type": "stream",
     "text": [
      "[ 2.69040970e+01+0.j -2.11443971e-15+0.j  2.02683591e+00+0.j]\n",
      "[[-0.11204534 -0.81649658  0.56637371]\n",
      " [-0.58161795 -0.40824829 -0.70360067]\n",
      " [-0.80570863  0.40824829  0.42914675]]\n",
      "[2.69040970e+01 2.02683591e+00 3.19623520e-31]\n",
      "[[-0.11204534  0.56637371 -0.81649658]\n",
      " [-0.58161795 -0.70360067 -0.40824829]\n",
      " [-0.80570863  0.42914675  0.40824829]]\n"
     ]
    }
   ],
   "source": [
    "import numpy as np\n",
    "from scipy import linalg as la\n",
    "from matplotlib import pyplot as plt\n",
    "\n",
    "N = 2000\n",
    "mu1, sigma1 = 0,1\n",
    "x1 = np.random.normal(mu1, sigma1, N)\n",
    "mu2, sigma2 = 0,3\n",
    "x2 = x1 + np.random.normal(mu2, sigma2, N)\n",
    "x3 = 2*x1 + x2\n",
    "X = np.c_[x1,x2,x3].T\n",
    "averages = np.mean(X, axis = 1).reshape(3,1)\n",
    "#print(averages)\n",
    "X -= averages\n",
    "#print(X)\n",
    "\n",
    "\n",
    "l, V = la.eig(np.cov(X))\n",
    "print(l)\n",
    "print(V)\n",
    "\n",
    "U, spectrum, Vt = np.linalg.svd(X)\n",
    "#print(U, U.shape)\n",
    "#print(spectrum, spectrum.shape)\n",
    "#print(Vt, Vt.shape)\n",
    "l_svd = spectrum**2/(N-1)\n",
    "V_svd = U\n",
    "\n",
    "print(l_svd)\n",
    "print(V_svd)"
   ]
  },
  {
   "cell_type": "markdown",
   "metadata": {},
   "source": [
    "4\\. **PCA on the MAGIC dataset** (optional)\n",
    "\n",
    "Perform a PCA on the magic04.data dataset"
   ]
  },
  {
   "cell_type": "code",
   "execution_count": null,
   "metadata": {},
   "outputs": [],
   "source": [
    "# get the dataset and its description on the proper data directory\n",
    "!wget https://archive.ics.uci.edu/ml/machine-learning-databases/magic/magic04.data -P ~/data/\n",
    "!wget https://archive.ics.uci.edu/ml/machine-learning-databases/magic/magic04.names -P ~/data/ "
   ]
  }
 ],
 "metadata": {
  "kernelspec": {
   "display_name": "base",
   "language": "python",
   "name": "python3"
  },
  "language_info": {
   "codemirror_mode": {
    "name": "ipython",
    "version": 3
   },
   "file_extension": ".py",
   "mimetype": "text/x-python",
   "name": "python",
   "nbconvert_exporter": "python",
   "pygments_lexer": "ipython3",
   "version": "3.9.12 (main, Apr  4 2022, 05:22:27) [MSC v.1916 64 bit (AMD64)]"
  },
  "vscode": {
   "interpreter": {
    "hash": "ad2bdc8ecc057115af97d19610ffacc2b4e99fae6737bb82f5d7fb13d2f2c186"
   }
  }
 },
 "nbformat": 4,
 "nbformat_minor": 2
}
